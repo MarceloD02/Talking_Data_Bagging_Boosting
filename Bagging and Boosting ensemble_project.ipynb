{
 "cells": [
  {
   "cell_type": "markdown",
   "metadata": {},
   "source": [
    "Marcelo Goncalves\n",
    "\n",
    "This project is about business.\n",
    "the idea in this project is to predict the probability of a click is a fraud or not in the Chinese company by looking at features like ip address operating system, device type, time of click..."
   ]
  },
  {
   "cell_type": "markdown",
   "metadata": {},
   "source": [
    "During the building of this project, we will doing the following steps:\n",
    "\n",
    "1. Explore the dataset for anomalies and missing values and take corrective actions if necessary.\n",
    "\n",
    "2. looking Which column has maximum number of unique values present among all the available columns\n",
    "\n",
    "3. Use an appropriate technique to get rid of all the apps that are very rare (say which comprise of less                than 20% clicks) and plot the rest..** \n",
    "\n",
    "4. Using Pandas derive new features such as - 'day_of_week' , 'day_of_year' , 'month' , and 'hour' as                  float/int datatypes using the 'click_time' column . Add the newly derived columns in original dataset.**\n",
    "\n",
    "5. Divide the data into training and testing subsets :\n",
    "Train_data = 80% , Testing_data = 20%) and check the average download rates('is_attributed') for train and test data, scores should be comparable.**\n",
    "\n",
    "6. Apply XGBoostClassifier with default parameters on training data and make first 10 prediction for Test data.          NOTE: Use y_pred = model.predict_proba(X_test) since we need probabilities to compute AUC.** \n",
    "\n",
    "7. On evaluating the predictions made by the model what is the AUC/ROC score with default hyperparameters.**\n",
    "\n",
    "8. Compute feature importance score and name the top 5 features/columns .**\n",
    "\n",
    "9. Apply BaggingClassifier with base_estimator LogisticRegression and compute AUC/ROC score.\n",
    "\n",
    "10.  On the basis of AUC/ROC score which one will you choose from BaggingClassifier and XGBoostClassifier and              why?What does AUC/ROC score signifies?\n",
    "\n",
    "11.  What is the accuracy for BaggingClassifier and XGBoostClassifier?()"
   ]
  },
  {
   "cell_type": "code",
   "execution_count": 1,
   "metadata": {},
   "outputs": [],
   "source": [
    "import numpy as np\n",
    "import pandas as pd\n",
    "from matplotlib import pyplot as plt\n",
    "import seaborn as sns\n",
    "import warnings\n",
    "warnings.filterwarnings('ignore')\n",
    "from scipy.stats import zscore\n",
    "%matplotlib inline"
   ]
  },
  {
   "cell_type": "code",
   "execution_count": 2,
   "metadata": {},
   "outputs": [],
   "source": [
    "data=pd.read_csv(\"C:\\\\Users\\\\marce\\\\OneDrive\\\\Ambiente de Trabalho\\\\DataScience\\\\Tree\\\\talking_data.csv\")"
   ]
  },
  {
   "cell_type": "markdown",
   "metadata": {},
   "source": [
    "# Explore the dataset for anomalies and missing values and take corrective actions if necessary.*"
   ]
  },
  {
   "cell_type": "code",
   "execution_count": 3,
   "metadata": {},
   "outputs": [
    {
     "name": "stdout",
     "output_type": "stream",
     "text": [
      "(100000, 8)\n",
      "Index(['ip', 'app', 'device', 'os', 'channel', 'click_time', 'attributed_time',\n",
      "       'is_attributed'],\n",
      "      dtype='object')\n",
      "<class 'pandas.core.frame.DataFrame'>\n",
      "RangeIndex: 100000 entries, 0 to 99999\n",
      "Data columns (total 8 columns):\n",
      " #   Column           Non-Null Count   Dtype \n",
      "---  ------           --------------   ----- \n",
      " 0   ip               100000 non-null  int64 \n",
      " 1   app              100000 non-null  int64 \n",
      " 2   device           100000 non-null  int64 \n",
      " 3   os               100000 non-null  int64 \n",
      " 4   channel          100000 non-null  int64 \n",
      " 5   click_time       100000 non-null  object\n",
      " 6   attributed_time  227 non-null     object\n",
      " 7   is_attributed    100000 non-null  int64 \n",
      "dtypes: int64(6), object(2)\n",
      "memory usage: 6.1+ MB\n"
     ]
    },
    {
     "data": {
      "text/html": [
       "<div>\n",
       "<style scoped>\n",
       "    .dataframe tbody tr th:only-of-type {\n",
       "        vertical-align: middle;\n",
       "    }\n",
       "\n",
       "    .dataframe tbody tr th {\n",
       "        vertical-align: top;\n",
       "    }\n",
       "\n",
       "    .dataframe thead th {\n",
       "        text-align: right;\n",
       "    }\n",
       "</style>\n",
       "<table border=\"1\" class=\"dataframe\">\n",
       "  <thead>\n",
       "    <tr style=\"text-align: right;\">\n",
       "      <th></th>\n",
       "      <th>ip</th>\n",
       "      <th>app</th>\n",
       "      <th>device</th>\n",
       "      <th>os</th>\n",
       "      <th>channel</th>\n",
       "      <th>is_attributed</th>\n",
       "    </tr>\n",
       "  </thead>\n",
       "  <tbody>\n",
       "    <tr>\n",
       "      <th>count</th>\n",
       "      <td>100000.000000</td>\n",
       "      <td>100000.00000</td>\n",
       "      <td>100000.000000</td>\n",
       "      <td>100000.000000</td>\n",
       "      <td>100000.000000</td>\n",
       "      <td>100000.000000</td>\n",
       "    </tr>\n",
       "    <tr>\n",
       "      <th>mean</th>\n",
       "      <td>91255.879670</td>\n",
       "      <td>12.04788</td>\n",
       "      <td>21.771250</td>\n",
       "      <td>22.818280</td>\n",
       "      <td>268.832460</td>\n",
       "      <td>0.002270</td>\n",
       "    </tr>\n",
       "    <tr>\n",
       "      <th>std</th>\n",
       "      <td>69835.553661</td>\n",
       "      <td>14.94150</td>\n",
       "      <td>259.667767</td>\n",
       "      <td>55.943136</td>\n",
       "      <td>129.724248</td>\n",
       "      <td>0.047591</td>\n",
       "    </tr>\n",
       "    <tr>\n",
       "      <th>min</th>\n",
       "      <td>9.000000</td>\n",
       "      <td>1.00000</td>\n",
       "      <td>0.000000</td>\n",
       "      <td>0.000000</td>\n",
       "      <td>3.000000</td>\n",
       "      <td>0.000000</td>\n",
       "    </tr>\n",
       "    <tr>\n",
       "      <th>25%</th>\n",
       "      <td>40552.000000</td>\n",
       "      <td>3.00000</td>\n",
       "      <td>1.000000</td>\n",
       "      <td>13.000000</td>\n",
       "      <td>145.000000</td>\n",
       "      <td>0.000000</td>\n",
       "    </tr>\n",
       "    <tr>\n",
       "      <th>50%</th>\n",
       "      <td>79827.000000</td>\n",
       "      <td>12.00000</td>\n",
       "      <td>1.000000</td>\n",
       "      <td>18.000000</td>\n",
       "      <td>258.000000</td>\n",
       "      <td>0.000000</td>\n",
       "    </tr>\n",
       "    <tr>\n",
       "      <th>75%</th>\n",
       "      <td>118252.000000</td>\n",
       "      <td>15.00000</td>\n",
       "      <td>1.000000</td>\n",
       "      <td>19.000000</td>\n",
       "      <td>379.000000</td>\n",
       "      <td>0.000000</td>\n",
       "    </tr>\n",
       "    <tr>\n",
       "      <th>max</th>\n",
       "      <td>364757.000000</td>\n",
       "      <td>551.00000</td>\n",
       "      <td>3867.000000</td>\n",
       "      <td>866.000000</td>\n",
       "      <td>498.000000</td>\n",
       "      <td>1.000000</td>\n",
       "    </tr>\n",
       "  </tbody>\n",
       "</table>\n",
       "</div>"
      ],
      "text/plain": [
       "                  ip           app         device             os  \\\n",
       "count  100000.000000  100000.00000  100000.000000  100000.000000   \n",
       "mean    91255.879670      12.04788      21.771250      22.818280   \n",
       "std     69835.553661      14.94150     259.667767      55.943136   \n",
       "min         9.000000       1.00000       0.000000       0.000000   \n",
       "25%     40552.000000       3.00000       1.000000      13.000000   \n",
       "50%     79827.000000      12.00000       1.000000      18.000000   \n",
       "75%    118252.000000      15.00000       1.000000      19.000000   \n",
       "max    364757.000000     551.00000    3867.000000     866.000000   \n",
       "\n",
       "             channel  is_attributed  \n",
       "count  100000.000000  100000.000000  \n",
       "mean      268.832460       0.002270  \n",
       "std       129.724248       0.047591  \n",
       "min         3.000000       0.000000  \n",
       "25%       145.000000       0.000000  \n",
       "50%       258.000000       0.000000  \n",
       "75%       379.000000       0.000000  \n",
       "max       498.000000       1.000000  "
      ]
     },
     "execution_count": 3,
     "metadata": {},
     "output_type": "execute_result"
    }
   ],
   "source": [
    "print(data.shape)\n",
    "print (data.columns)\n",
    "data.info() \n",
    "data.describe()"
   ]
  },
  {
   "cell_type": "markdown",
   "metadata": {},
   "source": [
    "\n",
    "As we can see in the information, we have 6 numerical variables and 2 categorical. Also 100000 rows and 8 column\n"
   ]
  },
  {
   "cell_type": "code",
   "execution_count": 4,
   "metadata": {},
   "outputs": [
    {
     "name": "stdout",
     "output_type": "stream",
     "text": [
      "ip                     0\n",
      "app                    0\n",
      "device                 0\n",
      "os                     0\n",
      "channel                0\n",
      "click_time             0\n",
      "attributed_time    99773\n",
      "is_attributed          0\n",
      "dtype: int64\n"
     ]
    }
   ],
   "source": [
    "# Looking for missing value\n",
    "print (data.isnull().sum())\n"
   ]
  },
  {
   "cell_type": "markdown",
   "metadata": {},
   "source": [
    " we have  99773 missing value in attributed_time ."
   ]
  },
  {
   "cell_type": "code",
   "execution_count": 3,
   "metadata": {},
   "outputs": [
    {
     "name": "stdout",
     "output_type": "stream",
     "text": [
      "<class 'pandas.core.frame.DataFrame'>\n",
      "RangeIndex: 100000 entries, 0 to 99999\n",
      "Data columns (total 7 columns):\n",
      " #   Column         Non-Null Count   Dtype \n",
      "---  ------         --------------   ----- \n",
      " 0   ip             100000 non-null  int64 \n",
      " 1   app            100000 non-null  int64 \n",
      " 2   device         100000 non-null  int64 \n",
      " 3   os             100000 non-null  int64 \n",
      " 4   channel        100000 non-null  int64 \n",
      " 5   click_time     100000 non-null  object\n",
      " 6   is_attributed  100000 non-null  int64 \n",
      "dtypes: int64(6), object(1)\n",
      "memory usage: 5.3+ MB\n",
      "None\n"
     ]
    }
   ],
   "source": [
    "# les't drop the column attributed_time by creating a new variable called data1\n",
    "\n",
    "data1=data.drop('attributed_time',axis=1)\n",
    "print (data1.info())"
   ]
  },
  {
   "cell_type": "markdown",
   "metadata": {},
   "source": [
    "Now we do not have the colum attributed_time"
   ]
  },
  {
   "cell_type": "code",
   "execution_count": 6,
   "metadata": {},
   "outputs": [
    {
     "data": {
      "text/html": [
       "<div>\n",
       "<style scoped>\n",
       "    .dataframe tbody tr th:only-of-type {\n",
       "        vertical-align: middle;\n",
       "    }\n",
       "\n",
       "    .dataframe tbody tr th {\n",
       "        vertical-align: top;\n",
       "    }\n",
       "\n",
       "    .dataframe thead th {\n",
       "        text-align: right;\n",
       "    }\n",
       "</style>\n",
       "<table border=\"1\" class=\"dataframe\">\n",
       "  <thead>\n",
       "    <tr style=\"text-align: right;\">\n",
       "      <th></th>\n",
       "      <th>ip</th>\n",
       "      <th>app</th>\n",
       "      <th>device</th>\n",
       "      <th>os</th>\n",
       "      <th>channel</th>\n",
       "      <th>click_time</th>\n",
       "      <th>is_attributed</th>\n",
       "    </tr>\n",
       "  </thead>\n",
       "  <tbody>\n",
       "    <tr>\n",
       "      <th>0</th>\n",
       "      <td>87540</td>\n",
       "      <td>12</td>\n",
       "      <td>1</td>\n",
       "      <td>13</td>\n",
       "      <td>497</td>\n",
       "      <td>2017-11-07 09:30:38</td>\n",
       "      <td>0</td>\n",
       "    </tr>\n",
       "    <tr>\n",
       "      <th>1</th>\n",
       "      <td>105560</td>\n",
       "      <td>25</td>\n",
       "      <td>1</td>\n",
       "      <td>17</td>\n",
       "      <td>259</td>\n",
       "      <td>2017-11-07 13:40:27</td>\n",
       "      <td>0</td>\n",
       "    </tr>\n",
       "    <tr>\n",
       "      <th>2</th>\n",
       "      <td>101424</td>\n",
       "      <td>12</td>\n",
       "      <td>1</td>\n",
       "      <td>19</td>\n",
       "      <td>212</td>\n",
       "      <td>2017-11-07 18:05:24</td>\n",
       "      <td>0</td>\n",
       "    </tr>\n",
       "    <tr>\n",
       "      <th>3</th>\n",
       "      <td>94584</td>\n",
       "      <td>13</td>\n",
       "      <td>1</td>\n",
       "      <td>13</td>\n",
       "      <td>477</td>\n",
       "      <td>2017-11-07 04:58:08</td>\n",
       "      <td>0</td>\n",
       "    </tr>\n",
       "    <tr>\n",
       "      <th>4</th>\n",
       "      <td>68413</td>\n",
       "      <td>12</td>\n",
       "      <td>1</td>\n",
       "      <td>1</td>\n",
       "      <td>178</td>\n",
       "      <td>2017-11-09 09:00:09</td>\n",
       "      <td>0</td>\n",
       "    </tr>\n",
       "    <tr>\n",
       "      <th>...</th>\n",
       "      <td>...</td>\n",
       "      <td>...</td>\n",
       "      <td>...</td>\n",
       "      <td>...</td>\n",
       "      <td>...</td>\n",
       "      <td>...</td>\n",
       "      <td>...</td>\n",
       "    </tr>\n",
       "    <tr>\n",
       "      <th>99995</th>\n",
       "      <td>124883</td>\n",
       "      <td>11</td>\n",
       "      <td>1</td>\n",
       "      <td>19</td>\n",
       "      <td>122</td>\n",
       "      <td>2017-11-09 13:25:41</td>\n",
       "      <td>0</td>\n",
       "    </tr>\n",
       "    <tr>\n",
       "      <th>99996</th>\n",
       "      <td>85150</td>\n",
       "      <td>9</td>\n",
       "      <td>1</td>\n",
       "      <td>13</td>\n",
       "      <td>244</td>\n",
       "      <td>2017-11-07 11:25:43</td>\n",
       "      <td>0</td>\n",
       "    </tr>\n",
       "    <tr>\n",
       "      <th>99997</th>\n",
       "      <td>18839</td>\n",
       "      <td>3</td>\n",
       "      <td>1</td>\n",
       "      <td>13</td>\n",
       "      <td>19</td>\n",
       "      <td>2017-11-08 11:38:42</td>\n",
       "      <td>0</td>\n",
       "    </tr>\n",
       "    <tr>\n",
       "      <th>99998</th>\n",
       "      <td>114276</td>\n",
       "      <td>15</td>\n",
       "      <td>1</td>\n",
       "      <td>12</td>\n",
       "      <td>245</td>\n",
       "      <td>2017-11-08 17:55:21</td>\n",
       "      <td>0</td>\n",
       "    </tr>\n",
       "    <tr>\n",
       "      <th>99999</th>\n",
       "      <td>119349</td>\n",
       "      <td>14</td>\n",
       "      <td>1</td>\n",
       "      <td>15</td>\n",
       "      <td>401</td>\n",
       "      <td>2017-11-07 14:32:27</td>\n",
       "      <td>0</td>\n",
       "    </tr>\n",
       "  </tbody>\n",
       "</table>\n",
       "<p>100000 rows × 7 columns</p>\n",
       "</div>"
      ],
      "text/plain": [
       "           ip  app  device  os  channel           click_time  is_attributed\n",
       "0       87540   12       1  13      497  2017-11-07 09:30:38              0\n",
       "1      105560   25       1  17      259  2017-11-07 13:40:27              0\n",
       "2      101424   12       1  19      212  2017-11-07 18:05:24              0\n",
       "3       94584   13       1  13      477  2017-11-07 04:58:08              0\n",
       "4       68413   12       1   1      178  2017-11-09 09:00:09              0\n",
       "...       ...  ...     ...  ..      ...                  ...            ...\n",
       "99995  124883   11       1  19      122  2017-11-09 13:25:41              0\n",
       "99996   85150    9       1  13      244  2017-11-07 11:25:43              0\n",
       "99997   18839    3       1  13       19  2017-11-08 11:38:42              0\n",
       "99998  114276   15       1  12      245  2017-11-08 17:55:21              0\n",
       "99999  119349   14       1  15      401  2017-11-07 14:32:27              0\n",
       "\n",
       "[100000 rows x 7 columns]"
      ]
     },
     "execution_count": 6,
     "metadata": {},
     "output_type": "execute_result"
    }
   ],
   "source": [
    "data1 # by looking the data, we can see that, we have no NaN value anymore."
   ]
  },
  {
   "cell_type": "code",
   "execution_count": 7,
   "metadata": {},
   "outputs": [
    {
     "name": "stdout",
     "output_type": "stream",
     "text": [
      "['2017-11-07 09:30:38' '2017-11-07 13:40:27' '2017-11-07 18:05:24' ...\n",
      " '2017-11-09 04:21:28' '2017-11-07 09:33:14' '2017-11-09 13:25:41']\n"
     ]
    }
   ],
   "source": [
    "# let examine the column click_time because it was the only one object type that we have as you can see in the data1.info()\n",
    "\n",
    "print (data1['click_time'].unique())"
   ]
  },
  {
   "cell_type": "markdown",
   "metadata": {},
   "source": [
    "#  vizualize data"
   ]
  },
  {
   "cell_type": "code",
   "execution_count": 8,
   "metadata": {},
   "outputs": [
    {
     "data": {
      "text/plain": [
       "<AxesSubplot:xlabel='ip', ylabel='device'>"
      ]
     },
     "execution_count": 8,
     "metadata": {},
     "output_type": "execute_result"
    },
    {
     "data": {
      "image/png": "[encoded data removed]",
      "text/plain": [
       "<Figure size 432x288 with 1 Axes>"
      ]
     },
     "metadata": {
      "needs_background": "light"
     },
     "output_type": "display_data"
    }
   ],
   "source": [
    "# so, now let's do some plot and see the relationship between variables\n",
    "sns.scatterplot(x='ip',y='device',hue='is_attributed',data=data1)"
   ]
  },
  {
   "cell_type": "code",
   "execution_count": 9,
   "metadata": {},
   "outputs": [
    {
     "data": {
      "text/plain": [
       "<seaborn.axisgrid.PairGrid at 0x1d06da094f0>"
      ]
     },
     "execution_count": 9,
     "metadata": {},
     "output_type": "execute_result"
    },
    {
     "name": "stdout",
     "output_type": "stream",
     "text": [
      "Error in callback <function flush_figures at 0x000001D06B708D30> (for post_execute):\n"
     ]
    },
    {
     "ename": "KeyboardInterrupt",
     "evalue": "",
     "output_type": "error",
     "traceback": [
      "\u001b[1;31m---------------------------------------------------------------------------\u001b[0m",
      "\u001b[1;31mKeyboardInterrupt\u001b[0m                         Traceback (most recent call last)",
      "\u001b[1;32m~\\anaconda3\\lib\\site-packages\\ipykernel\\pylab\\backend_inline.py\u001b[0m in \u001b[0;36mflush_figures\u001b[1;34m()\u001b[0m\n\u001b[0;32m    119\u001b[0m         \u001b[1;31m# ignore the tracking, just draw and close all figures\u001b[0m\u001b[1;33m\u001b[0m\u001b[1;33m\u001b[0m\u001b[1;33m\u001b[0m\u001b[0m\n\u001b[0;32m    120\u001b[0m         \u001b[1;32mtry\u001b[0m\u001b[1;33m:\u001b[0m\u001b[1;33m\u001b[0m\u001b[1;33m\u001b[0m\u001b[0m\n\u001b[1;32m--> 121\u001b[1;33m             \u001b[1;32mreturn\u001b[0m \u001b[0mshow\u001b[0m\u001b[1;33m(\u001b[0m\u001b[1;32mTrue\u001b[0m\u001b[1;33m)\u001b[0m\u001b[1;33m\u001b[0m\u001b[1;33m\u001b[0m\u001b[0m\n\u001b[0m\u001b[0;32m    122\u001b[0m         \u001b[1;32mexcept\u001b[0m \u001b[0mException\u001b[0m \u001b[1;32mas\u001b[0m \u001b[0me\u001b[0m\u001b[1;33m:\u001b[0m\u001b[1;33m\u001b[0m\u001b[1;33m\u001b[0m\u001b[0m\n\u001b[0;32m    123\u001b[0m             \u001b[1;31m# safely show traceback if in IPython, else raise\u001b[0m\u001b[1;33m\u001b[0m\u001b[1;33m\u001b[0m\u001b[1;33m\u001b[0m\u001b[0m\n",
      "\u001b[1;32m~\\anaconda3\\lib\\site-packages\\ipykernel\\pylab\\backend_inline.py\u001b[0m in \u001b[0;36mshow\u001b[1;34m(close, block)\u001b[0m\n\u001b[0;32m     39\u001b[0m     \u001b[1;32mtry\u001b[0m\u001b[1;33m:\u001b[0m\u001b[1;33m\u001b[0m\u001b[1;33m\u001b[0m\u001b[0m\n\u001b[0;32m     40\u001b[0m         \u001b[1;32mfor\u001b[0m \u001b[0mfigure_manager\u001b[0m \u001b[1;32min\u001b[0m \u001b[0mGcf\u001b[0m\u001b[1;33m.\u001b[0m\u001b[0mget_all_fig_managers\u001b[0m\u001b[1;33m(\u001b[0m\u001b[1;33m)\u001b[0m\u001b[1;33m:\u001b[0m\u001b[1;33m\u001b[0m\u001b[1;33m\u001b[0m\u001b[0m\n\u001b[1;32m---> 41\u001b[1;33m             display(\n\u001b[0m\u001b[0;32m     42\u001b[0m                 \u001b[0mfigure_manager\u001b[0m\u001b[1;33m.\u001b[0m\u001b[0mcanvas\u001b[0m\u001b[1;33m.\u001b[0m\u001b[0mfigure\u001b[0m\u001b[1;33m,\u001b[0m\u001b[1;33m\u001b[0m\u001b[1;33m\u001b[0m\u001b[0m\n\u001b[0;32m     43\u001b[0m                 \u001b[0mmetadata\u001b[0m\u001b[1;33m=\u001b[0m\u001b[0m_fetch_figure_metadata\u001b[0m\u001b[1;33m(\u001b[0m\u001b[0mfigure_manager\u001b[0m\u001b[1;33m.\u001b[0m\u001b[0mcanvas\u001b[0m\u001b[1;33m.\u001b[0m\u001b[0mfigure\u001b[0m\u001b[1;33m)\u001b[0m\u001b[1;33m\u001b[0m\u001b[1;33m\u001b[0m\u001b[0m\n",
      "\u001b[1;32m~\\anaconda3\\lib\\site-packages\\IPython\\core\\display.py\u001b[0m in \u001b[0;36mdisplay\u001b[1;34m(include, exclude, metadata, transient, display_id, *objs, **kwargs)\u001b[0m\n\u001b[0;32m    311\u001b[0m             \u001b[0mpublish_display_data\u001b[0m\u001b[1;33m(\u001b[0m\u001b[0mdata\u001b[0m\u001b[1;33m=\u001b[0m\u001b[0mobj\u001b[0m\u001b[1;33m,\u001b[0m \u001b[0mmetadata\u001b[0m\u001b[1;33m=\u001b[0m\u001b[0mmetadata\u001b[0m\u001b[1;33m,\u001b[0m \u001b[1;33m**\u001b[0m\u001b[0mkwargs\u001b[0m\u001b[1;33m)\u001b[0m\u001b[1;33m\u001b[0m\u001b[1;33m\u001b[0m\u001b[0m\n\u001b[0;32m    312\u001b[0m         \u001b[1;32melse\u001b[0m\u001b[1;33m:\u001b[0m\u001b[1;33m\u001b[0m\u001b[1;33m\u001b[0m\u001b[0m\n\u001b[1;32m--> 313\u001b[1;33m             \u001b[0mformat_dict\u001b[0m\u001b[1;33m,\u001b[0m \u001b[0mmd_dict\u001b[0m \u001b[1;33m=\u001b[0m \u001b[0mformat\u001b[0m\u001b[1;33m(\u001b[0m\u001b[0mobj\u001b[0m\u001b[1;33m,\u001b[0m \u001b[0minclude\u001b[0m\u001b[1;33m=\u001b[0m\u001b[0minclude\u001b[0m\u001b[1;33m,\u001b[0m \u001b[0mexclude\u001b[0m\u001b[1;33m=\u001b[0m\u001b[0mexclude\u001b[0m\u001b[1;33m)\u001b[0m\u001b[1;33m\u001b[0m\u001b[1;33m\u001b[0m\u001b[0m\n\u001b[0m\u001b[0;32m    314\u001b[0m             \u001b[1;32mif\u001b[0m \u001b[1;32mnot\u001b[0m \u001b[0mformat_dict\u001b[0m\u001b[1;33m:\u001b[0m\u001b[1;33m\u001b[0m\u001b[1;33m\u001b[0m\u001b[0m\n\u001b[0;32m    315\u001b[0m                 \u001b[1;31m# nothing to display (e.g. _ipython_display_ took over)\u001b[0m\u001b[1;33m\u001b[0m\u001b[1;33m\u001b[0m\u001b[1;33m\u001b[0m\u001b[0m\n",
      "\u001b[1;32m~\\anaconda3\\lib\\site-packages\\IPython\\core\\formatters.py\u001b[0m in \u001b[0;36mformat\u001b[1;34m(self, obj, include, exclude)\u001b[0m\n\u001b[0;32m    178\u001b[0m             \u001b[0mmd\u001b[0m \u001b[1;33m=\u001b[0m \u001b[1;32mNone\u001b[0m\u001b[1;33m\u001b[0m\u001b[1;33m\u001b[0m\u001b[0m\n\u001b[0;32m    179\u001b[0m             \u001b[1;32mtry\u001b[0m\u001b[1;33m:\u001b[0m\u001b[1;33m\u001b[0m\u001b[1;33m\u001b[0m\u001b[0m\n\u001b[1;32m--> 180\u001b[1;33m                 \u001b[0mdata\u001b[0m \u001b[1;33m=\u001b[0m \u001b[0mformatter\u001b[0m\u001b[1;33m(\u001b[0m\u001b[0mobj\u001b[0m\u001b[1;33m)\u001b[0m\u001b[1;33m\u001b[0m\u001b[1;33m\u001b[0m\u001b[0m\n\u001b[0m\u001b[0;32m    181\u001b[0m             \u001b[1;32mexcept\u001b[0m\u001b[1;33m:\u001b[0m\u001b[1;33m\u001b[0m\u001b[1;33m\u001b[0m\u001b[0m\n\u001b[0;32m    182\u001b[0m                 \u001b[1;31m# FIXME: log the exception\u001b[0m\u001b[1;33m\u001b[0m\u001b[1;33m\u001b[0m\u001b[1;33m\u001b[0m\u001b[0m\n",
      "\u001b[1;32m<decorator-gen-2>\u001b[0m in \u001b[0;36m__call__\u001b[1;34m(self, obj)\u001b[0m\n",
      "\u001b[1;32m~\\anaconda3\\lib\\site-packages\\IPython\\core\\formatters.py\u001b[0m in \u001b[0;36mcatch_format_error\u001b[1;34m(method, self, *args, **kwargs)\u001b[0m\n\u001b[0;32m    222\u001b[0m     \u001b[1;34m\"\"\"show traceback on failed format call\"\"\"\u001b[0m\u001b[1;33m\u001b[0m\u001b[1;33m\u001b[0m\u001b[0m\n\u001b[0;32m    223\u001b[0m     \u001b[1;32mtry\u001b[0m\u001b[1;33m:\u001b[0m\u001b[1;33m\u001b[0m\u001b[1;33m\u001b[0m\u001b[0m\n\u001b[1;32m--> 224\u001b[1;33m         \u001b[0mr\u001b[0m \u001b[1;33m=\u001b[0m \u001b[0mmethod\u001b[0m\u001b[1;33m(\u001b[0m\u001b[0mself\u001b[0m\u001b[1;33m,\u001b[0m \u001b[1;33m*\u001b[0m\u001b[0margs\u001b[0m\u001b[1;33m,\u001b[0m \u001b[1;33m**\u001b[0m\u001b[0mkwargs\u001b[0m\u001b[1;33m)\u001b[0m\u001b[1;33m\u001b[0m\u001b[1;33m\u001b[0m\u001b[0m\n\u001b[0m\u001b[0;32m    225\u001b[0m     \u001b[1;32mexcept\u001b[0m \u001b[0mNotImplementedError\u001b[0m\u001b[1;33m:\u001b[0m\u001b[1;33m\u001b[0m\u001b[1;33m\u001b[0m\u001b[0m\n\u001b[0;32m    226\u001b[0m         \u001b[1;31m# don't warn on NotImplementedErrors\u001b[0m\u001b[1;33m\u001b[0m\u001b[1;33m\u001b[0m\u001b[1;33m\u001b[0m\u001b[0m\n",
      "\u001b[1;32m~\\anaconda3\\lib\\site-packages\\IPython\\core\\formatters.py\u001b[0m in \u001b[0;36m__call__\u001b[1;34m(self, obj)\u001b[0m\n\u001b[0;32m    339\u001b[0m                 \u001b[1;32mpass\u001b[0m\u001b[1;33m\u001b[0m\u001b[1;33m\u001b[0m\u001b[0m\n\u001b[0;32m    340\u001b[0m             \u001b[1;32melse\u001b[0m\u001b[1;33m:\u001b[0m\u001b[1;33m\u001b[0m\u001b[1;33m\u001b[0m\u001b[0m\n\u001b[1;32m--> 341\u001b[1;33m                 \u001b[1;32mreturn\u001b[0m \u001b[0mprinter\u001b[0m\u001b[1;33m(\u001b[0m\u001b[0mobj\u001b[0m\u001b[1;33m)\u001b[0m\u001b[1;33m\u001b[0m\u001b[1;33m\u001b[0m\u001b[0m\n\u001b[0m\u001b[0;32m    342\u001b[0m             \u001b[1;31m# Finally look for special method names\u001b[0m\u001b[1;33m\u001b[0m\u001b[1;33m\u001b[0m\u001b[1;33m\u001b[0m\u001b[0m\n\u001b[0;32m    343\u001b[0m             \u001b[0mmethod\u001b[0m \u001b[1;33m=\u001b[0m \u001b[0mget_real_method\u001b[0m\u001b[1;33m(\u001b[0m\u001b[0mobj\u001b[0m\u001b[1;33m,\u001b[0m \u001b[0mself\u001b[0m\u001b[1;33m.\u001b[0m\u001b[0mprint_method\u001b[0m\u001b[1;33m)\u001b[0m\u001b[1;33m\u001b[0m\u001b[1;33m\u001b[0m\u001b[0m\n",
      "\u001b[1;32m~\\anaconda3\\lib\\site-packages\\IPython\\core\\pylabtools.py\u001b[0m in \u001b[0;36m<lambda>\u001b[1;34m(fig)\u001b[0m\n\u001b[0;32m    246\u001b[0m \u001b[1;33m\u001b[0m\u001b[0m\n\u001b[0;32m    247\u001b[0m     \u001b[1;32mif\u001b[0m \u001b[1;34m'png'\u001b[0m \u001b[1;32min\u001b[0m \u001b[0mformats\u001b[0m\u001b[1;33m:\u001b[0m\u001b[1;33m\u001b[0m\u001b[1;33m\u001b[0m\u001b[0m\n\u001b[1;32m--> 248\u001b[1;33m         \u001b[0mpng_formatter\u001b[0m\u001b[1;33m.\u001b[0m\u001b[0mfor_type\u001b[0m\u001b[1;33m(\u001b[0m\u001b[0mFigure\u001b[0m\u001b[1;33m,\u001b[0m \u001b[1;32mlambda\u001b[0m \u001b[0mfig\u001b[0m\u001b[1;33m:\u001b[0m \u001b[0mprint_figure\u001b[0m\u001b[1;33m(\u001b[0m\u001b[0mfig\u001b[0m\u001b[1;33m,\u001b[0m \u001b[1;34m'png'\u001b[0m\u001b[1;33m,\u001b[0m \u001b[1;33m**\u001b[0m\u001b[0mkwargs\u001b[0m\u001b[1;33m)\u001b[0m\u001b[1;33m)\u001b[0m\u001b[1;33m\u001b[0m\u001b[1;33m\u001b[0m\u001b[0m\n\u001b[0m\u001b[0;32m    249\u001b[0m     \u001b[1;32mif\u001b[0m \u001b[1;34m'retina'\u001b[0m \u001b[1;32min\u001b[0m \u001b[0mformats\u001b[0m \u001b[1;32mor\u001b[0m \u001b[1;34m'png2x'\u001b[0m \u001b[1;32min\u001b[0m \u001b[0mformats\u001b[0m\u001b[1;33m:\u001b[0m\u001b[1;33m\u001b[0m\u001b[1;33m\u001b[0m\u001b[0m\n\u001b[0;32m    250\u001b[0m         \u001b[0mpng_formatter\u001b[0m\u001b[1;33m.\u001b[0m\u001b[0mfor_type\u001b[0m\u001b[1;33m(\u001b[0m\u001b[0mFigure\u001b[0m\u001b[1;33m,\u001b[0m \u001b[1;32mlambda\u001b[0m \u001b[0mfig\u001b[0m\u001b[1;33m:\u001b[0m \u001b[0mretina_figure\u001b[0m\u001b[1;33m(\u001b[0m\u001b[0mfig\u001b[0m\u001b[1;33m,\u001b[0m \u001b[1;33m**\u001b[0m\u001b[0mkwargs\u001b[0m\u001b[1;33m)\u001b[0m\u001b[1;33m)\u001b[0m\u001b[1;33m\u001b[0m\u001b[1;33m\u001b[0m\u001b[0m\n",
      "\u001b[1;32m~\\anaconda3\\lib\\site-packages\\IPython\\core\\pylabtools.py\u001b[0m in \u001b[0;36mprint_figure\u001b[1;34m(fig, fmt, bbox_inches, **kwargs)\u001b[0m\n\u001b[0;32m    130\u001b[0m         \u001b[0mFigureCanvasBase\u001b[0m\u001b[1;33m(\u001b[0m\u001b[0mfig\u001b[0m\u001b[1;33m)\u001b[0m\u001b[1;33m\u001b[0m\u001b[1;33m\u001b[0m\u001b[0m\n\u001b[0;32m    131\u001b[0m \u001b[1;33m\u001b[0m\u001b[0m\n\u001b[1;32m--> 132\u001b[1;33m     \u001b[0mfig\u001b[0m\u001b[1;33m.\u001b[0m\u001b[0mcanvas\u001b[0m\u001b[1;33m.\u001b[0m\u001b[0mprint_figure\u001b[0m\u001b[1;33m(\u001b[0m\u001b[0mbytes_io\u001b[0m\u001b[1;33m,\u001b[0m \u001b[1;33m**\u001b[0m\u001b[0mkw\u001b[0m\u001b[1;33m)\u001b[0m\u001b[1;33m\u001b[0m\u001b[1;33m\u001b[0m\u001b[0m\n\u001b[0m\u001b[0;32m    133\u001b[0m     \u001b[0mdata\u001b[0m \u001b[1;33m=\u001b[0m \u001b[0mbytes_io\u001b[0m\u001b[1;33m.\u001b[0m\u001b[0mgetvalue\u001b[0m\u001b[1;33m(\u001b[0m\u001b[1;33m)\u001b[0m\u001b[1;33m\u001b[0m\u001b[1;33m\u001b[0m\u001b[0m\n\u001b[0;32m    134\u001b[0m     \u001b[1;32mif\u001b[0m \u001b[0mfmt\u001b[0m \u001b[1;33m==\u001b[0m \u001b[1;34m'svg'\u001b[0m\u001b[1;33m:\u001b[0m\u001b[1;33m\u001b[0m\u001b[1;33m\u001b[0m\u001b[0m\n",
      "\u001b[1;32m~\\anaconda3\\lib\\site-packages\\matplotlib\\backend_bases.py\u001b[0m in \u001b[0;36mprint_figure\u001b[1;34m(self, filename, dpi, facecolor, edgecolor, orientation, format, bbox_inches, pad_inches, bbox_extra_artists, backend, **kwargs)\u001b[0m\n\u001b[0;32m   2208\u001b[0m \u001b[1;33m\u001b[0m\u001b[0m\n\u001b[0;32m   2209\u001b[0m             \u001b[1;32mtry\u001b[0m\u001b[1;33m:\u001b[0m\u001b[1;33m\u001b[0m\u001b[1;33m\u001b[0m\u001b[0m\n\u001b[1;32m-> 2210\u001b[1;33m                 result = print_method(\n\u001b[0m\u001b[0;32m   2211\u001b[0m                     \u001b[0mfilename\u001b[0m\u001b[1;33m,\u001b[0m\u001b[1;33m\u001b[0m\u001b[1;33m\u001b[0m\u001b[0m\n\u001b[0;32m   2212\u001b[0m                     \u001b[0mdpi\u001b[0m\u001b[1;33m=\u001b[0m\u001b[0mdpi\u001b[0m\u001b[1;33m,\u001b[0m\u001b[1;33m\u001b[0m\u001b[1;33m\u001b[0m\u001b[0m\n",
      "\u001b[1;32m~\\anaconda3\\lib\\site-packages\\matplotlib\\backend_bases.py\u001b[0m in \u001b[0;36mwrapper\u001b[1;34m(*args, **kwargs)\u001b[0m\n\u001b[0;32m   1637\u001b[0m             \u001b[0mkwargs\u001b[0m\u001b[1;33m.\u001b[0m\u001b[0mpop\u001b[0m\u001b[1;33m(\u001b[0m\u001b[0marg\u001b[0m\u001b[1;33m)\u001b[0m\u001b[1;33m\u001b[0m\u001b[1;33m\u001b[0m\u001b[0m\n\u001b[0;32m   1638\u001b[0m \u001b[1;33m\u001b[0m\u001b[0m\n\u001b[1;32m-> 1639\u001b[1;33m         \u001b[1;32mreturn\u001b[0m \u001b[0mfunc\u001b[0m\u001b[1;33m(\u001b[0m\u001b[1;33m*\u001b[0m\u001b[0margs\u001b[0m\u001b[1;33m,\u001b[0m \u001b[1;33m**\u001b[0m\u001b[0mkwargs\u001b[0m\u001b[1;33m)\u001b[0m\u001b[1;33m\u001b[0m\u001b[1;33m\u001b[0m\u001b[0m\n\u001b[0m\u001b[0;32m   1640\u001b[0m \u001b[1;33m\u001b[0m\u001b[0m\n\u001b[0;32m   1641\u001b[0m     \u001b[1;32mreturn\u001b[0m \u001b[0mwrapper\u001b[0m\u001b[1;33m\u001b[0m\u001b[1;33m\u001b[0m\u001b[0m\n",
      "\u001b[1;32m~\\anaconda3\\lib\\site-packages\\matplotlib\\backends\\backend_agg.py\u001b[0m in \u001b[0;36mprint_png\u001b[1;34m(self, filename_or_obj, metadata, pil_kwargs, *args)\u001b[0m\n\u001b[0;32m    507\u001b[0m             \u001b[1;33m*\u001b[0m\u001b[0mmetadata\u001b[0m\u001b[1;33m*\u001b[0m\u001b[1;33m,\u001b[0m \u001b[0mincluding\u001b[0m \u001b[0mthe\u001b[0m \u001b[0mdefault\u001b[0m \u001b[1;34m'Software'\u001b[0m \u001b[0mkey\u001b[0m\u001b[1;33m.\u001b[0m\u001b[1;33m\u001b[0m\u001b[1;33m\u001b[0m\u001b[0m\n\u001b[0;32m    508\u001b[0m         \"\"\"\n\u001b[1;32m--> 509\u001b[1;33m         \u001b[0mFigureCanvasAgg\u001b[0m\u001b[1;33m.\u001b[0m\u001b[0mdraw\u001b[0m\u001b[1;33m(\u001b[0m\u001b[0mself\u001b[0m\u001b[1;33m)\u001b[0m\u001b[1;33m\u001b[0m\u001b[1;33m\u001b[0m\u001b[0m\n\u001b[0m\u001b[0;32m    510\u001b[0m         mpl.image.imsave(\n\u001b[0;32m    511\u001b[0m             \u001b[0mfilename_or_obj\u001b[0m\u001b[1;33m,\u001b[0m \u001b[0mself\u001b[0m\u001b[1;33m.\u001b[0m\u001b[0mbuffer_rgba\u001b[0m\u001b[1;33m(\u001b[0m\u001b[1;33m)\u001b[0m\u001b[1;33m,\u001b[0m \u001b[0mformat\u001b[0m\u001b[1;33m=\u001b[0m\u001b[1;34m\"png\"\u001b[0m\u001b[1;33m,\u001b[0m \u001b[0morigin\u001b[0m\u001b[1;33m=\u001b[0m\u001b[1;34m\"upper\"\u001b[0m\u001b[1;33m,\u001b[0m\u001b[1;33m\u001b[0m\u001b[1;33m\u001b[0m\u001b[0m\n",
      "\u001b[1;32m~\\anaconda3\\lib\\site-packages\\matplotlib\\backends\\backend_agg.py\u001b[0m in \u001b[0;36mdraw\u001b[1;34m(self)\u001b[0m\n\u001b[0;32m    405\u001b[0m              (self.toolbar._wait_cursor_for_draw_cm() if self.toolbar\n\u001b[0;32m    406\u001b[0m               else nullcontext()):\n\u001b[1;32m--> 407\u001b[1;33m             \u001b[0mself\u001b[0m\u001b[1;33m.\u001b[0m\u001b[0mfigure\u001b[0m\u001b[1;33m.\u001b[0m\u001b[0mdraw\u001b[0m\u001b[1;33m(\u001b[0m\u001b[0mself\u001b[0m\u001b[1;33m.\u001b[0m\u001b[0mrenderer\u001b[0m\u001b[1;33m)\u001b[0m\u001b[1;33m\u001b[0m\u001b[1;33m\u001b[0m\u001b[0m\n\u001b[0m\u001b[0;32m    408\u001b[0m             \u001b[1;31m# A GUI class may be need to update a window using this draw, so\u001b[0m\u001b[1;33m\u001b[0m\u001b[1;33m\u001b[0m\u001b[1;33m\u001b[0m\u001b[0m\n\u001b[0;32m    409\u001b[0m             \u001b[1;31m# don't forget to call the superclass.\u001b[0m\u001b[1;33m\u001b[0m\u001b[1;33m\u001b[0m\u001b[1;33m\u001b[0m\u001b[0m\n",
      "\u001b[1;32m~\\anaconda3\\lib\\site-packages\\matplotlib\\artist.py\u001b[0m in \u001b[0;36mdraw_wrapper\u001b[1;34m(artist, renderer, *args, **kwargs)\u001b[0m\n\u001b[0;32m     39\u001b[0m                 \u001b[0mrenderer\u001b[0m\u001b[1;33m.\u001b[0m\u001b[0mstart_filter\u001b[0m\u001b[1;33m(\u001b[0m\u001b[1;33m)\u001b[0m\u001b[1;33m\u001b[0m\u001b[1;33m\u001b[0m\u001b[0m\n\u001b[0;32m     40\u001b[0m \u001b[1;33m\u001b[0m\u001b[0m\n\u001b[1;32m---> 41\u001b[1;33m             \u001b[1;32mreturn\u001b[0m \u001b[0mdraw\u001b[0m\u001b[1;33m(\u001b[0m\u001b[0martist\u001b[0m\u001b[1;33m,\u001b[0m \u001b[0mrenderer\u001b[0m\u001b[1;33m,\u001b[0m \u001b[1;33m*\u001b[0m\u001b[0margs\u001b[0m\u001b[1;33m,\u001b[0m \u001b[1;33m**\u001b[0m\u001b[0mkwargs\u001b[0m\u001b[1;33m)\u001b[0m\u001b[1;33m\u001b[0m\u001b[1;33m\u001b[0m\u001b[0m\n\u001b[0m\u001b[0;32m     42\u001b[0m         \u001b[1;32mfinally\u001b[0m\u001b[1;33m:\u001b[0m\u001b[1;33m\u001b[0m\u001b[1;33m\u001b[0m\u001b[0m\n\u001b[0;32m     43\u001b[0m             \u001b[1;32mif\u001b[0m \u001b[0martist\u001b[0m\u001b[1;33m.\u001b[0m\u001b[0mget_agg_filter\u001b[0m\u001b[1;33m(\u001b[0m\u001b[1;33m)\u001b[0m \u001b[1;32mis\u001b[0m \u001b[1;32mnot\u001b[0m \u001b[1;32mNone\u001b[0m\u001b[1;33m:\u001b[0m\u001b[1;33m\u001b[0m\u001b[1;33m\u001b[0m\u001b[0m\n",
      "\u001b[1;32m~\\anaconda3\\lib\\site-packages\\matplotlib\\figure.py\u001b[0m in \u001b[0;36mdraw\u001b[1;34m(self, renderer)\u001b[0m\n\u001b[0;32m   1861\u001b[0m \u001b[1;33m\u001b[0m\u001b[0m\n\u001b[0;32m   1862\u001b[0m             \u001b[0mself\u001b[0m\u001b[1;33m.\u001b[0m\u001b[0mpatch\u001b[0m\u001b[1;33m.\u001b[0m\u001b[0mdraw\u001b[0m\u001b[1;33m(\u001b[0m\u001b[0mrenderer\u001b[0m\u001b[1;33m)\u001b[0m\u001b[1;33m\u001b[0m\u001b[1;33m\u001b[0m\u001b[0m\n\u001b[1;32m-> 1863\u001b[1;33m             mimage._draw_list_compositing_images(\n\u001b[0m\u001b[0;32m   1864\u001b[0m                 renderer, self, artists, self.suppressComposite)\n\u001b[0;32m   1865\u001b[0m \u001b[1;33m\u001b[0m\u001b[0m\n",
      "\u001b[1;32m~\\anaconda3\\lib\\site-packages\\matplotlib\\image.py\u001b[0m in \u001b[0;36m_draw_list_compositing_images\u001b[1;34m(renderer, parent, artists, suppress_composite)\u001b[0m\n\u001b[0;32m    129\u001b[0m     \u001b[1;32mif\u001b[0m \u001b[0mnot_composite\u001b[0m \u001b[1;32mor\u001b[0m \u001b[1;32mnot\u001b[0m \u001b[0mhas_images\u001b[0m\u001b[1;33m:\u001b[0m\u001b[1;33m\u001b[0m\u001b[1;33m\u001b[0m\u001b[0m\n\u001b[0;32m    130\u001b[0m         \u001b[1;32mfor\u001b[0m \u001b[0ma\u001b[0m \u001b[1;32min\u001b[0m \u001b[0martists\u001b[0m\u001b[1;33m:\u001b[0m\u001b[1;33m\u001b[0m\u001b[1;33m\u001b[0m\u001b[0m\n\u001b[1;32m--> 131\u001b[1;33m             \u001b[0ma\u001b[0m\u001b[1;33m.\u001b[0m\u001b[0mdraw\u001b[0m\u001b[1;33m(\u001b[0m\u001b[0mrenderer\u001b[0m\u001b[1;33m)\u001b[0m\u001b[1;33m\u001b[0m\u001b[1;33m\u001b[0m\u001b[0m\n\u001b[0m\u001b[0;32m    132\u001b[0m     \u001b[1;32melse\u001b[0m\u001b[1;33m:\u001b[0m\u001b[1;33m\u001b[0m\u001b[1;33m\u001b[0m\u001b[0m\n\u001b[0;32m    133\u001b[0m         \u001b[1;31m# Composite any adjacent images together\u001b[0m\u001b[1;33m\u001b[0m\u001b[1;33m\u001b[0m\u001b[1;33m\u001b[0m\u001b[0m\n",
      "\u001b[1;32m~\\anaconda3\\lib\\site-packages\\matplotlib\\artist.py\u001b[0m in \u001b[0;36mdraw_wrapper\u001b[1;34m(artist, renderer, *args, **kwargs)\u001b[0m\n\u001b[0;32m     39\u001b[0m                 \u001b[0mrenderer\u001b[0m\u001b[1;33m.\u001b[0m\u001b[0mstart_filter\u001b[0m\u001b[1;33m(\u001b[0m\u001b[1;33m)\u001b[0m\u001b[1;33m\u001b[0m\u001b[1;33m\u001b[0m\u001b[0m\n\u001b[0;32m     40\u001b[0m \u001b[1;33m\u001b[0m\u001b[0m\n\u001b[1;32m---> 41\u001b[1;33m             \u001b[1;32mreturn\u001b[0m \u001b[0mdraw\u001b[0m\u001b[1;33m(\u001b[0m\u001b[0martist\u001b[0m\u001b[1;33m,\u001b[0m \u001b[0mrenderer\u001b[0m\u001b[1;33m,\u001b[0m \u001b[1;33m*\u001b[0m\u001b[0margs\u001b[0m\u001b[1;33m,\u001b[0m \u001b[1;33m**\u001b[0m\u001b[0mkwargs\u001b[0m\u001b[1;33m)\u001b[0m\u001b[1;33m\u001b[0m\u001b[1;33m\u001b[0m\u001b[0m\n\u001b[0m\u001b[0;32m     42\u001b[0m         \u001b[1;32mfinally\u001b[0m\u001b[1;33m:\u001b[0m\u001b[1;33m\u001b[0m\u001b[1;33m\u001b[0m\u001b[0m\n\u001b[0;32m     43\u001b[0m             \u001b[1;32mif\u001b[0m \u001b[0martist\u001b[0m\u001b[1;33m.\u001b[0m\u001b[0mget_agg_filter\u001b[0m\u001b[1;33m(\u001b[0m\u001b[1;33m)\u001b[0m \u001b[1;32mis\u001b[0m \u001b[1;32mnot\u001b[0m \u001b[1;32mNone\u001b[0m\u001b[1;33m:\u001b[0m\u001b[1;33m\u001b[0m\u001b[1;33m\u001b[0m\u001b[0m\n",
      "\u001b[1;32m~\\anaconda3\\lib\\site-packages\\matplotlib\\cbook\\deprecation.py\u001b[0m in \u001b[0;36mwrapper\u001b[1;34m(*inner_args, **inner_kwargs)\u001b[0m\n\u001b[0;32m    409\u001b[0m                          \u001b[1;32melse\u001b[0m \u001b[0mdeprecation_addendum\u001b[0m\u001b[1;33m,\u001b[0m\u001b[1;33m\u001b[0m\u001b[1;33m\u001b[0m\u001b[0m\n\u001b[0;32m    410\u001b[0m                 **kwargs)\n\u001b[1;32m--> 411\u001b[1;33m         \u001b[1;32mreturn\u001b[0m \u001b[0mfunc\u001b[0m\u001b[1;33m(\u001b[0m\u001b[1;33m*\u001b[0m\u001b[0minner_args\u001b[0m\u001b[1;33m,\u001b[0m \u001b[1;33m**\u001b[0m\u001b[0minner_kwargs\u001b[0m\u001b[1;33m)\u001b[0m\u001b[1;33m\u001b[0m\u001b[1;33m\u001b[0m\u001b[0m\n\u001b[0m\u001b[0;32m    412\u001b[0m \u001b[1;33m\u001b[0m\u001b[0m\n\u001b[0;32m    413\u001b[0m     \u001b[1;32mreturn\u001b[0m \u001b[0mwrapper\u001b[0m\u001b[1;33m\u001b[0m\u001b[1;33m\u001b[0m\u001b[0m\n",
      "\u001b[1;32m~\\anaconda3\\lib\\site-packages\\matplotlib\\axes\\_base.py\u001b[0m in \u001b[0;36mdraw\u001b[1;34m(self, renderer, inframe)\u001b[0m\n\u001b[0;32m   2745\u001b[0m             \u001b[0mrenderer\u001b[0m\u001b[1;33m.\u001b[0m\u001b[0mstop_rasterizing\u001b[0m\u001b[1;33m(\u001b[0m\u001b[1;33m)\u001b[0m\u001b[1;33m\u001b[0m\u001b[1;33m\u001b[0m\u001b[0m\n\u001b[0;32m   2746\u001b[0m \u001b[1;33m\u001b[0m\u001b[0m\n\u001b[1;32m-> 2747\u001b[1;33m         \u001b[0mmimage\u001b[0m\u001b[1;33m.\u001b[0m\u001b[0m_draw_list_compositing_images\u001b[0m\u001b[1;33m(\u001b[0m\u001b[0mrenderer\u001b[0m\u001b[1;33m,\u001b[0m \u001b[0mself\u001b[0m\u001b[1;33m,\u001b[0m \u001b[0martists\u001b[0m\u001b[1;33m)\u001b[0m\u001b[1;33m\u001b[0m\u001b[1;33m\u001b[0m\u001b[0m\n\u001b[0m\u001b[0;32m   2748\u001b[0m \u001b[1;33m\u001b[0m\u001b[0m\n\u001b[0;32m   2749\u001b[0m         \u001b[0mrenderer\u001b[0m\u001b[1;33m.\u001b[0m\u001b[0mclose_group\u001b[0m\u001b[1;33m(\u001b[0m\u001b[1;34m'axes'\u001b[0m\u001b[1;33m)\u001b[0m\u001b[1;33m\u001b[0m\u001b[1;33m\u001b[0m\u001b[0m\n",
      "\u001b[1;32m~\\anaconda3\\lib\\site-packages\\matplotlib\\image.py\u001b[0m in \u001b[0;36m_draw_list_compositing_images\u001b[1;34m(renderer, parent, artists, suppress_composite)\u001b[0m\n\u001b[0;32m    129\u001b[0m     \u001b[1;32mif\u001b[0m \u001b[0mnot_composite\u001b[0m \u001b[1;32mor\u001b[0m \u001b[1;32mnot\u001b[0m \u001b[0mhas_images\u001b[0m\u001b[1;33m:\u001b[0m\u001b[1;33m\u001b[0m\u001b[1;33m\u001b[0m\u001b[0m\n\u001b[0;32m    130\u001b[0m         \u001b[1;32mfor\u001b[0m \u001b[0ma\u001b[0m \u001b[1;32min\u001b[0m \u001b[0martists\u001b[0m\u001b[1;33m:\u001b[0m\u001b[1;33m\u001b[0m\u001b[1;33m\u001b[0m\u001b[0m\n\u001b[1;32m--> 131\u001b[1;33m             \u001b[0ma\u001b[0m\u001b[1;33m.\u001b[0m\u001b[0mdraw\u001b[0m\u001b[1;33m(\u001b[0m\u001b[0mrenderer\u001b[0m\u001b[1;33m)\u001b[0m\u001b[1;33m\u001b[0m\u001b[1;33m\u001b[0m\u001b[0m\n\u001b[0m\u001b[0;32m    132\u001b[0m     \u001b[1;32melse\u001b[0m\u001b[1;33m:\u001b[0m\u001b[1;33m\u001b[0m\u001b[1;33m\u001b[0m\u001b[0m\n\u001b[0;32m    133\u001b[0m         \u001b[1;31m# Composite any adjacent images together\u001b[0m\u001b[1;33m\u001b[0m\u001b[1;33m\u001b[0m\u001b[1;33m\u001b[0m\u001b[0m\n",
      "\u001b[1;32m~\\anaconda3\\lib\\site-packages\\matplotlib\\artist.py\u001b[0m in \u001b[0;36mdraw_wrapper\u001b[1;34m(artist, renderer, *args, **kwargs)\u001b[0m\n\u001b[0;32m     39\u001b[0m                 \u001b[0mrenderer\u001b[0m\u001b[1;33m.\u001b[0m\u001b[0mstart_filter\u001b[0m\u001b[1;33m(\u001b[0m\u001b[1;33m)\u001b[0m\u001b[1;33m\u001b[0m\u001b[1;33m\u001b[0m\u001b[0m\n\u001b[0;32m     40\u001b[0m \u001b[1;33m\u001b[0m\u001b[0m\n\u001b[1;32m---> 41\u001b[1;33m             \u001b[1;32mreturn\u001b[0m \u001b[0mdraw\u001b[0m\u001b[1;33m(\u001b[0m\u001b[0martist\u001b[0m\u001b[1;33m,\u001b[0m \u001b[0mrenderer\u001b[0m\u001b[1;33m,\u001b[0m \u001b[1;33m*\u001b[0m\u001b[0margs\u001b[0m\u001b[1;33m,\u001b[0m \u001b[1;33m**\u001b[0m\u001b[0mkwargs\u001b[0m\u001b[1;33m)\u001b[0m\u001b[1;33m\u001b[0m\u001b[1;33m\u001b[0m\u001b[0m\n\u001b[0m\u001b[0;32m     42\u001b[0m         \u001b[1;32mfinally\u001b[0m\u001b[1;33m:\u001b[0m\u001b[1;33m\u001b[0m\u001b[1;33m\u001b[0m\u001b[0m\n\u001b[0;32m     43\u001b[0m             \u001b[1;32mif\u001b[0m \u001b[0martist\u001b[0m\u001b[1;33m.\u001b[0m\u001b[0mget_agg_filter\u001b[0m\u001b[1;33m(\u001b[0m\u001b[1;33m)\u001b[0m \u001b[1;32mis\u001b[0m \u001b[1;32mnot\u001b[0m \u001b[1;32mNone\u001b[0m\u001b[1;33m:\u001b[0m\u001b[1;33m\u001b[0m\u001b[1;33m\u001b[0m\u001b[0m\n",
      "\u001b[1;32m~\\anaconda3\\lib\\site-packages\\matplotlib\\collections.py\u001b[0m in \u001b[0;36mdraw\u001b[1;34m(self, renderer)\u001b[0m\n\u001b[0;32m    929\u001b[0m     \u001b[1;32mdef\u001b[0m \u001b[0mdraw\u001b[0m\u001b[1;33m(\u001b[0m\u001b[0mself\u001b[0m\u001b[1;33m,\u001b[0m \u001b[0mrenderer\u001b[0m\u001b[1;33m)\u001b[0m\u001b[1;33m:\u001b[0m\u001b[1;33m\u001b[0m\u001b[1;33m\u001b[0m\u001b[0m\n\u001b[0;32m    930\u001b[0m         \u001b[0mself\u001b[0m\u001b[1;33m.\u001b[0m\u001b[0mset_sizes\u001b[0m\u001b[1;33m(\u001b[0m\u001b[0mself\u001b[0m\u001b[1;33m.\u001b[0m\u001b[0m_sizes\u001b[0m\u001b[1;33m,\u001b[0m \u001b[0mself\u001b[0m\u001b[1;33m.\u001b[0m\u001b[0mfigure\u001b[0m\u001b[1;33m.\u001b[0m\u001b[0mdpi\u001b[0m\u001b[1;33m)\u001b[0m\u001b[1;33m\u001b[0m\u001b[1;33m\u001b[0m\u001b[0m\n\u001b[1;32m--> 931\u001b[1;33m         \u001b[0mCollection\u001b[0m\u001b[1;33m.\u001b[0m\u001b[0mdraw\u001b[0m\u001b[1;33m(\u001b[0m\u001b[0mself\u001b[0m\u001b[1;33m,\u001b[0m \u001b[0mrenderer\u001b[0m\u001b[1;33m)\u001b[0m\u001b[1;33m\u001b[0m\u001b[1;33m\u001b[0m\u001b[0m\n\u001b[0m\u001b[0;32m    932\u001b[0m \u001b[1;33m\u001b[0m\u001b[0m\n\u001b[0;32m    933\u001b[0m \u001b[1;33m\u001b[0m\u001b[0m\n",
      "\u001b[1;32m~\\anaconda3\\lib\\site-packages\\matplotlib\\artist.py\u001b[0m in \u001b[0;36mdraw_wrapper\u001b[1;34m(artist, renderer, *args, **kwargs)\u001b[0m\n\u001b[0;32m     39\u001b[0m                 \u001b[0mrenderer\u001b[0m\u001b[1;33m.\u001b[0m\u001b[0mstart_filter\u001b[0m\u001b[1;33m(\u001b[0m\u001b[1;33m)\u001b[0m\u001b[1;33m\u001b[0m\u001b[1;33m\u001b[0m\u001b[0m\n\u001b[0;32m     40\u001b[0m \u001b[1;33m\u001b[0m\u001b[0m\n\u001b[1;32m---> 41\u001b[1;33m             \u001b[1;32mreturn\u001b[0m \u001b[0mdraw\u001b[0m\u001b[1;33m(\u001b[0m\u001b[0martist\u001b[0m\u001b[1;33m,\u001b[0m \u001b[0mrenderer\u001b[0m\u001b[1;33m,\u001b[0m \u001b[1;33m*\u001b[0m\u001b[0margs\u001b[0m\u001b[1;33m,\u001b[0m \u001b[1;33m**\u001b[0m\u001b[0mkwargs\u001b[0m\u001b[1;33m)\u001b[0m\u001b[1;33m\u001b[0m\u001b[1;33m\u001b[0m\u001b[0m\n\u001b[0m\u001b[0;32m     42\u001b[0m         \u001b[1;32mfinally\u001b[0m\u001b[1;33m:\u001b[0m\u001b[1;33m\u001b[0m\u001b[1;33m\u001b[0m\u001b[0m\n\u001b[0;32m     43\u001b[0m             \u001b[1;32mif\u001b[0m \u001b[0martist\u001b[0m\u001b[1;33m.\u001b[0m\u001b[0mget_agg_filter\u001b[0m\u001b[1;33m(\u001b[0m\u001b[1;33m)\u001b[0m \u001b[1;32mis\u001b[0m \u001b[1;32mnot\u001b[0m \u001b[1;32mNone\u001b[0m\u001b[1;33m:\u001b[0m\u001b[1;33m\u001b[0m\u001b[1;33m\u001b[0m\u001b[0m\n",
      "\u001b[1;32m~\\anaconda3\\lib\\site-packages\\matplotlib\\collections.py\u001b[0m in \u001b[0;36mdraw\u001b[1;34m(self, renderer)\u001b[0m\n\u001b[0;32m    404\u001b[0m                 mpath.Path(offsets), transOffset, tuple(facecolors[0]))\n\u001b[0;32m    405\u001b[0m         \u001b[1;32melse\u001b[0m\u001b[1;33m:\u001b[0m\u001b[1;33m\u001b[0m\u001b[1;33m\u001b[0m\u001b[0m\n\u001b[1;32m--> 406\u001b[1;33m             renderer.draw_path_collection(\n\u001b[0m\u001b[0;32m    407\u001b[0m                 \u001b[0mgc\u001b[0m\u001b[1;33m,\u001b[0m \u001b[0mtransform\u001b[0m\u001b[1;33m.\u001b[0m\u001b[0mfrozen\u001b[0m\u001b[1;33m(\u001b[0m\u001b[1;33m)\u001b[0m\u001b[1;33m,\u001b[0m \u001b[0mpaths\u001b[0m\u001b[1;33m,\u001b[0m\u001b[1;33m\u001b[0m\u001b[1;33m\u001b[0m\u001b[0m\n\u001b[0;32m    408\u001b[0m                 \u001b[0mself\u001b[0m\u001b[1;33m.\u001b[0m\u001b[0mget_transforms\u001b[0m\u001b[1;33m(\u001b[0m\u001b[1;33m)\u001b[0m\u001b[1;33m,\u001b[0m \u001b[0moffsets\u001b[0m\u001b[1;33m,\u001b[0m \u001b[0mtransOffset\u001b[0m\u001b[1;33m,\u001b[0m\u001b[1;33m\u001b[0m\u001b[1;33m\u001b[0m\u001b[0m\n",
      "\u001b[1;32m~\\anaconda3\\lib\\site-packages\\matplotlib\\backends\\backend_agg.py\u001b[0m in \u001b[0;36mdraw_path_collection\u001b[1;34m(self, gc, master_transform, paths, all_transforms, offsets, offsetTrans, facecolors, edgecolors, linewidths, linestyles, antialiaseds, urls, offset_position)\u001b[0m\n\u001b[0;32m    170\u001b[0m                 \u001b[1;34m\"3.3\"\u001b[0m\u001b[1;33m,\u001b[0m \u001b[0mmessage\u001b[0m\u001b[1;33m=\u001b[0m\u001b[1;34m\"Support for offset_position='data' is \"\u001b[0m\u001b[1;33m\u001b[0m\u001b[1;33m\u001b[0m\u001b[0m\n\u001b[0;32m    171\u001b[0m                 \"deprecated since %(since)s and will be removed %(removal)s.\")\n\u001b[1;32m--> 172\u001b[1;33m         return self._renderer.draw_path_collection(\n\u001b[0m\u001b[0;32m    173\u001b[0m             \u001b[0mgc\u001b[0m\u001b[1;33m,\u001b[0m \u001b[0mmaster_transform\u001b[0m\u001b[1;33m,\u001b[0m \u001b[0mpaths\u001b[0m\u001b[1;33m,\u001b[0m \u001b[0mall_transforms\u001b[0m\u001b[1;33m,\u001b[0m \u001b[0moffsets\u001b[0m\u001b[1;33m,\u001b[0m \u001b[0moffsetTrans\u001b[0m\u001b[1;33m,\u001b[0m\u001b[1;33m\u001b[0m\u001b[1;33m\u001b[0m\u001b[0m\n\u001b[0;32m    174\u001b[0m             \u001b[0mfacecolors\u001b[0m\u001b[1;33m,\u001b[0m \u001b[0medgecolors\u001b[0m\u001b[1;33m,\u001b[0m \u001b[0mlinewidths\u001b[0m\u001b[1;33m,\u001b[0m \u001b[0mlinestyles\u001b[0m\u001b[1;33m,\u001b[0m \u001b[0mantialiaseds\u001b[0m\u001b[1;33m,\u001b[0m \u001b[0murls\u001b[0m\u001b[1;33m,\u001b[0m\u001b[1;33m\u001b[0m\u001b[1;33m\u001b[0m\u001b[0m\n",
      "\u001b[1;32m~\\anaconda3\\lib\\site-packages\\matplotlib\\path.py\u001b[0m in \u001b[0;36mvertices\u001b[1;34m(self)\u001b[0m\n\u001b[0;32m    200\u001b[0m         )\n\u001b[0;32m    201\u001b[0m \u001b[1;33m\u001b[0m\u001b[0m\n\u001b[1;32m--> 202\u001b[1;33m     \u001b[1;33m@\u001b[0m\u001b[0mproperty\u001b[0m\u001b[1;33m\u001b[0m\u001b[1;33m\u001b[0m\u001b[0m\n\u001b[0m\u001b[0;32m    203\u001b[0m     \u001b[1;32mdef\u001b[0m \u001b[0mvertices\u001b[0m\u001b[1;33m(\u001b[0m\u001b[0mself\u001b[0m\u001b[1;33m)\u001b[0m\u001b[1;33m:\u001b[0m\u001b[1;33m\u001b[0m\u001b[1;33m\u001b[0m\u001b[0m\n\u001b[0;32m    204\u001b[0m         \"\"\"\n",
      "\u001b[1;31mKeyboardInterrupt\u001b[0m: "
     ]
    }
   ],
   "source": [
    "sns.pairplot(data1, hue=\"is_attributed\", diag_kind = 'hist', palette=\"husl\")"
   ]
  },
  {
   "cell_type": "code",
   "execution_count": 10,
   "metadata": {},
   "outputs": [
    {
     "ename": "KeyboardInterrupt",
     "evalue": "",
     "output_type": "error",
     "traceback": [
      "\u001b[1;31m---------------------------------------------------------------------------\u001b[0m",
      "\u001b[1;31mKeyboardInterrupt\u001b[0m                         Traceback (most recent call last)",
      "\u001b[1;32m<ipython-input-10-aee0e7314559>\u001b[0m in \u001b[0;36m<module>\u001b[1;34m\u001b[0m\n\u001b[0;32m      1\u001b[0m \u001b[0msns\u001b[0m\u001b[1;33m.\u001b[0m\u001b[0mset_style\u001b[0m\u001b[1;33m(\u001b[0m\u001b[1;34m\"whitegrid\"\u001b[0m\u001b[1;33m)\u001b[0m\u001b[1;33m;\u001b[0m\u001b[1;33m\u001b[0m\u001b[1;33m\u001b[0m\u001b[0m\n\u001b[1;32m----> 2\u001b[1;33m \u001b[0msns\u001b[0m\u001b[1;33m.\u001b[0m\u001b[0mpairplot\u001b[0m\u001b[1;33m(\u001b[0m\u001b[0mdata1\u001b[0m\u001b[1;33m,\u001b[0m \u001b[0mhue\u001b[0m\u001b[1;33m=\u001b[0m\u001b[1;34m\"is_attributed\"\u001b[0m\u001b[1;33m,\u001b[0m \u001b[0msize\u001b[0m\u001b[1;33m=\u001b[0m\u001b[1;36m3\u001b[0m\u001b[1;33m)\u001b[0m\u001b[1;33m;\u001b[0m\u001b[1;33m\u001b[0m\u001b[1;33m\u001b[0m\u001b[0m\n\u001b[0m\u001b[0;32m      3\u001b[0m \u001b[0mplt\u001b[0m\u001b[1;33m.\u001b[0m\u001b[0mshow\u001b[0m\u001b[1;33m(\u001b[0m\u001b[1;33m)\u001b[0m\u001b[1;33m\u001b[0m\u001b[1;33m\u001b[0m\u001b[0m\n",
      "\u001b[1;32m~\\anaconda3\\lib\\site-packages\\seaborn\\_decorators.py\u001b[0m in \u001b[0;36minner_f\u001b[1;34m(*args, **kwargs)\u001b[0m\n\u001b[0;32m     44\u001b[0m             )\n\u001b[0;32m     45\u001b[0m         \u001b[0mkwargs\u001b[0m\u001b[1;33m.\u001b[0m\u001b[0mupdate\u001b[0m\u001b[1;33m(\u001b[0m\u001b[1;33m{\u001b[0m\u001b[0mk\u001b[0m\u001b[1;33m:\u001b[0m \u001b[0marg\u001b[0m \u001b[1;32mfor\u001b[0m \u001b[0mk\u001b[0m\u001b[1;33m,\u001b[0m \u001b[0marg\u001b[0m \u001b[1;32min\u001b[0m \u001b[0mzip\u001b[0m\u001b[1;33m(\u001b[0m\u001b[0msig\u001b[0m\u001b[1;33m.\u001b[0m\u001b[0mparameters\u001b[0m\u001b[1;33m,\u001b[0m \u001b[0margs\u001b[0m\u001b[1;33m)\u001b[0m\u001b[1;33m}\u001b[0m\u001b[1;33m)\u001b[0m\u001b[1;33m\u001b[0m\u001b[1;33m\u001b[0m\u001b[0m\n\u001b[1;32m---> 46\u001b[1;33m         \u001b[1;32mreturn\u001b[0m \u001b[0mf\u001b[0m\u001b[1;33m(\u001b[0m\u001b[1;33m**\u001b[0m\u001b[0mkwargs\u001b[0m\u001b[1;33m)\u001b[0m\u001b[1;33m\u001b[0m\u001b[1;33m\u001b[0m\u001b[0m\n\u001b[0m\u001b[0;32m     47\u001b[0m     \u001b[1;32mreturn\u001b[0m \u001b[0minner_f\u001b[0m\u001b[1;33m\u001b[0m\u001b[1;33m\u001b[0m\u001b[0m\n\u001b[0;32m     48\u001b[0m \u001b[1;33m\u001b[0m\u001b[0m\n",
      "\u001b[1;32m~\\anaconda3\\lib\\site-packages\\seaborn\\axisgrid.py\u001b[0m in \u001b[0;36mpairplot\u001b[1;34m(data, hue, hue_order, palette, vars, x_vars, y_vars, kind, diag_kind, markers, height, aspect, corner, dropna, plot_kws, diag_kws, grid_kws, size)\u001b[0m\n\u001b[0;32m   1985\u001b[0m     \u001b[1;31m# Add a legend\u001b[0m\u001b[1;33m\u001b[0m\u001b[1;33m\u001b[0m\u001b[1;33m\u001b[0m\u001b[0m\n\u001b[0;32m   1986\u001b[0m     \u001b[1;32mif\u001b[0m \u001b[0mhue\u001b[0m \u001b[1;32mis\u001b[0m \u001b[1;32mnot\u001b[0m \u001b[1;32mNone\u001b[0m\u001b[1;33m:\u001b[0m\u001b[1;33m\u001b[0m\u001b[1;33m\u001b[0m\u001b[0m\n\u001b[1;32m-> 1987\u001b[1;33m         \u001b[0mgrid\u001b[0m\u001b[1;33m.\u001b[0m\u001b[0madd_legend\u001b[0m\u001b[1;33m(\u001b[0m\u001b[1;33m)\u001b[0m\u001b[1;33m\u001b[0m\u001b[1;33m\u001b[0m\u001b[0m\n\u001b[0m\u001b[0;32m   1988\u001b[0m \u001b[1;33m\u001b[0m\u001b[0m\n\u001b[0;32m   1989\u001b[0m     \u001b[0mgrid\u001b[0m\u001b[1;33m.\u001b[0m\u001b[0mtight_layout\u001b[0m\u001b[1;33m(\u001b[0m\u001b[1;33m)\u001b[0m\u001b[1;33m\u001b[0m\u001b[1;33m\u001b[0m\u001b[0m\n",
      "\u001b[1;32m~\\anaconda3\\lib\\site-packages\\seaborn\\axisgrid.py\u001b[0m in \u001b[0;36madd_legend\u001b[1;34m(self, legend_data, title, label_order, adjust_subtitles, **kwargs)\u001b[0m\n\u001b[0;32m    149\u001b[0m             \u001b[1;31m# Draw the plot again to get the new transformations\u001b[0m\u001b[1;33m\u001b[0m\u001b[1;33m\u001b[0m\u001b[1;33m\u001b[0m\u001b[0m\n\u001b[0;32m    150\u001b[0m             \u001b[1;32mif\u001b[0m \u001b[0mhasattr\u001b[0m\u001b[1;33m(\u001b[0m\u001b[0mself\u001b[0m\u001b[1;33m.\u001b[0m\u001b[0mfig\u001b[0m\u001b[1;33m.\u001b[0m\u001b[0mcanvas\u001b[0m\u001b[1;33m,\u001b[0m \u001b[1;34m\"get_renderer\"\u001b[0m\u001b[1;33m)\u001b[0m\u001b[1;33m:\u001b[0m\u001b[1;33m\u001b[0m\u001b[1;33m\u001b[0m\u001b[0m\n\u001b[1;32m--> 151\u001b[1;33m                 \u001b[0mself\u001b[0m\u001b[1;33m.\u001b[0m\u001b[0mfig\u001b[0m\u001b[1;33m.\u001b[0m\u001b[0mdraw\u001b[0m\u001b[1;33m(\u001b[0m\u001b[0mself\u001b[0m\u001b[1;33m.\u001b[0m\u001b[0mfig\u001b[0m\u001b[1;33m.\u001b[0m\u001b[0mcanvas\u001b[0m\u001b[1;33m.\u001b[0m\u001b[0mget_renderer\u001b[0m\u001b[1;33m(\u001b[0m\u001b[1;33m)\u001b[0m\u001b[1;33m)\u001b[0m\u001b[1;33m\u001b[0m\u001b[1;33m\u001b[0m\u001b[0m\n\u001b[0m\u001b[0;32m    152\u001b[0m \u001b[1;33m\u001b[0m\u001b[0m\n\u001b[0;32m    153\u001b[0m             \u001b[1;31m# Now calculate how much space we need on the right side\u001b[0m\u001b[1;33m\u001b[0m\u001b[1;33m\u001b[0m\u001b[1;33m\u001b[0m\u001b[0m\n",
      "\u001b[1;32m~\\anaconda3\\lib\\site-packages\\matplotlib\\artist.py\u001b[0m in \u001b[0;36mdraw_wrapper\u001b[1;34m(artist, renderer, *args, **kwargs)\u001b[0m\n\u001b[0;32m     39\u001b[0m                 \u001b[0mrenderer\u001b[0m\u001b[1;33m.\u001b[0m\u001b[0mstart_filter\u001b[0m\u001b[1;33m(\u001b[0m\u001b[1;33m)\u001b[0m\u001b[1;33m\u001b[0m\u001b[1;33m\u001b[0m\u001b[0m\n\u001b[0;32m     40\u001b[0m \u001b[1;33m\u001b[0m\u001b[0m\n\u001b[1;32m---> 41\u001b[1;33m             \u001b[1;32mreturn\u001b[0m \u001b[0mdraw\u001b[0m\u001b[1;33m(\u001b[0m\u001b[0martist\u001b[0m\u001b[1;33m,\u001b[0m \u001b[0mrenderer\u001b[0m\u001b[1;33m,\u001b[0m \u001b[1;33m*\u001b[0m\u001b[0margs\u001b[0m\u001b[1;33m,\u001b[0m \u001b[1;33m**\u001b[0m\u001b[0mkwargs\u001b[0m\u001b[1;33m)\u001b[0m\u001b[1;33m\u001b[0m\u001b[1;33m\u001b[0m\u001b[0m\n\u001b[0m\u001b[0;32m     42\u001b[0m         \u001b[1;32mfinally\u001b[0m\u001b[1;33m:\u001b[0m\u001b[1;33m\u001b[0m\u001b[1;33m\u001b[0m\u001b[0m\n\u001b[0;32m     43\u001b[0m             \u001b[1;32mif\u001b[0m \u001b[0martist\u001b[0m\u001b[1;33m.\u001b[0m\u001b[0mget_agg_filter\u001b[0m\u001b[1;33m(\u001b[0m\u001b[1;33m)\u001b[0m \u001b[1;32mis\u001b[0m \u001b[1;32mnot\u001b[0m \u001b[1;32mNone\u001b[0m\u001b[1;33m:\u001b[0m\u001b[1;33m\u001b[0m\u001b[1;33m\u001b[0m\u001b[0m\n",
      "\u001b[1;32m~\\anaconda3\\lib\\site-packages\\matplotlib\\figure.py\u001b[0m in \u001b[0;36mdraw\u001b[1;34m(self, renderer)\u001b[0m\n\u001b[0;32m   1861\u001b[0m \u001b[1;33m\u001b[0m\u001b[0m\n\u001b[0;32m   1862\u001b[0m             \u001b[0mself\u001b[0m\u001b[1;33m.\u001b[0m\u001b[0mpatch\u001b[0m\u001b[1;33m.\u001b[0m\u001b[0mdraw\u001b[0m\u001b[1;33m(\u001b[0m\u001b[0mrenderer\u001b[0m\u001b[1;33m)\u001b[0m\u001b[1;33m\u001b[0m\u001b[1;33m\u001b[0m\u001b[0m\n\u001b[1;32m-> 1863\u001b[1;33m             mimage._draw_list_compositing_images(\n\u001b[0m\u001b[0;32m   1864\u001b[0m                 renderer, self, artists, self.suppressComposite)\n\u001b[0;32m   1865\u001b[0m \u001b[1;33m\u001b[0m\u001b[0m\n",
      "\u001b[1;32m~\\anaconda3\\lib\\site-packages\\matplotlib\\image.py\u001b[0m in \u001b[0;36m_draw_list_compositing_images\u001b[1;34m(renderer, parent, artists, suppress_composite)\u001b[0m\n\u001b[0;32m    129\u001b[0m     \u001b[1;32mif\u001b[0m \u001b[0mnot_composite\u001b[0m \u001b[1;32mor\u001b[0m \u001b[1;32mnot\u001b[0m \u001b[0mhas_images\u001b[0m\u001b[1;33m:\u001b[0m\u001b[1;33m\u001b[0m\u001b[1;33m\u001b[0m\u001b[0m\n\u001b[0;32m    130\u001b[0m         \u001b[1;32mfor\u001b[0m \u001b[0ma\u001b[0m \u001b[1;32min\u001b[0m \u001b[0martists\u001b[0m\u001b[1;33m:\u001b[0m\u001b[1;33m\u001b[0m\u001b[1;33m\u001b[0m\u001b[0m\n\u001b[1;32m--> 131\u001b[1;33m             \u001b[0ma\u001b[0m\u001b[1;33m.\u001b[0m\u001b[0mdraw\u001b[0m\u001b[1;33m(\u001b[0m\u001b[0mrenderer\u001b[0m\u001b[1;33m)\u001b[0m\u001b[1;33m\u001b[0m\u001b[1;33m\u001b[0m\u001b[0m\n\u001b[0m\u001b[0;32m    132\u001b[0m     \u001b[1;32melse\u001b[0m\u001b[1;33m:\u001b[0m\u001b[1;33m\u001b[0m\u001b[1;33m\u001b[0m\u001b[0m\n\u001b[0;32m    133\u001b[0m         \u001b[1;31m# Composite any adjacent images together\u001b[0m\u001b[1;33m\u001b[0m\u001b[1;33m\u001b[0m\u001b[1;33m\u001b[0m\u001b[0m\n",
      "\u001b[1;32m~\\anaconda3\\lib\\site-packages\\matplotlib\\artist.py\u001b[0m in \u001b[0;36mdraw_wrapper\u001b[1;34m(artist, renderer, *args, **kwargs)\u001b[0m\n\u001b[0;32m     39\u001b[0m                 \u001b[0mrenderer\u001b[0m\u001b[1;33m.\u001b[0m\u001b[0mstart_filter\u001b[0m\u001b[1;33m(\u001b[0m\u001b[1;33m)\u001b[0m\u001b[1;33m\u001b[0m\u001b[1;33m\u001b[0m\u001b[0m\n\u001b[0;32m     40\u001b[0m \u001b[1;33m\u001b[0m\u001b[0m\n\u001b[1;32m---> 41\u001b[1;33m             \u001b[1;32mreturn\u001b[0m \u001b[0mdraw\u001b[0m\u001b[1;33m(\u001b[0m\u001b[0martist\u001b[0m\u001b[1;33m,\u001b[0m \u001b[0mrenderer\u001b[0m\u001b[1;33m,\u001b[0m \u001b[1;33m*\u001b[0m\u001b[0margs\u001b[0m\u001b[1;33m,\u001b[0m \u001b[1;33m**\u001b[0m\u001b[0mkwargs\u001b[0m\u001b[1;33m)\u001b[0m\u001b[1;33m\u001b[0m\u001b[1;33m\u001b[0m\u001b[0m\n\u001b[0m\u001b[0;32m     42\u001b[0m         \u001b[1;32mfinally\u001b[0m\u001b[1;33m:\u001b[0m\u001b[1;33m\u001b[0m\u001b[1;33m\u001b[0m\u001b[0m\n\u001b[0;32m     43\u001b[0m             \u001b[1;32mif\u001b[0m \u001b[0martist\u001b[0m\u001b[1;33m.\u001b[0m\u001b[0mget_agg_filter\u001b[0m\u001b[1;33m(\u001b[0m\u001b[1;33m)\u001b[0m \u001b[1;32mis\u001b[0m \u001b[1;32mnot\u001b[0m \u001b[1;32mNone\u001b[0m\u001b[1;33m:\u001b[0m\u001b[1;33m\u001b[0m\u001b[1;33m\u001b[0m\u001b[0m\n",
      "\u001b[1;32m~\\anaconda3\\lib\\site-packages\\matplotlib\\cbook\\deprecation.py\u001b[0m in \u001b[0;36mwrapper\u001b[1;34m(*inner_args, **inner_kwargs)\u001b[0m\n\u001b[0;32m    409\u001b[0m                          \u001b[1;32melse\u001b[0m \u001b[0mdeprecation_addendum\u001b[0m\u001b[1;33m,\u001b[0m\u001b[1;33m\u001b[0m\u001b[1;33m\u001b[0m\u001b[0m\n\u001b[0;32m    410\u001b[0m                 **kwargs)\n\u001b[1;32m--> 411\u001b[1;33m         \u001b[1;32mreturn\u001b[0m \u001b[0mfunc\u001b[0m\u001b[1;33m(\u001b[0m\u001b[1;33m*\u001b[0m\u001b[0minner_args\u001b[0m\u001b[1;33m,\u001b[0m \u001b[1;33m**\u001b[0m\u001b[0minner_kwargs\u001b[0m\u001b[1;33m)\u001b[0m\u001b[1;33m\u001b[0m\u001b[1;33m\u001b[0m\u001b[0m\n\u001b[0m\u001b[0;32m    412\u001b[0m \u001b[1;33m\u001b[0m\u001b[0m\n\u001b[0;32m    413\u001b[0m     \u001b[1;32mreturn\u001b[0m \u001b[0mwrapper\u001b[0m\u001b[1;33m\u001b[0m\u001b[1;33m\u001b[0m\u001b[0m\n",
      "\u001b[1;32m~\\anaconda3\\lib\\site-packages\\matplotlib\\axes\\_base.py\u001b[0m in \u001b[0;36mdraw\u001b[1;34m(self, renderer, inframe)\u001b[0m\n\u001b[0;32m   2745\u001b[0m             \u001b[0mrenderer\u001b[0m\u001b[1;33m.\u001b[0m\u001b[0mstop_rasterizing\u001b[0m\u001b[1;33m(\u001b[0m\u001b[1;33m)\u001b[0m\u001b[1;33m\u001b[0m\u001b[1;33m\u001b[0m\u001b[0m\n\u001b[0;32m   2746\u001b[0m \u001b[1;33m\u001b[0m\u001b[0m\n\u001b[1;32m-> 2747\u001b[1;33m         \u001b[0mmimage\u001b[0m\u001b[1;33m.\u001b[0m\u001b[0m_draw_list_compositing_images\u001b[0m\u001b[1;33m(\u001b[0m\u001b[0mrenderer\u001b[0m\u001b[1;33m,\u001b[0m \u001b[0mself\u001b[0m\u001b[1;33m,\u001b[0m \u001b[0martists\u001b[0m\u001b[1;33m)\u001b[0m\u001b[1;33m\u001b[0m\u001b[1;33m\u001b[0m\u001b[0m\n\u001b[0m\u001b[0;32m   2748\u001b[0m \u001b[1;33m\u001b[0m\u001b[0m\n\u001b[0;32m   2749\u001b[0m         \u001b[0mrenderer\u001b[0m\u001b[1;33m.\u001b[0m\u001b[0mclose_group\u001b[0m\u001b[1;33m(\u001b[0m\u001b[1;34m'axes'\u001b[0m\u001b[1;33m)\u001b[0m\u001b[1;33m\u001b[0m\u001b[1;33m\u001b[0m\u001b[0m\n",
      "\u001b[1;32m~\\anaconda3\\lib\\site-packages\\matplotlib\\image.py\u001b[0m in \u001b[0;36m_draw_list_compositing_images\u001b[1;34m(renderer, parent, artists, suppress_composite)\u001b[0m\n\u001b[0;32m    129\u001b[0m     \u001b[1;32mif\u001b[0m \u001b[0mnot_composite\u001b[0m \u001b[1;32mor\u001b[0m \u001b[1;32mnot\u001b[0m \u001b[0mhas_images\u001b[0m\u001b[1;33m:\u001b[0m\u001b[1;33m\u001b[0m\u001b[1;33m\u001b[0m\u001b[0m\n\u001b[0;32m    130\u001b[0m         \u001b[1;32mfor\u001b[0m \u001b[0ma\u001b[0m \u001b[1;32min\u001b[0m \u001b[0martists\u001b[0m\u001b[1;33m:\u001b[0m\u001b[1;33m\u001b[0m\u001b[1;33m\u001b[0m\u001b[0m\n\u001b[1;32m--> 131\u001b[1;33m             \u001b[0ma\u001b[0m\u001b[1;33m.\u001b[0m\u001b[0mdraw\u001b[0m\u001b[1;33m(\u001b[0m\u001b[0mrenderer\u001b[0m\u001b[1;33m)\u001b[0m\u001b[1;33m\u001b[0m\u001b[1;33m\u001b[0m\u001b[0m\n\u001b[0m\u001b[0;32m    132\u001b[0m     \u001b[1;32melse\u001b[0m\u001b[1;33m:\u001b[0m\u001b[1;33m\u001b[0m\u001b[1;33m\u001b[0m\u001b[0m\n\u001b[0;32m    133\u001b[0m         \u001b[1;31m# Composite any adjacent images together\u001b[0m\u001b[1;33m\u001b[0m\u001b[1;33m\u001b[0m\u001b[1;33m\u001b[0m\u001b[0m\n",
      "\u001b[1;32m~\\anaconda3\\lib\\site-packages\\matplotlib\\artist.py\u001b[0m in \u001b[0;36mdraw_wrapper\u001b[1;34m(artist, renderer, *args, **kwargs)\u001b[0m\n\u001b[0;32m     39\u001b[0m                 \u001b[0mrenderer\u001b[0m\u001b[1;33m.\u001b[0m\u001b[0mstart_filter\u001b[0m\u001b[1;33m(\u001b[0m\u001b[1;33m)\u001b[0m\u001b[1;33m\u001b[0m\u001b[1;33m\u001b[0m\u001b[0m\n\u001b[0;32m     40\u001b[0m \u001b[1;33m\u001b[0m\u001b[0m\n\u001b[1;32m---> 41\u001b[1;33m             \u001b[1;32mreturn\u001b[0m \u001b[0mdraw\u001b[0m\u001b[1;33m(\u001b[0m\u001b[0martist\u001b[0m\u001b[1;33m,\u001b[0m \u001b[0mrenderer\u001b[0m\u001b[1;33m,\u001b[0m \u001b[1;33m*\u001b[0m\u001b[0margs\u001b[0m\u001b[1;33m,\u001b[0m \u001b[1;33m**\u001b[0m\u001b[0mkwargs\u001b[0m\u001b[1;33m)\u001b[0m\u001b[1;33m\u001b[0m\u001b[1;33m\u001b[0m\u001b[0m\n\u001b[0m\u001b[0;32m     42\u001b[0m         \u001b[1;32mfinally\u001b[0m\u001b[1;33m:\u001b[0m\u001b[1;33m\u001b[0m\u001b[1;33m\u001b[0m\u001b[0m\n\u001b[0;32m     43\u001b[0m             \u001b[1;32mif\u001b[0m \u001b[0martist\u001b[0m\u001b[1;33m.\u001b[0m\u001b[0mget_agg_filter\u001b[0m\u001b[1;33m(\u001b[0m\u001b[1;33m)\u001b[0m \u001b[1;32mis\u001b[0m \u001b[1;32mnot\u001b[0m \u001b[1;32mNone\u001b[0m\u001b[1;33m:\u001b[0m\u001b[1;33m\u001b[0m\u001b[1;33m\u001b[0m\u001b[0m\n",
      "\u001b[1;32m~\\anaconda3\\lib\\site-packages\\matplotlib\\collections.py\u001b[0m in \u001b[0;36mdraw\u001b[1;34m(self, renderer)\u001b[0m\n\u001b[0;32m    929\u001b[0m     \u001b[1;32mdef\u001b[0m \u001b[0mdraw\u001b[0m\u001b[1;33m(\u001b[0m\u001b[0mself\u001b[0m\u001b[1;33m,\u001b[0m \u001b[0mrenderer\u001b[0m\u001b[1;33m)\u001b[0m\u001b[1;33m:\u001b[0m\u001b[1;33m\u001b[0m\u001b[1;33m\u001b[0m\u001b[0m\n\u001b[0;32m    930\u001b[0m         \u001b[0mself\u001b[0m\u001b[1;33m.\u001b[0m\u001b[0mset_sizes\u001b[0m\u001b[1;33m(\u001b[0m\u001b[0mself\u001b[0m\u001b[1;33m.\u001b[0m\u001b[0m_sizes\u001b[0m\u001b[1;33m,\u001b[0m \u001b[0mself\u001b[0m\u001b[1;33m.\u001b[0m\u001b[0mfigure\u001b[0m\u001b[1;33m.\u001b[0m\u001b[0mdpi\u001b[0m\u001b[1;33m)\u001b[0m\u001b[1;33m\u001b[0m\u001b[1;33m\u001b[0m\u001b[0m\n\u001b[1;32m--> 931\u001b[1;33m         \u001b[0mCollection\u001b[0m\u001b[1;33m.\u001b[0m\u001b[0mdraw\u001b[0m\u001b[1;33m(\u001b[0m\u001b[0mself\u001b[0m\u001b[1;33m,\u001b[0m \u001b[0mrenderer\u001b[0m\u001b[1;33m)\u001b[0m\u001b[1;33m\u001b[0m\u001b[1;33m\u001b[0m\u001b[0m\n\u001b[0m\u001b[0;32m    932\u001b[0m \u001b[1;33m\u001b[0m\u001b[0m\n\u001b[0;32m    933\u001b[0m \u001b[1;33m\u001b[0m\u001b[0m\n",
      "\u001b[1;32m~\\anaconda3\\lib\\site-packages\\matplotlib\\artist.py\u001b[0m in \u001b[0;36mdraw_wrapper\u001b[1;34m(artist, renderer, *args, **kwargs)\u001b[0m\n\u001b[0;32m     39\u001b[0m                 \u001b[0mrenderer\u001b[0m\u001b[1;33m.\u001b[0m\u001b[0mstart_filter\u001b[0m\u001b[1;33m(\u001b[0m\u001b[1;33m)\u001b[0m\u001b[1;33m\u001b[0m\u001b[1;33m\u001b[0m\u001b[0m\n\u001b[0;32m     40\u001b[0m \u001b[1;33m\u001b[0m\u001b[0m\n\u001b[1;32m---> 41\u001b[1;33m             \u001b[1;32mreturn\u001b[0m \u001b[0mdraw\u001b[0m\u001b[1;33m(\u001b[0m\u001b[0martist\u001b[0m\u001b[1;33m,\u001b[0m \u001b[0mrenderer\u001b[0m\u001b[1;33m,\u001b[0m \u001b[1;33m*\u001b[0m\u001b[0margs\u001b[0m\u001b[1;33m,\u001b[0m \u001b[1;33m**\u001b[0m\u001b[0mkwargs\u001b[0m\u001b[1;33m)\u001b[0m\u001b[1;33m\u001b[0m\u001b[1;33m\u001b[0m\u001b[0m\n\u001b[0m\u001b[0;32m     42\u001b[0m         \u001b[1;32mfinally\u001b[0m\u001b[1;33m:\u001b[0m\u001b[1;33m\u001b[0m\u001b[1;33m\u001b[0m\u001b[0m\n\u001b[0;32m     43\u001b[0m             \u001b[1;32mif\u001b[0m \u001b[0martist\u001b[0m\u001b[1;33m.\u001b[0m\u001b[0mget_agg_filter\u001b[0m\u001b[1;33m(\u001b[0m\u001b[1;33m)\u001b[0m \u001b[1;32mis\u001b[0m \u001b[1;32mnot\u001b[0m \u001b[1;32mNone\u001b[0m\u001b[1;33m:\u001b[0m\u001b[1;33m\u001b[0m\u001b[1;33m\u001b[0m\u001b[0m\n",
      "\u001b[1;32m~\\anaconda3\\lib\\site-packages\\matplotlib\\collections.py\u001b[0m in \u001b[0;36mdraw\u001b[1;34m(self, renderer)\u001b[0m\n\u001b[0;32m    404\u001b[0m                 mpath.Path(offsets), transOffset, tuple(facecolors[0]))\n\u001b[0;32m    405\u001b[0m         \u001b[1;32melse\u001b[0m\u001b[1;33m:\u001b[0m\u001b[1;33m\u001b[0m\u001b[1;33m\u001b[0m\u001b[0m\n\u001b[1;32m--> 406\u001b[1;33m             renderer.draw_path_collection(\n\u001b[0m\u001b[0;32m    407\u001b[0m                 \u001b[0mgc\u001b[0m\u001b[1;33m,\u001b[0m \u001b[0mtransform\u001b[0m\u001b[1;33m.\u001b[0m\u001b[0mfrozen\u001b[0m\u001b[1;33m(\u001b[0m\u001b[1;33m)\u001b[0m\u001b[1;33m,\u001b[0m \u001b[0mpaths\u001b[0m\u001b[1;33m,\u001b[0m\u001b[1;33m\u001b[0m\u001b[1;33m\u001b[0m\u001b[0m\n\u001b[0;32m    408\u001b[0m                 \u001b[0mself\u001b[0m\u001b[1;33m.\u001b[0m\u001b[0mget_transforms\u001b[0m\u001b[1;33m(\u001b[0m\u001b[1;33m)\u001b[0m\u001b[1;33m,\u001b[0m \u001b[0moffsets\u001b[0m\u001b[1;33m,\u001b[0m \u001b[0mtransOffset\u001b[0m\u001b[1;33m,\u001b[0m\u001b[1;33m\u001b[0m\u001b[1;33m\u001b[0m\u001b[0m\n",
      "\u001b[1;32m~\\anaconda3\\lib\\site-packages\\matplotlib\\backends\\backend_agg.py\u001b[0m in \u001b[0;36mdraw_path_collection\u001b[1;34m(self, gc, master_transform, paths, all_transforms, offsets, offsetTrans, facecolors, edgecolors, linewidths, linestyles, antialiaseds, urls, offset_position)\u001b[0m\n\u001b[0;32m    170\u001b[0m                 \u001b[1;34m\"3.3\"\u001b[0m\u001b[1;33m,\u001b[0m \u001b[0mmessage\u001b[0m\u001b[1;33m=\u001b[0m\u001b[1;34m\"Support for offset_position='data' is \"\u001b[0m\u001b[1;33m\u001b[0m\u001b[1;33m\u001b[0m\u001b[0m\n\u001b[0;32m    171\u001b[0m                 \"deprecated since %(since)s and will be removed %(removal)s.\")\n\u001b[1;32m--> 172\u001b[1;33m         return self._renderer.draw_path_collection(\n\u001b[0m\u001b[0;32m    173\u001b[0m             \u001b[0mgc\u001b[0m\u001b[1;33m,\u001b[0m \u001b[0mmaster_transform\u001b[0m\u001b[1;33m,\u001b[0m \u001b[0mpaths\u001b[0m\u001b[1;33m,\u001b[0m \u001b[0mall_transforms\u001b[0m\u001b[1;33m,\u001b[0m \u001b[0moffsets\u001b[0m\u001b[1;33m,\u001b[0m \u001b[0moffsetTrans\u001b[0m\u001b[1;33m,\u001b[0m\u001b[1;33m\u001b[0m\u001b[1;33m\u001b[0m\u001b[0m\n\u001b[0;32m    174\u001b[0m             \u001b[0mfacecolors\u001b[0m\u001b[1;33m,\u001b[0m \u001b[0medgecolors\u001b[0m\u001b[1;33m,\u001b[0m \u001b[0mlinewidths\u001b[0m\u001b[1;33m,\u001b[0m \u001b[0mlinestyles\u001b[0m\u001b[1;33m,\u001b[0m \u001b[0mantialiaseds\u001b[0m\u001b[1;33m,\u001b[0m \u001b[0murls\u001b[0m\u001b[1;33m,\u001b[0m\u001b[1;33m\u001b[0m\u001b[1;33m\u001b[0m\u001b[0m\n",
      "\u001b[1;32m~\\anaconda3\\lib\\site-packages\\matplotlib\\path.py\u001b[0m in \u001b[0;36mvertices\u001b[1;34m(self)\u001b[0m\n\u001b[0;32m    200\u001b[0m         )\n\u001b[0;32m    201\u001b[0m \u001b[1;33m\u001b[0m\u001b[0m\n\u001b[1;32m--> 202\u001b[1;33m     \u001b[1;33m@\u001b[0m\u001b[0mproperty\u001b[0m\u001b[1;33m\u001b[0m\u001b[1;33m\u001b[0m\u001b[0m\n\u001b[0m\u001b[0;32m    203\u001b[0m     \u001b[1;32mdef\u001b[0m \u001b[0mvertices\u001b[0m\u001b[1;33m(\u001b[0m\u001b[0mself\u001b[0m\u001b[1;33m)\u001b[0m\u001b[1;33m:\u001b[0m\u001b[1;33m\u001b[0m\u001b[1;33m\u001b[0m\u001b[0m\n\u001b[0;32m    204\u001b[0m         \"\"\"\n",
      "\u001b[1;31mKeyboardInterrupt\u001b[0m: "
     ]
    },
    {
     "name": "stdout",
     "output_type": "stream",
     "text": [
      "Error in callback <function flush_figures at 0x000001D06B708D30> (for post_execute):\n"
     ]
    },
    {
     "ename": "KeyboardInterrupt",
     "evalue": "",
     "output_type": "error",
     "traceback": [
      "\u001b[1;31m---------------------------------------------------------------------------\u001b[0m",
      "\u001b[1;31mKeyboardInterrupt\u001b[0m                         Traceback (most recent call last)",
      "\u001b[1;32m~\\anaconda3\\lib\\site-packages\\ipykernel\\pylab\\backend_inline.py\u001b[0m in \u001b[0;36mflush_figures\u001b[1;34m()\u001b[0m\n\u001b[0;32m    119\u001b[0m         \u001b[1;31m# ignore the tracking, just draw and close all figures\u001b[0m\u001b[1;33m\u001b[0m\u001b[1;33m\u001b[0m\u001b[1;33m\u001b[0m\u001b[0m\n\u001b[0;32m    120\u001b[0m         \u001b[1;32mtry\u001b[0m\u001b[1;33m:\u001b[0m\u001b[1;33m\u001b[0m\u001b[1;33m\u001b[0m\u001b[0m\n\u001b[1;32m--> 121\u001b[1;33m             \u001b[1;32mreturn\u001b[0m \u001b[0mshow\u001b[0m\u001b[1;33m(\u001b[0m\u001b[1;32mTrue\u001b[0m\u001b[1;33m)\u001b[0m\u001b[1;33m\u001b[0m\u001b[1;33m\u001b[0m\u001b[0m\n\u001b[0m\u001b[0;32m    122\u001b[0m         \u001b[1;32mexcept\u001b[0m \u001b[0mException\u001b[0m \u001b[1;32mas\u001b[0m \u001b[0me\u001b[0m\u001b[1;33m:\u001b[0m\u001b[1;33m\u001b[0m\u001b[1;33m\u001b[0m\u001b[0m\n\u001b[0;32m    123\u001b[0m             \u001b[1;31m# safely show traceback if in IPython, else raise\u001b[0m\u001b[1;33m\u001b[0m\u001b[1;33m\u001b[0m\u001b[1;33m\u001b[0m\u001b[0m\n",
      "\u001b[1;32m~\\anaconda3\\lib\\site-packages\\ipykernel\\pylab\\backend_inline.py\u001b[0m in \u001b[0;36mshow\u001b[1;34m(close, block)\u001b[0m\n\u001b[0;32m     39\u001b[0m     \u001b[1;32mtry\u001b[0m\u001b[1;33m:\u001b[0m\u001b[1;33m\u001b[0m\u001b[1;33m\u001b[0m\u001b[0m\n\u001b[0;32m     40\u001b[0m         \u001b[1;32mfor\u001b[0m \u001b[0mfigure_manager\u001b[0m \u001b[1;32min\u001b[0m \u001b[0mGcf\u001b[0m\u001b[1;33m.\u001b[0m\u001b[0mget_all_fig_managers\u001b[0m\u001b[1;33m(\u001b[0m\u001b[1;33m)\u001b[0m\u001b[1;33m:\u001b[0m\u001b[1;33m\u001b[0m\u001b[1;33m\u001b[0m\u001b[0m\n\u001b[1;32m---> 41\u001b[1;33m             display(\n\u001b[0m\u001b[0;32m     42\u001b[0m                 \u001b[0mfigure_manager\u001b[0m\u001b[1;33m.\u001b[0m\u001b[0mcanvas\u001b[0m\u001b[1;33m.\u001b[0m\u001b[0mfigure\u001b[0m\u001b[1;33m,\u001b[0m\u001b[1;33m\u001b[0m\u001b[1;33m\u001b[0m\u001b[0m\n\u001b[0;32m     43\u001b[0m                 \u001b[0mmetadata\u001b[0m\u001b[1;33m=\u001b[0m\u001b[0m_fetch_figure_metadata\u001b[0m\u001b[1;33m(\u001b[0m\u001b[0mfigure_manager\u001b[0m\u001b[1;33m.\u001b[0m\u001b[0mcanvas\u001b[0m\u001b[1;33m.\u001b[0m\u001b[0mfigure\u001b[0m\u001b[1;33m)\u001b[0m\u001b[1;33m\u001b[0m\u001b[1;33m\u001b[0m\u001b[0m\n",
      "\u001b[1;32m~\\anaconda3\\lib\\site-packages\\IPython\\core\\display.py\u001b[0m in \u001b[0;36mdisplay\u001b[1;34m(include, exclude, metadata, transient, display_id, *objs, **kwargs)\u001b[0m\n\u001b[0;32m    311\u001b[0m             \u001b[0mpublish_display_data\u001b[0m\u001b[1;33m(\u001b[0m\u001b[0mdata\u001b[0m\u001b[1;33m=\u001b[0m\u001b[0mobj\u001b[0m\u001b[1;33m,\u001b[0m \u001b[0mmetadata\u001b[0m\u001b[1;33m=\u001b[0m\u001b[0mmetadata\u001b[0m\u001b[1;33m,\u001b[0m \u001b[1;33m**\u001b[0m\u001b[0mkwargs\u001b[0m\u001b[1;33m)\u001b[0m\u001b[1;33m\u001b[0m\u001b[1;33m\u001b[0m\u001b[0m\n\u001b[0;32m    312\u001b[0m         \u001b[1;32melse\u001b[0m\u001b[1;33m:\u001b[0m\u001b[1;33m\u001b[0m\u001b[1;33m\u001b[0m\u001b[0m\n\u001b[1;32m--> 313\u001b[1;33m             \u001b[0mformat_dict\u001b[0m\u001b[1;33m,\u001b[0m \u001b[0mmd_dict\u001b[0m \u001b[1;33m=\u001b[0m \u001b[0mformat\u001b[0m\u001b[1;33m(\u001b[0m\u001b[0mobj\u001b[0m\u001b[1;33m,\u001b[0m \u001b[0minclude\u001b[0m\u001b[1;33m=\u001b[0m\u001b[0minclude\u001b[0m\u001b[1;33m,\u001b[0m \u001b[0mexclude\u001b[0m\u001b[1;33m=\u001b[0m\u001b[0mexclude\u001b[0m\u001b[1;33m)\u001b[0m\u001b[1;33m\u001b[0m\u001b[1;33m\u001b[0m\u001b[0m\n\u001b[0m\u001b[0;32m    314\u001b[0m             \u001b[1;32mif\u001b[0m \u001b[1;32mnot\u001b[0m \u001b[0mformat_dict\u001b[0m\u001b[1;33m:\u001b[0m\u001b[1;33m\u001b[0m\u001b[1;33m\u001b[0m\u001b[0m\n\u001b[0;32m    315\u001b[0m                 \u001b[1;31m# nothing to display (e.g. _ipython_display_ took over)\u001b[0m\u001b[1;33m\u001b[0m\u001b[1;33m\u001b[0m\u001b[1;33m\u001b[0m\u001b[0m\n",
      "\u001b[1;32m~\\anaconda3\\lib\\site-packages\\IPython\\core\\formatters.py\u001b[0m in \u001b[0;36mformat\u001b[1;34m(self, obj, include, exclude)\u001b[0m\n\u001b[0;32m    178\u001b[0m             \u001b[0mmd\u001b[0m \u001b[1;33m=\u001b[0m \u001b[1;32mNone\u001b[0m\u001b[1;33m\u001b[0m\u001b[1;33m\u001b[0m\u001b[0m\n\u001b[0;32m    179\u001b[0m             \u001b[1;32mtry\u001b[0m\u001b[1;33m:\u001b[0m\u001b[1;33m\u001b[0m\u001b[1;33m\u001b[0m\u001b[0m\n\u001b[1;32m--> 180\u001b[1;33m                 \u001b[0mdata\u001b[0m \u001b[1;33m=\u001b[0m \u001b[0mformatter\u001b[0m\u001b[1;33m(\u001b[0m\u001b[0mobj\u001b[0m\u001b[1;33m)\u001b[0m\u001b[1;33m\u001b[0m\u001b[1;33m\u001b[0m\u001b[0m\n\u001b[0m\u001b[0;32m    181\u001b[0m             \u001b[1;32mexcept\u001b[0m\u001b[1;33m:\u001b[0m\u001b[1;33m\u001b[0m\u001b[1;33m\u001b[0m\u001b[0m\n\u001b[0;32m    182\u001b[0m                 \u001b[1;31m# FIXME: log the exception\u001b[0m\u001b[1;33m\u001b[0m\u001b[1;33m\u001b[0m\u001b[1;33m\u001b[0m\u001b[0m\n",
      "\u001b[1;32m<decorator-gen-2>\u001b[0m in \u001b[0;36m__call__\u001b[1;34m(self, obj)\u001b[0m\n",
      "\u001b[1;32m~\\anaconda3\\lib\\site-packages\\IPython\\core\\formatters.py\u001b[0m in \u001b[0;36mcatch_format_error\u001b[1;34m(method, self, *args, **kwargs)\u001b[0m\n\u001b[0;32m    222\u001b[0m     \u001b[1;34m\"\"\"show traceback on failed format call\"\"\"\u001b[0m\u001b[1;33m\u001b[0m\u001b[1;33m\u001b[0m\u001b[0m\n\u001b[0;32m    223\u001b[0m     \u001b[1;32mtry\u001b[0m\u001b[1;33m:\u001b[0m\u001b[1;33m\u001b[0m\u001b[1;33m\u001b[0m\u001b[0m\n\u001b[1;32m--> 224\u001b[1;33m         \u001b[0mr\u001b[0m \u001b[1;33m=\u001b[0m \u001b[0mmethod\u001b[0m\u001b[1;33m(\u001b[0m\u001b[0mself\u001b[0m\u001b[1;33m,\u001b[0m \u001b[1;33m*\u001b[0m\u001b[0margs\u001b[0m\u001b[1;33m,\u001b[0m \u001b[1;33m**\u001b[0m\u001b[0mkwargs\u001b[0m\u001b[1;33m)\u001b[0m\u001b[1;33m\u001b[0m\u001b[1;33m\u001b[0m\u001b[0m\n\u001b[0m\u001b[0;32m    225\u001b[0m     \u001b[1;32mexcept\u001b[0m \u001b[0mNotImplementedError\u001b[0m\u001b[1;33m:\u001b[0m\u001b[1;33m\u001b[0m\u001b[1;33m\u001b[0m\u001b[0m\n\u001b[0;32m    226\u001b[0m         \u001b[1;31m# don't warn on NotImplementedErrors\u001b[0m\u001b[1;33m\u001b[0m\u001b[1;33m\u001b[0m\u001b[1;33m\u001b[0m\u001b[0m\n",
      "\u001b[1;32m~\\anaconda3\\lib\\site-packages\\IPython\\core\\formatters.py\u001b[0m in \u001b[0;36m__call__\u001b[1;34m(self, obj)\u001b[0m\n\u001b[0;32m    339\u001b[0m                 \u001b[1;32mpass\u001b[0m\u001b[1;33m\u001b[0m\u001b[1;33m\u001b[0m\u001b[0m\n\u001b[0;32m    340\u001b[0m             \u001b[1;32melse\u001b[0m\u001b[1;33m:\u001b[0m\u001b[1;33m\u001b[0m\u001b[1;33m\u001b[0m\u001b[0m\n\u001b[1;32m--> 341\u001b[1;33m                 \u001b[1;32mreturn\u001b[0m \u001b[0mprinter\u001b[0m\u001b[1;33m(\u001b[0m\u001b[0mobj\u001b[0m\u001b[1;33m)\u001b[0m\u001b[1;33m\u001b[0m\u001b[1;33m\u001b[0m\u001b[0m\n\u001b[0m\u001b[0;32m    342\u001b[0m             \u001b[1;31m# Finally look for special method names\u001b[0m\u001b[1;33m\u001b[0m\u001b[1;33m\u001b[0m\u001b[1;33m\u001b[0m\u001b[0m\n\u001b[0;32m    343\u001b[0m             \u001b[0mmethod\u001b[0m \u001b[1;33m=\u001b[0m \u001b[0mget_real_method\u001b[0m\u001b[1;33m(\u001b[0m\u001b[0mobj\u001b[0m\u001b[1;33m,\u001b[0m \u001b[0mself\u001b[0m\u001b[1;33m.\u001b[0m\u001b[0mprint_method\u001b[0m\u001b[1;33m)\u001b[0m\u001b[1;33m\u001b[0m\u001b[1;33m\u001b[0m\u001b[0m\n",
      "\u001b[1;32m~\\anaconda3\\lib\\site-packages\\IPython\\core\\pylabtools.py\u001b[0m in \u001b[0;36m<lambda>\u001b[1;34m(fig)\u001b[0m\n\u001b[0;32m    246\u001b[0m \u001b[1;33m\u001b[0m\u001b[0m\n\u001b[0;32m    247\u001b[0m     \u001b[1;32mif\u001b[0m \u001b[1;34m'png'\u001b[0m \u001b[1;32min\u001b[0m \u001b[0mformats\u001b[0m\u001b[1;33m:\u001b[0m\u001b[1;33m\u001b[0m\u001b[1;33m\u001b[0m\u001b[0m\n\u001b[1;32m--> 248\u001b[1;33m         \u001b[0mpng_formatter\u001b[0m\u001b[1;33m.\u001b[0m\u001b[0mfor_type\u001b[0m\u001b[1;33m(\u001b[0m\u001b[0mFigure\u001b[0m\u001b[1;33m,\u001b[0m \u001b[1;32mlambda\u001b[0m \u001b[0mfig\u001b[0m\u001b[1;33m:\u001b[0m \u001b[0mprint_figure\u001b[0m\u001b[1;33m(\u001b[0m\u001b[0mfig\u001b[0m\u001b[1;33m,\u001b[0m \u001b[1;34m'png'\u001b[0m\u001b[1;33m,\u001b[0m \u001b[1;33m**\u001b[0m\u001b[0mkwargs\u001b[0m\u001b[1;33m)\u001b[0m\u001b[1;33m)\u001b[0m\u001b[1;33m\u001b[0m\u001b[1;33m\u001b[0m\u001b[0m\n\u001b[0m\u001b[0;32m    249\u001b[0m     \u001b[1;32mif\u001b[0m \u001b[1;34m'retina'\u001b[0m \u001b[1;32min\u001b[0m \u001b[0mformats\u001b[0m \u001b[1;32mor\u001b[0m \u001b[1;34m'png2x'\u001b[0m \u001b[1;32min\u001b[0m \u001b[0mformats\u001b[0m\u001b[1;33m:\u001b[0m\u001b[1;33m\u001b[0m\u001b[1;33m\u001b[0m\u001b[0m\n\u001b[0;32m    250\u001b[0m         \u001b[0mpng_formatter\u001b[0m\u001b[1;33m.\u001b[0m\u001b[0mfor_type\u001b[0m\u001b[1;33m(\u001b[0m\u001b[0mFigure\u001b[0m\u001b[1;33m,\u001b[0m \u001b[1;32mlambda\u001b[0m \u001b[0mfig\u001b[0m\u001b[1;33m:\u001b[0m \u001b[0mretina_figure\u001b[0m\u001b[1;33m(\u001b[0m\u001b[0mfig\u001b[0m\u001b[1;33m,\u001b[0m \u001b[1;33m**\u001b[0m\u001b[0mkwargs\u001b[0m\u001b[1;33m)\u001b[0m\u001b[1;33m)\u001b[0m\u001b[1;33m\u001b[0m\u001b[1;33m\u001b[0m\u001b[0m\n",
      "\u001b[1;32m~\\anaconda3\\lib\\site-packages\\IPython\\core\\pylabtools.py\u001b[0m in \u001b[0;36mprint_figure\u001b[1;34m(fig, fmt, bbox_inches, **kwargs)\u001b[0m\n\u001b[0;32m    130\u001b[0m         \u001b[0mFigureCanvasBase\u001b[0m\u001b[1;33m(\u001b[0m\u001b[0mfig\u001b[0m\u001b[1;33m)\u001b[0m\u001b[1;33m\u001b[0m\u001b[1;33m\u001b[0m\u001b[0m\n\u001b[0;32m    131\u001b[0m \u001b[1;33m\u001b[0m\u001b[0m\n\u001b[1;32m--> 132\u001b[1;33m     \u001b[0mfig\u001b[0m\u001b[1;33m.\u001b[0m\u001b[0mcanvas\u001b[0m\u001b[1;33m.\u001b[0m\u001b[0mprint_figure\u001b[0m\u001b[1;33m(\u001b[0m\u001b[0mbytes_io\u001b[0m\u001b[1;33m,\u001b[0m \u001b[1;33m**\u001b[0m\u001b[0mkw\u001b[0m\u001b[1;33m)\u001b[0m\u001b[1;33m\u001b[0m\u001b[1;33m\u001b[0m\u001b[0m\n\u001b[0m\u001b[0;32m    133\u001b[0m     \u001b[0mdata\u001b[0m \u001b[1;33m=\u001b[0m \u001b[0mbytes_io\u001b[0m\u001b[1;33m.\u001b[0m\u001b[0mgetvalue\u001b[0m\u001b[1;33m(\u001b[0m\u001b[1;33m)\u001b[0m\u001b[1;33m\u001b[0m\u001b[1;33m\u001b[0m\u001b[0m\n\u001b[0;32m    134\u001b[0m     \u001b[1;32mif\u001b[0m \u001b[0mfmt\u001b[0m \u001b[1;33m==\u001b[0m \u001b[1;34m'svg'\u001b[0m\u001b[1;33m:\u001b[0m\u001b[1;33m\u001b[0m\u001b[1;33m\u001b[0m\u001b[0m\n",
      "\u001b[1;32m~\\anaconda3\\lib\\site-packages\\matplotlib\\backend_bases.py\u001b[0m in \u001b[0;36mprint_figure\u001b[1;34m(self, filename, dpi, facecolor, edgecolor, orientation, format, bbox_inches, pad_inches, bbox_extra_artists, backend, **kwargs)\u001b[0m\n\u001b[0;32m   2208\u001b[0m \u001b[1;33m\u001b[0m\u001b[0m\n\u001b[0;32m   2209\u001b[0m             \u001b[1;32mtry\u001b[0m\u001b[1;33m:\u001b[0m\u001b[1;33m\u001b[0m\u001b[1;33m\u001b[0m\u001b[0m\n\u001b[1;32m-> 2210\u001b[1;33m                 result = print_method(\n\u001b[0m\u001b[0;32m   2211\u001b[0m                     \u001b[0mfilename\u001b[0m\u001b[1;33m,\u001b[0m\u001b[1;33m\u001b[0m\u001b[1;33m\u001b[0m\u001b[0m\n\u001b[0;32m   2212\u001b[0m                     \u001b[0mdpi\u001b[0m\u001b[1;33m=\u001b[0m\u001b[0mdpi\u001b[0m\u001b[1;33m,\u001b[0m\u001b[1;33m\u001b[0m\u001b[1;33m\u001b[0m\u001b[0m\n",
      "\u001b[1;32m~\\anaconda3\\lib\\site-packages\\matplotlib\\backend_bases.py\u001b[0m in \u001b[0;36mwrapper\u001b[1;34m(*args, **kwargs)\u001b[0m\n\u001b[0;32m   1637\u001b[0m             \u001b[0mkwargs\u001b[0m\u001b[1;33m.\u001b[0m\u001b[0mpop\u001b[0m\u001b[1;33m(\u001b[0m\u001b[0marg\u001b[0m\u001b[1;33m)\u001b[0m\u001b[1;33m\u001b[0m\u001b[1;33m\u001b[0m\u001b[0m\n\u001b[0;32m   1638\u001b[0m \u001b[1;33m\u001b[0m\u001b[0m\n\u001b[1;32m-> 1639\u001b[1;33m         \u001b[1;32mreturn\u001b[0m \u001b[0mfunc\u001b[0m\u001b[1;33m(\u001b[0m\u001b[1;33m*\u001b[0m\u001b[0margs\u001b[0m\u001b[1;33m,\u001b[0m \u001b[1;33m**\u001b[0m\u001b[0mkwargs\u001b[0m\u001b[1;33m)\u001b[0m\u001b[1;33m\u001b[0m\u001b[1;33m\u001b[0m\u001b[0m\n\u001b[0m\u001b[0;32m   1640\u001b[0m \u001b[1;33m\u001b[0m\u001b[0m\n\u001b[0;32m   1641\u001b[0m     \u001b[1;32mreturn\u001b[0m \u001b[0mwrapper\u001b[0m\u001b[1;33m\u001b[0m\u001b[1;33m\u001b[0m\u001b[0m\n",
      "\u001b[1;32m~\\anaconda3\\lib\\site-packages\\matplotlib\\backends\\backend_agg.py\u001b[0m in \u001b[0;36mprint_png\u001b[1;34m(self, filename_or_obj, metadata, pil_kwargs, *args)\u001b[0m\n\u001b[0;32m    507\u001b[0m             \u001b[1;33m*\u001b[0m\u001b[0mmetadata\u001b[0m\u001b[1;33m*\u001b[0m\u001b[1;33m,\u001b[0m \u001b[0mincluding\u001b[0m \u001b[0mthe\u001b[0m \u001b[0mdefault\u001b[0m \u001b[1;34m'Software'\u001b[0m \u001b[0mkey\u001b[0m\u001b[1;33m.\u001b[0m\u001b[1;33m\u001b[0m\u001b[1;33m\u001b[0m\u001b[0m\n\u001b[0;32m    508\u001b[0m         \"\"\"\n\u001b[1;32m--> 509\u001b[1;33m         \u001b[0mFigureCanvasAgg\u001b[0m\u001b[1;33m.\u001b[0m\u001b[0mdraw\u001b[0m\u001b[1;33m(\u001b[0m\u001b[0mself\u001b[0m\u001b[1;33m)\u001b[0m\u001b[1;33m\u001b[0m\u001b[1;33m\u001b[0m\u001b[0m\n\u001b[0m\u001b[0;32m    510\u001b[0m         mpl.image.imsave(\n\u001b[0;32m    511\u001b[0m             \u001b[0mfilename_or_obj\u001b[0m\u001b[1;33m,\u001b[0m \u001b[0mself\u001b[0m\u001b[1;33m.\u001b[0m\u001b[0mbuffer_rgba\u001b[0m\u001b[1;33m(\u001b[0m\u001b[1;33m)\u001b[0m\u001b[1;33m,\u001b[0m \u001b[0mformat\u001b[0m\u001b[1;33m=\u001b[0m\u001b[1;34m\"png\"\u001b[0m\u001b[1;33m,\u001b[0m \u001b[0morigin\u001b[0m\u001b[1;33m=\u001b[0m\u001b[1;34m\"upper\"\u001b[0m\u001b[1;33m,\u001b[0m\u001b[1;33m\u001b[0m\u001b[1;33m\u001b[0m\u001b[0m\n",
      "\u001b[1;32m~\\anaconda3\\lib\\site-packages\\matplotlib\\backends\\backend_agg.py\u001b[0m in \u001b[0;36mdraw\u001b[1;34m(self)\u001b[0m\n\u001b[0;32m    405\u001b[0m              (self.toolbar._wait_cursor_for_draw_cm() if self.toolbar\n\u001b[0;32m    406\u001b[0m               else nullcontext()):\n\u001b[1;32m--> 407\u001b[1;33m             \u001b[0mself\u001b[0m\u001b[1;33m.\u001b[0m\u001b[0mfigure\u001b[0m\u001b[1;33m.\u001b[0m\u001b[0mdraw\u001b[0m\u001b[1;33m(\u001b[0m\u001b[0mself\u001b[0m\u001b[1;33m.\u001b[0m\u001b[0mrenderer\u001b[0m\u001b[1;33m)\u001b[0m\u001b[1;33m\u001b[0m\u001b[1;33m\u001b[0m\u001b[0m\n\u001b[0m\u001b[0;32m    408\u001b[0m             \u001b[1;31m# A GUI class may be need to update a window using this draw, so\u001b[0m\u001b[1;33m\u001b[0m\u001b[1;33m\u001b[0m\u001b[1;33m\u001b[0m\u001b[0m\n\u001b[0;32m    409\u001b[0m             \u001b[1;31m# don't forget to call the superclass.\u001b[0m\u001b[1;33m\u001b[0m\u001b[1;33m\u001b[0m\u001b[1;33m\u001b[0m\u001b[0m\n",
      "\u001b[1;32m~\\anaconda3\\lib\\site-packages\\matplotlib\\artist.py\u001b[0m in \u001b[0;36mdraw_wrapper\u001b[1;34m(artist, renderer, *args, **kwargs)\u001b[0m\n\u001b[0;32m     39\u001b[0m                 \u001b[0mrenderer\u001b[0m\u001b[1;33m.\u001b[0m\u001b[0mstart_filter\u001b[0m\u001b[1;33m(\u001b[0m\u001b[1;33m)\u001b[0m\u001b[1;33m\u001b[0m\u001b[1;33m\u001b[0m\u001b[0m\n\u001b[0;32m     40\u001b[0m \u001b[1;33m\u001b[0m\u001b[0m\n\u001b[1;32m---> 41\u001b[1;33m             \u001b[1;32mreturn\u001b[0m \u001b[0mdraw\u001b[0m\u001b[1;33m(\u001b[0m\u001b[0martist\u001b[0m\u001b[1;33m,\u001b[0m \u001b[0mrenderer\u001b[0m\u001b[1;33m,\u001b[0m \u001b[1;33m*\u001b[0m\u001b[0margs\u001b[0m\u001b[1;33m,\u001b[0m \u001b[1;33m**\u001b[0m\u001b[0mkwargs\u001b[0m\u001b[1;33m)\u001b[0m\u001b[1;33m\u001b[0m\u001b[1;33m\u001b[0m\u001b[0m\n\u001b[0m\u001b[0;32m     42\u001b[0m         \u001b[1;32mfinally\u001b[0m\u001b[1;33m:\u001b[0m\u001b[1;33m\u001b[0m\u001b[1;33m\u001b[0m\u001b[0m\n\u001b[0;32m     43\u001b[0m             \u001b[1;32mif\u001b[0m \u001b[0martist\u001b[0m\u001b[1;33m.\u001b[0m\u001b[0mget_agg_filter\u001b[0m\u001b[1;33m(\u001b[0m\u001b[1;33m)\u001b[0m \u001b[1;32mis\u001b[0m \u001b[1;32mnot\u001b[0m \u001b[1;32mNone\u001b[0m\u001b[1;33m:\u001b[0m\u001b[1;33m\u001b[0m\u001b[1;33m\u001b[0m\u001b[0m\n",
      "\u001b[1;32m~\\anaconda3\\lib\\site-packages\\matplotlib\\figure.py\u001b[0m in \u001b[0;36mdraw\u001b[1;34m(self, renderer)\u001b[0m\n\u001b[0;32m   1861\u001b[0m \u001b[1;33m\u001b[0m\u001b[0m\n\u001b[0;32m   1862\u001b[0m             \u001b[0mself\u001b[0m\u001b[1;33m.\u001b[0m\u001b[0mpatch\u001b[0m\u001b[1;33m.\u001b[0m\u001b[0mdraw\u001b[0m\u001b[1;33m(\u001b[0m\u001b[0mrenderer\u001b[0m\u001b[1;33m)\u001b[0m\u001b[1;33m\u001b[0m\u001b[1;33m\u001b[0m\u001b[0m\n\u001b[1;32m-> 1863\u001b[1;33m             mimage._draw_list_compositing_images(\n\u001b[0m\u001b[0;32m   1864\u001b[0m                 renderer, self, artists, self.suppressComposite)\n\u001b[0;32m   1865\u001b[0m \u001b[1;33m\u001b[0m\u001b[0m\n",
      "\u001b[1;32m~\\anaconda3\\lib\\site-packages\\matplotlib\\image.py\u001b[0m in \u001b[0;36m_draw_list_compositing_images\u001b[1;34m(renderer, parent, artists, suppress_composite)\u001b[0m\n\u001b[0;32m    129\u001b[0m     \u001b[1;32mif\u001b[0m \u001b[0mnot_composite\u001b[0m \u001b[1;32mor\u001b[0m \u001b[1;32mnot\u001b[0m \u001b[0mhas_images\u001b[0m\u001b[1;33m:\u001b[0m\u001b[1;33m\u001b[0m\u001b[1;33m\u001b[0m\u001b[0m\n\u001b[0;32m    130\u001b[0m         \u001b[1;32mfor\u001b[0m \u001b[0ma\u001b[0m \u001b[1;32min\u001b[0m \u001b[0martists\u001b[0m\u001b[1;33m:\u001b[0m\u001b[1;33m\u001b[0m\u001b[1;33m\u001b[0m\u001b[0m\n\u001b[1;32m--> 131\u001b[1;33m             \u001b[0ma\u001b[0m\u001b[1;33m.\u001b[0m\u001b[0mdraw\u001b[0m\u001b[1;33m(\u001b[0m\u001b[0mrenderer\u001b[0m\u001b[1;33m)\u001b[0m\u001b[1;33m\u001b[0m\u001b[1;33m\u001b[0m\u001b[0m\n\u001b[0m\u001b[0;32m    132\u001b[0m     \u001b[1;32melse\u001b[0m\u001b[1;33m:\u001b[0m\u001b[1;33m\u001b[0m\u001b[1;33m\u001b[0m\u001b[0m\n\u001b[0;32m    133\u001b[0m         \u001b[1;31m# Composite any adjacent images together\u001b[0m\u001b[1;33m\u001b[0m\u001b[1;33m\u001b[0m\u001b[1;33m\u001b[0m\u001b[0m\n",
      "\u001b[1;32m~\\anaconda3\\lib\\site-packages\\matplotlib\\artist.py\u001b[0m in \u001b[0;36mdraw_wrapper\u001b[1;34m(artist, renderer, *args, **kwargs)\u001b[0m\n\u001b[0;32m     39\u001b[0m                 \u001b[0mrenderer\u001b[0m\u001b[1;33m.\u001b[0m\u001b[0mstart_filter\u001b[0m\u001b[1;33m(\u001b[0m\u001b[1;33m)\u001b[0m\u001b[1;33m\u001b[0m\u001b[1;33m\u001b[0m\u001b[0m\n\u001b[0;32m     40\u001b[0m \u001b[1;33m\u001b[0m\u001b[0m\n\u001b[1;32m---> 41\u001b[1;33m             \u001b[1;32mreturn\u001b[0m \u001b[0mdraw\u001b[0m\u001b[1;33m(\u001b[0m\u001b[0martist\u001b[0m\u001b[1;33m,\u001b[0m \u001b[0mrenderer\u001b[0m\u001b[1;33m,\u001b[0m \u001b[1;33m*\u001b[0m\u001b[0margs\u001b[0m\u001b[1;33m,\u001b[0m \u001b[1;33m**\u001b[0m\u001b[0mkwargs\u001b[0m\u001b[1;33m)\u001b[0m\u001b[1;33m\u001b[0m\u001b[1;33m\u001b[0m\u001b[0m\n\u001b[0m\u001b[0;32m     42\u001b[0m         \u001b[1;32mfinally\u001b[0m\u001b[1;33m:\u001b[0m\u001b[1;33m\u001b[0m\u001b[1;33m\u001b[0m\u001b[0m\n\u001b[0;32m     43\u001b[0m             \u001b[1;32mif\u001b[0m \u001b[0martist\u001b[0m\u001b[1;33m.\u001b[0m\u001b[0mget_agg_filter\u001b[0m\u001b[1;33m(\u001b[0m\u001b[1;33m)\u001b[0m \u001b[1;32mis\u001b[0m \u001b[1;32mnot\u001b[0m \u001b[1;32mNone\u001b[0m\u001b[1;33m:\u001b[0m\u001b[1;33m\u001b[0m\u001b[1;33m\u001b[0m\u001b[0m\n",
      "\u001b[1;32m~\\anaconda3\\lib\\site-packages\\matplotlib\\cbook\\deprecation.py\u001b[0m in \u001b[0;36mwrapper\u001b[1;34m(*inner_args, **inner_kwargs)\u001b[0m\n\u001b[0;32m    409\u001b[0m                          \u001b[1;32melse\u001b[0m \u001b[0mdeprecation_addendum\u001b[0m\u001b[1;33m,\u001b[0m\u001b[1;33m\u001b[0m\u001b[1;33m\u001b[0m\u001b[0m\n\u001b[0;32m    410\u001b[0m                 **kwargs)\n\u001b[1;32m--> 411\u001b[1;33m         \u001b[1;32mreturn\u001b[0m \u001b[0mfunc\u001b[0m\u001b[1;33m(\u001b[0m\u001b[1;33m*\u001b[0m\u001b[0minner_args\u001b[0m\u001b[1;33m,\u001b[0m \u001b[1;33m**\u001b[0m\u001b[0minner_kwargs\u001b[0m\u001b[1;33m)\u001b[0m\u001b[1;33m\u001b[0m\u001b[1;33m\u001b[0m\u001b[0m\n\u001b[0m\u001b[0;32m    412\u001b[0m \u001b[1;33m\u001b[0m\u001b[0m\n\u001b[0;32m    413\u001b[0m     \u001b[1;32mreturn\u001b[0m \u001b[0mwrapper\u001b[0m\u001b[1;33m\u001b[0m\u001b[1;33m\u001b[0m\u001b[0m\n",
      "\u001b[1;32m~\\anaconda3\\lib\\site-packages\\matplotlib\\axes\\_base.py\u001b[0m in \u001b[0;36mdraw\u001b[1;34m(self, renderer, inframe)\u001b[0m\n\u001b[0;32m   2745\u001b[0m             \u001b[0mrenderer\u001b[0m\u001b[1;33m.\u001b[0m\u001b[0mstop_rasterizing\u001b[0m\u001b[1;33m(\u001b[0m\u001b[1;33m)\u001b[0m\u001b[1;33m\u001b[0m\u001b[1;33m\u001b[0m\u001b[0m\n\u001b[0;32m   2746\u001b[0m \u001b[1;33m\u001b[0m\u001b[0m\n\u001b[1;32m-> 2747\u001b[1;33m         \u001b[0mmimage\u001b[0m\u001b[1;33m.\u001b[0m\u001b[0m_draw_list_compositing_images\u001b[0m\u001b[1;33m(\u001b[0m\u001b[0mrenderer\u001b[0m\u001b[1;33m,\u001b[0m \u001b[0mself\u001b[0m\u001b[1;33m,\u001b[0m \u001b[0martists\u001b[0m\u001b[1;33m)\u001b[0m\u001b[1;33m\u001b[0m\u001b[1;33m\u001b[0m\u001b[0m\n\u001b[0m\u001b[0;32m   2748\u001b[0m \u001b[1;33m\u001b[0m\u001b[0m\n\u001b[0;32m   2749\u001b[0m         \u001b[0mrenderer\u001b[0m\u001b[1;33m.\u001b[0m\u001b[0mclose_group\u001b[0m\u001b[1;33m(\u001b[0m\u001b[1;34m'axes'\u001b[0m\u001b[1;33m)\u001b[0m\u001b[1;33m\u001b[0m\u001b[1;33m\u001b[0m\u001b[0m\n",
      "\u001b[1;32m~\\anaconda3\\lib\\site-packages\\matplotlib\\image.py\u001b[0m in \u001b[0;36m_draw_list_compositing_images\u001b[1;34m(renderer, parent, artists, suppress_composite)\u001b[0m\n\u001b[0;32m    129\u001b[0m     \u001b[1;32mif\u001b[0m \u001b[0mnot_composite\u001b[0m \u001b[1;32mor\u001b[0m \u001b[1;32mnot\u001b[0m \u001b[0mhas_images\u001b[0m\u001b[1;33m:\u001b[0m\u001b[1;33m\u001b[0m\u001b[1;33m\u001b[0m\u001b[0m\n\u001b[0;32m    130\u001b[0m         \u001b[1;32mfor\u001b[0m \u001b[0ma\u001b[0m \u001b[1;32min\u001b[0m \u001b[0martists\u001b[0m\u001b[1;33m:\u001b[0m\u001b[1;33m\u001b[0m\u001b[1;33m\u001b[0m\u001b[0m\n\u001b[1;32m--> 131\u001b[1;33m             \u001b[0ma\u001b[0m\u001b[1;33m.\u001b[0m\u001b[0mdraw\u001b[0m\u001b[1;33m(\u001b[0m\u001b[0mrenderer\u001b[0m\u001b[1;33m)\u001b[0m\u001b[1;33m\u001b[0m\u001b[1;33m\u001b[0m\u001b[0m\n\u001b[0m\u001b[0;32m    132\u001b[0m     \u001b[1;32melse\u001b[0m\u001b[1;33m:\u001b[0m\u001b[1;33m\u001b[0m\u001b[1;33m\u001b[0m\u001b[0m\n\u001b[0;32m    133\u001b[0m         \u001b[1;31m# Composite any adjacent images together\u001b[0m\u001b[1;33m\u001b[0m\u001b[1;33m\u001b[0m\u001b[1;33m\u001b[0m\u001b[0m\n",
      "\u001b[1;32m~\\anaconda3\\lib\\site-packages\\matplotlib\\artist.py\u001b[0m in \u001b[0;36mdraw_wrapper\u001b[1;34m(artist, renderer, *args, **kwargs)\u001b[0m\n\u001b[0;32m     39\u001b[0m                 \u001b[0mrenderer\u001b[0m\u001b[1;33m.\u001b[0m\u001b[0mstart_filter\u001b[0m\u001b[1;33m(\u001b[0m\u001b[1;33m)\u001b[0m\u001b[1;33m\u001b[0m\u001b[1;33m\u001b[0m\u001b[0m\n\u001b[0;32m     40\u001b[0m \u001b[1;33m\u001b[0m\u001b[0m\n\u001b[1;32m---> 41\u001b[1;33m             \u001b[1;32mreturn\u001b[0m \u001b[0mdraw\u001b[0m\u001b[1;33m(\u001b[0m\u001b[0martist\u001b[0m\u001b[1;33m,\u001b[0m \u001b[0mrenderer\u001b[0m\u001b[1;33m,\u001b[0m \u001b[1;33m*\u001b[0m\u001b[0margs\u001b[0m\u001b[1;33m,\u001b[0m \u001b[1;33m**\u001b[0m\u001b[0mkwargs\u001b[0m\u001b[1;33m)\u001b[0m\u001b[1;33m\u001b[0m\u001b[1;33m\u001b[0m\u001b[0m\n\u001b[0m\u001b[0;32m     42\u001b[0m         \u001b[1;32mfinally\u001b[0m\u001b[1;33m:\u001b[0m\u001b[1;33m\u001b[0m\u001b[1;33m\u001b[0m\u001b[0m\n\u001b[0;32m     43\u001b[0m             \u001b[1;32mif\u001b[0m \u001b[0martist\u001b[0m\u001b[1;33m.\u001b[0m\u001b[0mget_agg_filter\u001b[0m\u001b[1;33m(\u001b[0m\u001b[1;33m)\u001b[0m \u001b[1;32mis\u001b[0m \u001b[1;32mnot\u001b[0m \u001b[1;32mNone\u001b[0m\u001b[1;33m:\u001b[0m\u001b[1;33m\u001b[0m\u001b[1;33m\u001b[0m\u001b[0m\n",
      "\u001b[1;32m~\\anaconda3\\lib\\site-packages\\matplotlib\\collections.py\u001b[0m in \u001b[0;36mdraw\u001b[1;34m(self, renderer)\u001b[0m\n\u001b[0;32m    929\u001b[0m     \u001b[1;32mdef\u001b[0m \u001b[0mdraw\u001b[0m\u001b[1;33m(\u001b[0m\u001b[0mself\u001b[0m\u001b[1;33m,\u001b[0m \u001b[0mrenderer\u001b[0m\u001b[1;33m)\u001b[0m\u001b[1;33m:\u001b[0m\u001b[1;33m\u001b[0m\u001b[1;33m\u001b[0m\u001b[0m\n\u001b[0;32m    930\u001b[0m         \u001b[0mself\u001b[0m\u001b[1;33m.\u001b[0m\u001b[0mset_sizes\u001b[0m\u001b[1;33m(\u001b[0m\u001b[0mself\u001b[0m\u001b[1;33m.\u001b[0m\u001b[0m_sizes\u001b[0m\u001b[1;33m,\u001b[0m \u001b[0mself\u001b[0m\u001b[1;33m.\u001b[0m\u001b[0mfigure\u001b[0m\u001b[1;33m.\u001b[0m\u001b[0mdpi\u001b[0m\u001b[1;33m)\u001b[0m\u001b[1;33m\u001b[0m\u001b[1;33m\u001b[0m\u001b[0m\n\u001b[1;32m--> 931\u001b[1;33m         \u001b[0mCollection\u001b[0m\u001b[1;33m.\u001b[0m\u001b[0mdraw\u001b[0m\u001b[1;33m(\u001b[0m\u001b[0mself\u001b[0m\u001b[1;33m,\u001b[0m \u001b[0mrenderer\u001b[0m\u001b[1;33m)\u001b[0m\u001b[1;33m\u001b[0m\u001b[1;33m\u001b[0m\u001b[0m\n\u001b[0m\u001b[0;32m    932\u001b[0m \u001b[1;33m\u001b[0m\u001b[0m\n\u001b[0;32m    933\u001b[0m \u001b[1;33m\u001b[0m\u001b[0m\n",
      "\u001b[1;32m~\\anaconda3\\lib\\site-packages\\matplotlib\\artist.py\u001b[0m in \u001b[0;36mdraw_wrapper\u001b[1;34m(artist, renderer, *args, **kwargs)\u001b[0m\n\u001b[0;32m     39\u001b[0m                 \u001b[0mrenderer\u001b[0m\u001b[1;33m.\u001b[0m\u001b[0mstart_filter\u001b[0m\u001b[1;33m(\u001b[0m\u001b[1;33m)\u001b[0m\u001b[1;33m\u001b[0m\u001b[1;33m\u001b[0m\u001b[0m\n\u001b[0;32m     40\u001b[0m \u001b[1;33m\u001b[0m\u001b[0m\n\u001b[1;32m---> 41\u001b[1;33m             \u001b[1;32mreturn\u001b[0m \u001b[0mdraw\u001b[0m\u001b[1;33m(\u001b[0m\u001b[0martist\u001b[0m\u001b[1;33m,\u001b[0m \u001b[0mrenderer\u001b[0m\u001b[1;33m,\u001b[0m \u001b[1;33m*\u001b[0m\u001b[0margs\u001b[0m\u001b[1;33m,\u001b[0m \u001b[1;33m**\u001b[0m\u001b[0mkwargs\u001b[0m\u001b[1;33m)\u001b[0m\u001b[1;33m\u001b[0m\u001b[1;33m\u001b[0m\u001b[0m\n\u001b[0m\u001b[0;32m     42\u001b[0m         \u001b[1;32mfinally\u001b[0m\u001b[1;33m:\u001b[0m\u001b[1;33m\u001b[0m\u001b[1;33m\u001b[0m\u001b[0m\n\u001b[0;32m     43\u001b[0m             \u001b[1;32mif\u001b[0m \u001b[0martist\u001b[0m\u001b[1;33m.\u001b[0m\u001b[0mget_agg_filter\u001b[0m\u001b[1;33m(\u001b[0m\u001b[1;33m)\u001b[0m \u001b[1;32mis\u001b[0m \u001b[1;32mnot\u001b[0m \u001b[1;32mNone\u001b[0m\u001b[1;33m:\u001b[0m\u001b[1;33m\u001b[0m\u001b[1;33m\u001b[0m\u001b[0m\n",
      "\u001b[1;32m~\\anaconda3\\lib\\site-packages\\matplotlib\\collections.py\u001b[0m in \u001b[0;36mdraw\u001b[1;34m(self, renderer)\u001b[0m\n\u001b[0;32m    404\u001b[0m                 mpath.Path(offsets), transOffset, tuple(facecolors[0]))\n\u001b[0;32m    405\u001b[0m         \u001b[1;32melse\u001b[0m\u001b[1;33m:\u001b[0m\u001b[1;33m\u001b[0m\u001b[1;33m\u001b[0m\u001b[0m\n\u001b[1;32m--> 406\u001b[1;33m             renderer.draw_path_collection(\n\u001b[0m\u001b[0;32m    407\u001b[0m                 \u001b[0mgc\u001b[0m\u001b[1;33m,\u001b[0m \u001b[0mtransform\u001b[0m\u001b[1;33m.\u001b[0m\u001b[0mfrozen\u001b[0m\u001b[1;33m(\u001b[0m\u001b[1;33m)\u001b[0m\u001b[1;33m,\u001b[0m \u001b[0mpaths\u001b[0m\u001b[1;33m,\u001b[0m\u001b[1;33m\u001b[0m\u001b[1;33m\u001b[0m\u001b[0m\n\u001b[0;32m    408\u001b[0m                 \u001b[0mself\u001b[0m\u001b[1;33m.\u001b[0m\u001b[0mget_transforms\u001b[0m\u001b[1;33m(\u001b[0m\u001b[1;33m)\u001b[0m\u001b[1;33m,\u001b[0m \u001b[0moffsets\u001b[0m\u001b[1;33m,\u001b[0m \u001b[0mtransOffset\u001b[0m\u001b[1;33m,\u001b[0m\u001b[1;33m\u001b[0m\u001b[1;33m\u001b[0m\u001b[0m\n",
      "\u001b[1;32m~\\anaconda3\\lib\\site-packages\\matplotlib\\backends\\backend_agg.py\u001b[0m in \u001b[0;36mdraw_path_collection\u001b[1;34m(self, gc, master_transform, paths, all_transforms, offsets, offsetTrans, facecolors, edgecolors, linewidths, linestyles, antialiaseds, urls, offset_position)\u001b[0m\n\u001b[0;32m    170\u001b[0m                 \u001b[1;34m\"3.3\"\u001b[0m\u001b[1;33m,\u001b[0m \u001b[0mmessage\u001b[0m\u001b[1;33m=\u001b[0m\u001b[1;34m\"Support for offset_position='data' is \"\u001b[0m\u001b[1;33m\u001b[0m\u001b[1;33m\u001b[0m\u001b[0m\n\u001b[0;32m    171\u001b[0m                 \"deprecated since %(since)s and will be removed %(removal)s.\")\n\u001b[1;32m--> 172\u001b[1;33m         return self._renderer.draw_path_collection(\n\u001b[0m\u001b[0;32m    173\u001b[0m             \u001b[0mgc\u001b[0m\u001b[1;33m,\u001b[0m \u001b[0mmaster_transform\u001b[0m\u001b[1;33m,\u001b[0m \u001b[0mpaths\u001b[0m\u001b[1;33m,\u001b[0m \u001b[0mall_transforms\u001b[0m\u001b[1;33m,\u001b[0m \u001b[0moffsets\u001b[0m\u001b[1;33m,\u001b[0m \u001b[0moffsetTrans\u001b[0m\u001b[1;33m,\u001b[0m\u001b[1;33m\u001b[0m\u001b[1;33m\u001b[0m\u001b[0m\n\u001b[0;32m    174\u001b[0m             \u001b[0mfacecolors\u001b[0m\u001b[1;33m,\u001b[0m \u001b[0medgecolors\u001b[0m\u001b[1;33m,\u001b[0m \u001b[0mlinewidths\u001b[0m\u001b[1;33m,\u001b[0m \u001b[0mlinestyles\u001b[0m\u001b[1;33m,\u001b[0m \u001b[0mantialiaseds\u001b[0m\u001b[1;33m,\u001b[0m \u001b[0murls\u001b[0m\u001b[1;33m,\u001b[0m\u001b[1;33m\u001b[0m\u001b[1;33m\u001b[0m\u001b[0m\n",
      "\u001b[1;32m~\\anaconda3\\lib\\site-packages\\matplotlib\\path.py\u001b[0m in \u001b[0;36mvertices\u001b[1;34m(self)\u001b[0m\n\u001b[0;32m    200\u001b[0m         )\n\u001b[0;32m    201\u001b[0m \u001b[1;33m\u001b[0m\u001b[0m\n\u001b[1;32m--> 202\u001b[1;33m     \u001b[1;33m@\u001b[0m\u001b[0mproperty\u001b[0m\u001b[1;33m\u001b[0m\u001b[1;33m\u001b[0m\u001b[0m\n\u001b[0m\u001b[0;32m    203\u001b[0m     \u001b[1;32mdef\u001b[0m \u001b[0mvertices\u001b[0m\u001b[1;33m(\u001b[0m\u001b[0mself\u001b[0m\u001b[1;33m)\u001b[0m\u001b[1;33m:\u001b[0m\u001b[1;33m\u001b[0m\u001b[1;33m\u001b[0m\u001b[0m\n\u001b[0;32m    204\u001b[0m         \"\"\"\n",
      "\u001b[1;31mKeyboardInterrupt\u001b[0m: "
     ]
    }
   ],
   "source": [
    "sns.set_style(\"whitegrid\");\n",
    "sns.pairplot(data1, hue=\"is_attributed\", size=3);\n",
    "plt.show()"
   ]
  },
  {
   "cell_type": "markdown",
   "metadata": {},
   "source": [
    "Graphs show us that, almost 90% of our data is 0, which means that we do not have fraud. (but we cannot affirm that. we do not have fraud because the data can be wrong) Also, we can see that, we do not have much relationship between variables because the data have the same result. (zero) this kind of observation can tell us that, probably our data is unbalanced"
   ]
  },
  {
   "cell_type": "markdown",
   "metadata": {},
   "source": [
    "#  Correlation between variables "
   ]
  },
  {
   "cell_type": "code",
   "execution_count": null,
   "metadata": {},
   "outputs": [],
   "source": [
    "corr = data1.corr()\n",
    "corr"
   ]
  },
  {
   "cell_type": "code",
   "execution_count": null,
   "metadata": {},
   "outputs": [],
   "source": [
    "abs(corr['is_attributed'])[:5].sort_values(ascending = False)"
   ]
  },
  {
   "cell_type": "markdown",
   "metadata": {},
   "source": [
    "As we can see in the correlation table, we do not have a very good correlation between variables, the only good relationship \n",
    "that we have is the relationship between DEVICE and OS. we can say that these two variables have strong correlations"
   ]
  },
  {
   "cell_type": "markdown",
   "metadata": {},
   "source": [
    "# Heatmap to get more elivible result about corelation between variable"
   ]
  },
  {
   "cell_type": "code",
   "execution_count": null,
   "metadata": {},
   "outputs": [],
   "source": [
    "plt.figure(figsize=(20,10))\n",
    "sns.heatmap(corr,annot=True)"
   ]
  },
  {
   "cell_type": "markdown",
   "metadata": {},
   "source": [
    "As we can see in the map, we have some correlation between variables almost zero. That's mean does variable do not have a \n",
    " important impact in my analyzes\n",
    "for example, the correlation between ip and os is almost zero, but I will keep this variable in my analyzes\n",
    "because it has a good correlation with another variable"
   ]
  },
  {
   "cell_type": "markdown",
   "metadata": {},
   "source": [
    "# Looking if the data is Balance or not by ploting the countplot"
   ]
  },
  {
   "cell_type": "code",
   "execution_count": null,
   "metadata": {},
   "outputs": [],
   "source": [
    "print(data1.is_attributed.value_counts())\n",
    "\n",
    "\n",
    "\n",
    "sns.countplot(x='is_attributed',data = data1, palette='Set3')\n",
    "\n",
    "plt.title(\"is_attributed\")"
   ]
  },
  {
   "cell_type": "markdown",
   "metadata": {},
   "source": [
    "As we can see, the data is unbalanced because we have more than 90% of data as 0\n",
    "we can say that The vast majority of the transactions will be in the “Not-Fraud” class and a very\n",
    "small minority will be in the “Fraud” class."
   ]
  },
  {
   "cell_type": "markdown",
   "metadata": {},
   "source": [
    "# 2. Which column has maximum number of unique values present among all the available columns"
   ]
  },
  {
   "cell_type": "code",
   "execution_count": null,
   "metadata": {},
   "outputs": [],
   "source": [
    "categorical_columns = ['ip','app','device','os','channel','click_time','is_attributed']\n",
    "#Print frequency of categories\n",
    "for col in categorical_columns:\n",
    "    print (data1[col].value_counts())"
   ]
  },
  {
   "cell_type": "markdown",
   "metadata": {},
   "source": [
    "The column that has maximum number of unique values present  is the click_time column. It has 80350 UV"
   ]
  },
  {
   "cell_type": "markdown",
   "metadata": {},
   "source": [
    "# Use an appropriate technique to get rid of all the apps that are very rare (say which comprise of less than 20% clicks) and plot the rest..*"
   ]
  },
  {
   "cell_type": "code",
   "execution_count": 4,
   "metadata": {},
   "outputs": [
    {
     "name": "stdout",
     "output_type": "stream",
     "text": [
      "3      18279\n",
      "12     13198\n",
      "2      11737\n",
      "9       8992\n",
      "15      8595\n",
      "       ...  \n",
      "407        1\n",
      "145        1\n",
      "271        1\n",
      "398        1\n",
      "92         1\n",
      "Name: app, Length: 161, dtype: int64\n"
     ]
    }
   ],
   "source": [
    "print (data1['app'].value_counts() )\n",
    "app_count=data1['app'].value_counts()"
   ]
  },
  {
   "cell_type": "code",
   "execution_count": 5,
   "metadata": {},
   "outputs": [
    {
     "data": {
      "text/plain": [
       "Int64Index([  3,  12,   2,   9,  15,  18,  14,   1,  13,   8,  21,  11,  26,\n",
       "             23,   6,  64,   7,  20,  25,  28,  24,  27,  19,  10,  22,  17,\n",
       "             29,  32,   5, 151,  36, 150,   4,  47,  56,  35,  55,  58,  94,\n",
       "             37,  45,  93,  62, 183,  82,  83,  60],\n",
       "           dtype='int64')"
      ]
     },
     "execution_count": 5,
     "metadata": {},
     "output_type": "execute_result"
    }
   ],
   "source": [
    "# create a variable app_add to have all app that have > 20 of click.\n",
    "#app_count[app_count<50].index\n",
    "app_add=app_count[app_count>20].index\n",
    "#app_count[app_count>50]\n",
    "app_add"
   ]
  },
  {
   "cell_type": "code",
   "execution_count": 6,
   "metadata": {},
   "outputs": [
    {
     "data": {
      "text/plain": [
       "Int64Index([107,  65, 160,  72,  39,  38,  46, 110, 208,  44,\n",
       "            ...\n",
       "             91, 538, 474, 536, 216, 407, 145, 271, 398,  92],\n",
       "           dtype='int64', length=114)"
      ]
     },
     "execution_count": 6,
     "metadata": {},
     "output_type": "execute_result"
    }
   ],
   "source": [
    "# create a variable app_remove to remove all app that have < 20 of click.\n",
    "app_remove=app_count[app_count<20].index\n",
    "app_remove"
   ]
  },
  {
   "cell_type": "code",
   "execution_count": 7,
   "metadata": {},
   "outputs": [],
   "source": [
    "# create a list inicially empty and write a loop for, to add the new value (app_add) into it. \n",
    "clean_data=[]\n",
    "for app in app_add:\n",
    "    clean_data.append (data1.loc[data1['app']==app])\n",
    "    "
   ]
  },
  {
   "cell_type": "code",
   "execution_count": 8,
   "metadata": {},
   "outputs": [
    {
     "data": {
      "text/plain": [
       "[           ip  app  device  os  channel           click_time  is_attributed\n",
       " 5       93663    3       1  17      115  2017-11-09 01:22:13              0\n",
       " 9      143636    3       1  19      135  2017-11-08 12:35:26              0\n",
       " 10      73839    3       1  22      489  2017-11-08 08:14:37              0\n",
       " 11      34812    3       1  13      489  2017-11-07 05:03:14              0\n",
       " 12     114809    3       1  22      205  2017-11-09 10:24:23              0\n",
       " ...       ...  ...     ...  ..      ...                  ...            ...\n",
       " 99983   51379    3       1  41      135  2017-11-07 01:48:00              0\n",
       " 99985   61500    3       1  10      280  2017-11-09 01:50:53              0\n",
       " 99989   92730    3       1  19      379  2017-11-07 11:02:08              0\n",
       " 99993  146258    3       1  13      280  2017-11-09 03:03:17              0\n",
       " 99997   18839    3       1  13       19  2017-11-08 11:38:42              0\n",
       " \n",
       " [18279 rows x 7 columns],\n",
       "            ip  app  device  os  channel           click_time  is_attributed\n",
       " 0       87540   12       1  13      497  2017-11-07 09:30:38              0\n",
       " 2      101424   12       1  19      212  2017-11-07 18:05:24              0\n",
       " 4       68413   12       1   1      178  2017-11-09 09:00:09              0\n",
       " 20      28735   12       1  19      265  2017-11-09 09:55:22              0\n",
       " 28     135690   12       1  40      122  2017-11-07 06:39:04              0\n",
       " ...       ...  ...     ...  ..      ...                  ...            ...\n",
       " 99932  109353   12       1  20      245  2017-11-07 13:51:20              0\n",
       " 99950  273365   12       1  19      245  2017-11-07 23:01:34              0\n",
       " 99968   98474   12       1  23      245  2017-11-08 00:43:23              0\n",
       " 99982    5314   12       1  41      259  2017-11-09 02:09:20              0\n",
       " 99992  125061   12       1  13      328  2017-11-07 09:33:14              0\n",
       " \n",
       " [13198 rows x 7 columns],\n",
       "            ip  app  device  os  channel           click_time  is_attributed\n",
       " 8      192967    2       2  22      364  2017-11-08 09:35:17              0\n",
       " 14      36150    2       1  13      205  2017-11-07 00:54:09              0\n",
       " 16       5314    2       1   2      477  2017-11-09 07:33:41              0\n",
       " 37      75943    2       1  53      477  2017-11-07 13:28:54              0\n",
       " 48      48240    2       1  19      122  2017-11-08 14:40:36              0\n",
       " ...       ...  ...     ...  ..      ...                  ...            ...\n",
       " 99938  114683    2       1  22      469  2017-11-08 07:02:08              0\n",
       " 99939   70011    2       1  19      236  2017-11-07 01:31:18              0\n",
       " 99953   37028    2       1   3      219  2017-11-08 10:29:18              0\n",
       " 99973  153487    2       1  42      477  2017-11-09 00:59:38              0\n",
       " 99986  119614    2       1  19      219  2017-11-07 11:27:54              0\n",
       " \n",
       " [11737 rows x 7 columns],\n",
       "            ip  app  device  os  channel           click_time  is_attributed\n",
       " 7      121505    9       1  25      442  2017-11-07 10:01:53              0\n",
       " 22      25761    9       1  10      215  2017-11-08 02:05:37              0\n",
       " 46     116677    9       1  13      134  2017-11-08 00:56:33              0\n",
       " 56     122354    9       1  19      134  2017-11-07 23:16:58              0\n",
       " 70     171729    9       1  13      334  2017-11-07 10:31:02              0\n",
       " ...       ...  ...     ...  ..      ...                  ...            ...\n",
       " 99936    3730    9       1  19      442  2017-11-06 16:36:25              0\n",
       " 99944   49963    9       1  13      244  2017-11-09 11:28:27              0\n",
       " 99979   19162    9       1  37      489  2017-11-09 11:19:28              0\n",
       " 99990   84388    9       1  22      107  2017-11-09 04:21:28              0\n",
       " 99996   85150    9       1  13      244  2017-11-07 11:25:43              0\n",
       " \n",
       " [8992 rows x 7 columns],\n",
       "            ip  app  device  os  channel           click_time  is_attributed\n",
       " 32      10831   15       1  19      386  2017-11-09 12:39:11              0\n",
       " 42      49431   15       1  49      245  2017-11-07 23:11:39              0\n",
       " 43      53365   15       1  19      111  2017-11-09 04:23:01              0\n",
       " 45     107148   15       1  13      140  2017-11-07 00:49:13              0\n",
       " 47      11051   15       1  19      245  2017-11-08 02:14:22              0\n",
       " ...       ...  ...     ...  ..      ...                  ...            ...\n",
       " 99915   71514   15       1   3      245  2017-11-07 15:29:21              0\n",
       " 99934  156154   15       1  25      245  2017-11-08 03:23:11              0\n",
       " 99948   79881   15       1  19      245  2017-11-07 13:05:59              0\n",
       " 99972  118977   15       1  25      245  2017-11-07 05:02:52              0\n",
       " 99998  114276   15       1  12      245  2017-11-08 17:55:21              0\n",
       " \n",
       " [8595 rows x 7 columns],\n",
       "            ip  app  device  os  channel           click_time  is_attributed\n",
       " 41      35096   18       1  19      107  2017-11-09 15:26:37              0\n",
       " 65      25114   18       1  13      107  2017-11-08 02:07:55              0\n",
       " 79     100066   18       1  14      134  2017-11-07 09:12:27              0\n",
       " 89     123729   18       1  10      107  2017-11-08 23:07:32              0\n",
       " 102     51895   18       1  17      107  2017-11-09 07:26:02              0\n",
       " ...       ...  ...     ...  ..      ...                  ...            ...\n",
       " 99958   80356   18       1  13      107  2017-11-08 14:18:10              0\n",
       " 99961  119921   18       1  17      134  2017-11-06 22:21:14              0\n",
       " 99962   63262   18       1  12      107  2017-11-07 07:57:19              0\n",
       " 99963   55745   18       1   4      107  2017-11-09 13:43:48              0\n",
       " 99977    5788   18       1  58      439  2017-11-09 14:22:21              0\n",
       " \n",
       " [8315 rows x 7 columns],\n",
       "            ip  app  device  os  channel           click_time  is_attributed\n",
       " 19      37301   14       1  13      349  2017-11-06 20:07:00              0\n",
       " 35      28411   14       1  13      442  2017-11-06 23:45:32              0\n",
       " 49      92488   14       1  18      401  2017-11-08 17:33:47              0\n",
       " 57     104645   14       1  19      379  2017-11-09 12:57:00              0\n",
       " 90      73040   14       1  19      401  2017-11-07 16:49:07              0\n",
       " ...       ...  ...     ...  ..      ...                  ...            ...\n",
       " 99974   13487   14       1  19      379  2017-11-08 08:08:40              0\n",
       " 99975   34029   14       1  13      467  2017-11-09 15:32:57              0\n",
       " 99976    6908   14       1  18      123  2017-11-07 22:59:12              0\n",
       " 99980  111025   14       1  41      349  2017-11-08 12:58:11              0\n",
       " 99999  119349   14       1  15      401  2017-11-07 14:32:27              0\n",
       " \n",
       " [5359 rows x 7 columns],\n",
       "            ip  app  device  os  channel           click_time  is_attributed\n",
       " 6       17059    1       1  17      135  2017-11-09 01:17:58              0\n",
       " 27      52432    1       1  13      115  2017-11-07 17:22:52              0\n",
       " 33      89242    1       1  27      124  2017-11-07 09:37:21              0\n",
       " 92     123994    1       1  19      101  2017-11-09 14:27:57              0\n",
       " 112     34067    1       1  15      134  2017-11-07 15:06:06              0\n",
       " ...       ...  ...     ...  ..      ...                  ...            ...\n",
       " 99874  104857    1       1  13      137  2017-11-07 09:18:31              0\n",
       " 99912  181105    1       1   8       17  2017-11-08 02:40:44              0\n",
       " 99931   73487    1       1  17      153  2017-11-08 10:08:35              0\n",
       " 99946    5348    1       1  53      125  2017-11-07 06:53:37              0\n",
       " 99991   43374    1       1  18      134  2017-11-09 12:42:34              0\n",
       " \n",
       " [3135 rows x 7 columns],\n",
       "            ip  app  device  os  channel           click_time  is_attributed\n",
       " 3       94584   13       1  13      477  2017-11-07 04:58:08              0\n",
       " 36     127888   13       1  23      477  2017-11-06 16:24:24              0\n",
       " 132     47543   13       1  19      400  2017-11-07 13:40:51              0\n",
       " 159    103161   13       1   3      400  2017-11-07 12:47:06              0\n",
       " 282     81009   13       1  12      477  2017-11-08 02:58:20              0\n",
       " ...       ...  ...     ...  ..      ...                  ...            ...\n",
       " 99697   58899   13       1  32      477  2017-11-09 02:42:56              0\n",
       " 99846  291040   13       1  22      477  2017-11-09 03:23:32              0\n",
       " 99891  124033   13       1  12      477  2017-11-08 13:50:46              0\n",
       " 99895   73774   13       1  19      477  2017-11-07 02:16:30              0\n",
       " 99994  147153   13       1  13      477  2017-11-07 07:34:13              0\n",
       " \n",
       " [2422 rows x 7 columns],\n",
       "            ip  app  device  os  channel           click_time  is_attributed\n",
       " 53      40168    8       1  13      145  2017-11-07 02:22:07              0\n",
       " 73       5348    8       1  11      145  2017-11-08 13:17:06              0\n",
       " 108     61667    8       2  97      259  2017-11-07 05:00:39              0\n",
       " 115    110245    8       1  22      145  2017-11-07 22:41:22              0\n",
       " 145     20309    8       1  13      140  2017-11-09 10:16:00              0\n",
       " ...       ...  ...     ...  ..      ...                  ...            ...\n",
       " 99634  114276    8       2  36      145  2017-11-07 09:24:56              0\n",
       " 99724   23096    8       1  13      145  2017-11-07 03:27:29              0\n",
       " 99775   58415    8       1  18      145  2017-11-07 09:57:18              0\n",
       " 99916  113477    8       1  17      145  2017-11-09 04:15:32              0\n",
       " 99966   75885    8       2  20      145  2017-11-09 03:34:54              0\n",
       " \n",
       " [2004 rows x 7 columns],\n",
       "            ip  app  device  os  channel           click_time  is_attributed\n",
       " 66      25876   21       1  26      128  2017-11-08 09:57:39              0\n",
       " 109    118349   21       1  19      128  2017-11-09 01:07:36              0\n",
       " 140     79909   21       1   4      128  2017-11-07 19:22:18              0\n",
       " 242     49882   21       1  28      232  2017-11-08 08:53:51              0\n",
       " 243     20411   21       1  14      128  2017-11-07 05:40:08              0\n",
       " ...       ...  ...     ...  ..      ...                  ...            ...\n",
       " 99779  120481   21       1   9      128  2017-11-06 23:53:39              0\n",
       " 99803  110797   21       1  13      128  2017-11-08 10:37:57              0\n",
       " 99848    8356   21       2   6      128  2017-11-09 14:16:31              0\n",
       " 99853   88197   21       1  13      232  2017-11-08 07:55:37              0\n",
       " 99955   90830   21       1  53      128  2017-11-09 07:09:35              0\n",
       " \n",
       " [1979 rows x 7 columns],\n",
       "            ip  app  device  os  channel           click_time  is_attributed\n",
       " 50      74999   11       1  13      137  2017-11-09 15:17:12              0\n",
       " 68      79827   11       1  19      481  2017-11-08 18:21:09              0\n",
       " 262     23620   11       1  19      173  2017-11-07 05:14:57              0\n",
       " 297      7785   11       1  20      219  2017-11-08 15:17:31              0\n",
       " 338    176758   11       1  20      319  2017-11-07 01:35:46              0\n",
       " ...       ...  ...     ...  ..      ...                  ...            ...\n",
       " 99918  100182   11       1  17      137  2017-11-08 20:32:00              0\n",
       " 99925   27478   11       1  13      481  2017-11-07 00:36:18              0\n",
       " 99965  114276   11       1   6      319  2017-11-08 02:36:32              0\n",
       " 99987   41851   11       1  28      319  2017-11-08 13:19:42              0\n",
       " 99995  124883   11       1  19      122  2017-11-09 13:25:41              0\n",
       " \n",
       " [1927 rows x 7 columns],\n",
       "            ip  app  device  os  channel           click_time  is_attributed\n",
       " 129    103208   26       1  22      121  2017-11-09 15:32:16              0\n",
       " 181     72805   26       1   6      121  2017-11-07 10:49:19              0\n",
       " 249     58614   26       1  16      266  2017-11-09 14:23:15              0\n",
       " 275    357463   26       1  19      262  2017-11-09 08:32:26              0\n",
       " 294    195958   26       1  42      121  2017-11-09 05:20:40              0\n",
       " ...       ...  ...     ...  ..      ...                  ...            ...\n",
       " 99908   43996   26       1  53      121  2017-11-06 23:33:42              0\n",
       " 99920  152743   26       1  13      121  2017-11-09 10:33:18              0\n",
       " 99926   79140   26       1  10      477  2017-11-09 06:04:02              0\n",
       " 99929  107131   26       1  22      477  2017-11-09 04:04:34              0\n",
       " 99952    4948   26       1  18      121  2017-11-07 01:15:30              0\n",
       " \n",
       " [1633 rows x 7 columns],\n",
       "            ip  app  device  os  channel           click_time  is_attributed\n",
       " 61      52076   23       1  10      153  2017-11-08 16:41:39              0\n",
       " 82      63109   23       1  25      153  2017-11-09 01:43:11              0\n",
       " 118    124794   23       1  13      153  2017-11-08 13:46:43              0\n",
       " 120     91175   23       1  13      153  2017-11-07 01:20:11              0\n",
       " 130     92092   23       1  19      153  2017-11-07 11:52:05              0\n",
       " ...       ...  ...     ...  ..      ...                  ...            ...\n",
       " 99580   76204   23       1  19      153  2017-11-07 09:20:04              0\n",
       " 99591   88393   23       1  19      153  2017-11-07 02:28:50              0\n",
       " 99792   53715   23       1   9      153  2017-11-07 12:32:54              0\n",
       " 99882      63   23       1  13      153  2017-11-08 16:01:02              0\n",
       " 99943    7210   23       1  18      153  2017-11-08 00:47:38              0\n",
       " \n",
       " [1454 rows x 7 columns],\n",
       "            ip  app  device  os  channel           click_time  is_attributed\n",
       " 13     114220    6       1  20      125  2017-11-08 14:46:16              0\n",
       " 62      88604    6       1  17      459  2017-11-06 16:28:06              0\n",
       " 165     37919    6       1  19      459  2017-11-06 17:13:19              0\n",
       " 167     39454    6       1  13      125  2017-11-07 13:37:35              0\n",
       " 407    333899    6       1  32      125  2017-11-08 16:00:46              0\n",
       " ...       ...  ...     ...  ..      ...                  ...            ...\n",
       " 99364  197177    6       1   8      459  2017-11-08 15:21:00              0\n",
       " 99445    5348    6       1  17      125  2017-11-07 13:35:49              0\n",
       " 99802  133209    6       1  22      459  2017-11-09 12:20:18              0\n",
       " 99835  281518    6       1  19      125  2017-11-08 04:22:25              0\n",
       " 99988   69449    6       1  13      125  2017-11-09 13:53:30              0\n",
       " \n",
       " [1303 rows x 7 columns],\n",
       "            ip  app  device  os  channel           click_time  is_attributed\n",
       " 21      66918   64       1  25      459  2017-11-08 17:01:58              0\n",
       " 25     145896   64       1  13      459  2017-11-07 03:58:58              0\n",
       " 31      70747   64       1  15      459  2017-11-07 14:00:50              0\n",
       " 55     134466   64       1  13      459  2017-11-08 10:42:25              0\n",
       " 67      61941   64       1  41      459  2017-11-07 23:07:23              0\n",
       " ...       ...  ...     ...  ..      ...                  ...            ...\n",
       " 99258  117236   64       1  16      459  2017-11-08 13:22:48              0\n",
       " 99369   32697   64       1  19      459  2017-11-08 03:59:44              0\n",
       " 99704  177334   64       1  41      459  2017-11-07 13:29:38              0\n",
       " 99710   26630   64       1  13      459  2017-11-08 06:03:04              0\n",
       " 99935   37240   64       1  18      459  2017-11-07 06:16:43              0\n",
       " \n",
       " [1079 rows x 7 columns],\n",
       "            ip  app  device  os  channel           click_time  is_attributed\n",
       " 23       8362    7       1  19      101  2017-11-07 10:30:00              0\n",
       " 122     81970    7       1  18      101  2017-11-09 11:33:43              0\n",
       " 277    291594    7       1  55      101  2017-11-09 10:19:01              0\n",
       " 299    105475    7       1  40      101  2017-11-09 14:05:21              0\n",
       " 470     43827    7       1  13      101  2017-11-07 10:57:54              0\n",
       " ...       ...  ...     ...  ..      ...                  ...            ...\n",
       " 99358  120822    7       1  19      101  2017-11-09 07:24:16              0\n",
       " 99538   40654    7       1  10      101  2017-11-09 06:15:55              0\n",
       " 99840  106122    7       1  19      101  2017-11-09 07:20:05              0\n",
       " 99880  202226    7       1   8      101  2017-11-09 06:33:06              0\n",
       " 99978  190943    7       1  13      101  2017-11-09 11:47:49              0\n",
       " \n",
       " [981 rows x 7 columns],\n",
       "            ip  app  device  os  channel           click_time  is_attributed\n",
       " 18      72065   20       2  90      259  2017-11-06 23:14:08              0\n",
       " 172    175660   20       1  13      259  2017-11-08 01:13:51              0\n",
       " 202     11668   20       1   8      478  2017-11-08 00:24:59              0\n",
       " 220     61423   20       1  19      259  2017-11-07 06:49:57              0\n",
       " 295     87998   20       1  20      478  2017-11-08 10:39:02              0\n",
       " ...       ...  ...     ...  ..      ...                  ...            ...\n",
       " 99719  184529   20       1  17      259  2017-11-08 00:24:45              0\n",
       " 99805  170492   20       1  16      259  2017-11-07 04:51:42              0\n",
       " 99834   71495   20       1  13      478  2017-11-09 00:07:46              0\n",
       " 99878  178424   20       1  20      259  2017-11-07 15:39:17              0\n",
       " 99901   43959   20       1  27      478  2017-11-08 03:37:07              0\n",
       " \n",
       " [911 rows x 7 columns],\n",
       "            ip  app  device  os  channel           click_time  is_attributed\n",
       " 1      105560   25       1  17      259  2017-11-07 13:40:27              0\n",
       " 15      72116   25       2  19      259  2017-11-08 23:17:45              0\n",
       " 44      92599   25       2  13      259  2017-11-09 10:04:27              0\n",
       " 94     127351   25       1  13      259  2017-11-07 16:27:20              0\n",
       " 182     93498   25       1  19      259  2017-11-09 09:58:21              0\n",
       " ...       ...  ...     ...  ..      ...                  ...            ...\n",
       " 99679   60136   25       1  41      259  2017-11-08 15:10:13              0\n",
       " 99813   80736   25       1  22      259  2017-11-06 22:51:26              0\n",
       " 99945   93330   25       1  31      259  2017-11-08 01:59:39              0\n",
       " 99949   29567   25       1  13      259  2017-11-06 16:05:49              0\n",
       " 99959   63431   25       1   8      259  2017-11-08 00:19:24              0\n",
       " \n",
       " [804 rows x 7 columns],\n",
       "            ip  app  device  os  channel           click_time  is_attributed\n",
       " 83       5314   28       1  19      135  2017-11-07 14:11:43              0\n",
       " 128    191339   28       1  19      135  2017-11-07 10:36:50              0\n",
       " 250     49439   28       1  19      135  2017-11-09 10:10:34              0\n",
       " 403      6113   28       1  19      135  2017-11-06 18:42:18              0\n",
       " 566     69605   28       1  19      135  2017-11-09 07:35:16              0\n",
       " ...       ...  ...     ...  ..      ...                  ...            ...\n",
       " 99635   59596   28       1  10      135  2017-11-09 10:49:32              0\n",
       " 99643   60051   28       1  17      135  2017-11-07 15:18:40              0\n",
       " 99659   68652   28       1  13      135  2017-11-08 21:16:02              0\n",
       " 99709    5314   28       1  47      135  2017-11-07 13:03:50              0\n",
       " 99924   91582   28       2  36      135  2017-11-09 06:39:41              0\n",
       " \n",
       " [720 rows x 7 columns],\n",
       "            ip  app  device  os  channel           click_time  is_attributed\n",
       " 313     52923   24       1  22      105  2017-11-09 07:08:46              0\n",
       " 358     74606   24       1  13      105  2017-11-07 04:45:12              0\n",
       " 435     36979   24       2  13      105  2017-11-07 11:23:19              0\n",
       " 557    361422   24       1  11      178  2017-11-09 02:46:08              0\n",
       " 775     27234   24       1  19      105  2017-11-07 12:54:24              0\n",
       " ...       ...  ...     ...  ..      ...                  ...            ...\n",
       " 99259  109776   24       2  13      105  2017-11-07 14:33:43              0\n",
       " 99359  201803   24       1  19      105  2017-11-07 04:40:03              0\n",
       " 99361  205797   24       1  13      105  2017-11-07 13:30:36              0\n",
       " 99436  137409   24       1  13      105  2017-11-06 22:27:27              0\n",
       " 99956  131001   24       1  19      105  2017-11-08 09:43:39              0\n",
       " \n",
       " [704 rows x 7 columns],\n",
       "            ip  app  device  os  channel           click_time  is_attributed\n",
       " 164     63516   27       1  13      153  2017-11-09 12:05:34              0\n",
       " 272     43899   27       1  13      153  2017-11-09 11:53:03              0\n",
       " 319    105475   27       1  32      153  2017-11-07 14:36:19              0\n",
       " 460     67981   27       1  19      153  2017-11-08 12:06:09              0\n",
       " 513    122688   27       1  13      153  2017-11-08 11:56:44              0\n",
       " ...       ...  ...     ...  ..      ...                  ...            ...\n",
       " 99310   75602   27       1  13      122  2017-11-08 00:37:32              0\n",
       " 99430  112553   27       1  32      122  2017-11-07 05:57:28              0\n",
       " 99483   97421   27       1  42      153  2017-11-07 10:40:07              0\n",
       " 99894  161606   27       1  13      153  2017-11-07 15:33:07              0\n",
       " 99984  185961   27       1  13      122  2017-11-07 05:02:01              0\n",
       " \n",
       " [696 rows x 7 columns],\n",
       "            ip  app  device  os  channel           click_time  is_attributed\n",
       " 284    224120   19       0  29      213  2017-11-08 02:22:13              1\n",
       " 592    162367   19       0  99      347  2017-11-08 23:39:29              0\n",
       " 650     56516   19       7  21      282  2017-11-08 11:30:41              0\n",
       " 727     95820   19       0  50      213  2017-11-09 10:18:25              0\n",
       " 1208    79001   19       0   0      213  2017-11-07 09:54:22              1\n",
       " ...       ...  ...     ...  ..      ...                  ...            ...\n",
       " 99365   70020   19       0  50      343  2017-11-08 23:57:37              0\n",
       " 99539   60159   19       0  24      347  2017-11-09 09:12:59              0\n",
       " 99681   98476   19       0  24      213  2017-11-08 10:59:10              0\n",
       " 99716  120099   19     241  50      282  2017-11-08 15:20:50              0\n",
       " 99799    1273   19       0  24      213  2017-11-09 14:41:55              0\n",
       " \n",
       " [478 rows x 7 columns],\n",
       "            ip  app  device  os  channel           click_time  is_attributed\n",
       " 198     94765   10       1  10      377  2017-11-08 04:28:13              0\n",
       " 481    272894   10       1   7      113  2017-11-08 06:10:05              1\n",
       " 548     21925   10       1   6      377  2017-11-08 17:05:32              0\n",
       " 612    110325   10       1  19      317  2017-11-09 07:14:12              0\n",
       " 709    166224   10       1  25      113  2017-11-06 23:30:03              0\n",
       " ...       ...  ...     ...  ..      ...                  ...            ...\n",
       " 99322   44490   10       1  17      377  2017-11-08 03:22:52              0\n",
       " 99381  100182   10       1  13      317  2017-11-09 03:03:54              0\n",
       " 99909   59233   10       1  41      113  2017-11-07 05:57:29              0\n",
       " 99969   63913   10       1  22      317  2017-11-08 10:01:28              0\n",
       " 99981   15651   10       1   1      377  2017-11-09 06:50:25              0\n",
       " \n",
       " [388 rows x 7 columns],\n",
       "            ip  app  device  os  channel           click_time  is_attributed\n",
       " 123    301417   22       1  19      116  2017-11-08 23:20:26              0\n",
       " 183    111685   22       1  22      116  2017-11-08 06:48:06              0\n",
       " 192     63925   22       2  17      496  2017-11-07 08:52:29              0\n",
       " 205    108048   22       1  19      116  2017-11-08 04:43:51              0\n",
       " 326    114439   22       1  18      116  2017-11-08 13:24:56              0\n",
       " ...       ...  ...     ...  ..      ...                  ...            ...\n",
       " 99076   56341   22       1  13      116  2017-11-06 23:17:51              0\n",
       " 99095   42707   22       1  13      116  2017-11-07 06:02:33              0\n",
       " 99180   53709   22       1  13      496  2017-11-07 04:04:01              0\n",
       " 99649  222918   22       1  47      116  2017-11-08 14:05:08              0\n",
       " 99735  122357   22       1  13      116  2017-11-07 00:32:34              0\n",
       " \n",
       " [386 rows x 7 columns],\n",
       "            ip  app  device  os  channel           click_time  is_attributed\n",
       " 137     85072   17       2   9      280  2017-11-07 05:23:41              0\n",
       " 311    106541   17       1  13      280  2017-11-08 00:50:35              0\n",
       " 507     22256   17       1  13      280  2017-11-07 03:34:00              0\n",
       " 674      1195   17       1  10      280  2017-11-08 02:52:06              0\n",
       " 855     79834   17       1   8      128  2017-11-09 15:16:08              0\n",
       " ...       ...  ...     ...  ..      ...                  ...            ...\n",
       " 99141  108127   17       1  19      280  2017-11-08 01:40:22              0\n",
       " 99168  100445   17       1  25      280  2017-11-07 12:20:50              0\n",
       " 99204   34387   17       1  19      280  2017-11-08 02:31:01              0\n",
       " 99207   53454   17       1  27      128  2017-11-09 14:19:59              0\n",
       " 99354   52746   17       1  11      280  2017-11-07 10:22:58              0\n",
       " \n",
       " [380 rows x 7 columns],\n",
       "            ip  app  device  os  channel           click_time  is_attributed\n",
       " 1135   129434   29       1  13      343  2017-11-06 22:15:28              0\n",
       " 1579    56035   29       1  19      347  2017-11-07 11:34:57              0\n",
       " 1681   121163   29       1  13      213  2017-11-09 08:47:46              0\n",
       " 1909    18474   29       1  17      101  2017-11-07 15:27:09              0\n",
       " 3018    48170   29       1   2      343  2017-11-07 15:06:39              0\n",
       " ...       ...  ...     ...  ..      ...                  ...            ...\n",
       " 98427   43855   29       1  42      343  2017-11-09 14:12:40              0\n",
       " 98893  127838   29       1  19      213  2017-11-07 13:29:08              0\n",
       " 98913   77621   29       1  13      213  2017-11-08 03:28:50              0\n",
       " 99530   24815   29       1  11      343  2017-11-09 06:08:15              0\n",
       " 99954  102235   29       1  30      213  2017-11-08 09:15:52              0\n",
       " \n",
       " [360 rows x 7 columns],\n",
       "            ip  app  device  os  channel           click_time  is_attributed\n",
       " 296     24977   32       1  39      376  2017-11-07 12:07:24              0\n",
       " 607    260488   32       1  23      376  2017-11-08 06:15:13              0\n",
       " 675      4570   32       1  15      376  2017-11-09 03:42:37              0\n",
       " 711     50983   32       1  19      376  2017-11-07 08:44:37              0\n",
       " 885     70308   32       1  64      376  2017-11-07 05:46:09              0\n",
       " ...       ...  ...     ...  ..      ...                  ...            ...\n",
       " 97825   62083   32       1  30      376  2017-11-09 02:40:42              0\n",
       " 98519   89117   32       1  16      376  2017-11-07 11:05:40              0\n",
       " 98934    3009   32       1  15      376  2017-11-07 12:29:33              0\n",
       " 99270   56317   32       1  23      376  2017-11-07 04:24:21              0\n",
       " 99527  112926   32       1  13      376  2017-11-08 04:48:34              0\n",
       " \n",
       " [286 rows x 7 columns],\n",
       "            ip  app  device  os  channel           click_time  is_attributed\n",
       " 559     75374    5       1   8      377  2017-11-09 04:22:30              0\n",
       " 874     45121    5       1  22      377  2017-11-08 11:32:25              0\n",
       " 1105   116530    5       1  19      377  2017-11-08 23:18:06              0\n",
       " 1662    70008    5       1  13      377  2017-11-08 03:45:26              0\n",
       " 1849   165484    5       1  25      377  2017-11-09 09:03:42              0\n",
       " ...       ...  ...     ...  ..      ...                  ...            ...\n",
       " 98460   26995    5       1  30      377  2017-11-08 02:31:40              0\n",
       " 98584   41200    5       1  19      377  2017-11-08 18:41:33              0\n",
       " 99132   60925    5       1   1      377  2017-11-07 00:06:08              0\n",
       " 99562    6481    5       1  13      377  2017-11-08 04:57:34              1\n",
       " 99714   99024    5       1   8      377  2017-11-07 03:12:21              0\n",
       " \n",
       " [188 rows x 7 columns],\n",
       "            ip  app  device  os  channel           click_time  is_attributed\n",
       " 3200    48668  151       0  24      347  2017-11-09 12:17:09              0\n",
       " 3674     6996  151       0  38      347  2017-11-08 07:39:24              0\n",
       " 4606    72936  151       0  76      347  2017-11-07 16:30:42              0\n",
       " 5832     5314  151       0   0      347  2017-11-07 21:53:40              0\n",
       " 6345   100182  151       0  38      347  2017-11-07 15:47:49              0\n",
       " ...       ...  ...     ...  ..      ...                  ...            ...\n",
       " 97683   26762  151       0   0      347  2017-11-07 11:03:36              0\n",
       " 98208   86767  151       0  24      347  2017-11-08 05:19:23              0\n",
       " 98363   81674  151       0   0      347  2017-11-08 04:31:22              0\n",
       " 99315  147113  151       0  38      347  2017-11-08 11:05:23              0\n",
       " 99433  147065  151       0   0      347  2017-11-07 04:42:09              0\n",
       " \n",
       " [109 rows x 7 columns],\n",
       "            ip  app  device  os  channel           click_time  is_attributed\n",
       " 86     111021   36       1  15      373  2017-11-08 05:49:05              0\n",
       " 530    118125   36       1  18      110  2017-11-09 10:39:52              0\n",
       " 786     48384   36       1  13      373  2017-11-07 13:41:32              0\n",
       " 1485   102005   36       1  19      373  2017-11-08 08:58:07              0\n",
       " 2600   182139   36       1  25      110  2017-11-08 11:13:45              0\n",
       " ...       ...  ...     ...  ..      ...                  ...            ...\n",
       " 93138  100054   36       1  13      110  2017-11-07 19:03:06              0\n",
       " 93423     501   36       1  15      373  2017-11-09 04:10:59              0\n",
       " 95190  111061   36       1  13      373  2017-11-07 07:18:23              0\n",
       " 95702   49939   36       1  19      373  2017-11-09 03:33:54              0\n",
       " 97687   83306   36       1  13      110  2017-11-07 01:59:57              0\n",
       " \n",
       " [102 rows x 7 columns],\n",
       "            ip  app  device  os  channel           click_time  is_attributed\n",
       " 3023   106223  150       1  19      110  2017-11-08 08:59:06              0\n",
       " 3826   187535  150       1  13      110  2017-11-07 05:52:54              0\n",
       " 4807    54368  150       1  13      110  2017-11-07 02:35:22              0\n",
       " 10391   65704  150       1  41      110  2017-11-06 16:35:01              0\n",
       " 10540  110235  150       1  19      110  2017-11-08 07:09:00              0\n",
       " ...       ...  ...     ...  ..      ...                  ...            ...\n",
       " 95580  189828  150       1   8      110  2017-11-07 07:40:05              0\n",
       " 95590  128803  150       1  22      110  2017-11-08 09:07:42              0\n",
       " 97551   22170  150       1  19      110  2017-11-07 07:17:51              0\n",
       " 97660  104839  150       1  22      110  2017-11-08 08:35:48              0\n",
       " 97965   71424  150       1  13      110  2017-11-08 02:54:30              0\n",
       " \n",
       " [73 rows x 7 columns],\n",
       "            ip  app  device   os  channel           click_time  is_attributed\n",
       " 334    174783    4       1   49      101  2017-11-07 03:42:22              0\n",
       " 4969   292151    4       1    2      101  2017-11-08 20:40:50              0\n",
       " 5018   124006    4       1   19      101  2017-11-08 02:58:56              0\n",
       " 5057   215871    4       1   19      101  2017-11-08 02:24:06              0\n",
       " 5630   111025    4       1   19      101  2017-11-09 13:35:59              0\n",
       " 6507   101470    4       1    6      101  2017-11-08 02:49:24              0\n",
       " 7359    10356    4       1   17      101  2017-11-08 03:01:51              0\n",
       " 9608    79881    4       1   41      101  2017-11-09 12:06:27              0\n",
       " 12564   93523    4       1   13      101  2017-11-09 15:47:57              0\n",
       " 13263   66000    4       2   37      101  2017-11-09 15:45:42              0\n",
       " 13691   29993    4       1    6      101  2017-11-09 12:07:13              0\n",
       " 14498   87073    4       1   37      101  2017-11-09 14:37:12              0\n",
       " 18095   80582    4       1   16      101  2017-11-08 02:30:54              0\n",
       " 22904   56448    4       1   19      101  2017-11-08 02:25:40              0\n",
       " 23788  119823    4       1   37      101  2017-11-08 02:44:47              0\n",
       " 26072    8718    4       1   37      101  2017-11-07 14:35:20              0\n",
       " 30443   38749    4       1   19      101  2017-11-08 03:00:09              0\n",
       " 31704  343600    4       1    6      101  2017-11-09 14:08:11              0\n",
       " 34389   57335    4       1   12      101  2017-11-09 08:34:51              0\n",
       " 36414  350310    4       1   19      101  2017-11-09 06:18:36              0\n",
       " 38877  166410    4       1    1      101  2017-11-08 02:12:44              0\n",
       " 40229  293073    4       1   90      101  2017-11-09 08:48:18              0\n",
       " 43298   17814    4       1    6      101  2017-11-08 02:43:20              0\n",
       " 48503  301290    4       2  100      101  2017-11-09 06:18:23              0\n",
       " 50087   25970    4       1   19      101  2017-11-08 02:15:52              0\n",
       " 51718   84610    4       1   18      101  2017-11-08 02:29:40              0\n",
       " 51795    5425    4       1   13      101  2017-11-08 03:01:56              0\n",
       " 54713  124540    4       2   19      101  2017-11-09 13:08:30              0\n",
       " 56885  315803    4       1   22      101  2017-11-09 13:01:11              0\n",
       " 58929   92279    4       1   26      101  2017-11-08 02:38:42              0\n",
       " 59139   78856    4       1   18      101  2017-11-09 15:29:43              0\n",
       " 61698   96801    4       1   19      101  2017-11-08 03:02:49              0\n",
       " 63999   29717    4       1   13      101  2017-11-08 02:41:12              0\n",
       " 64018   14672    4       1    6      101  2017-11-09 15:11:46              0\n",
       " 64517  100959    4       2    7      101  2017-11-09 15:06:22              0\n",
       " 64730   44725    4       1   19      101  2017-11-09 11:21:09              0\n",
       " 65831  108284    4       1   18      101  2017-11-08 02:53:10              0\n",
       " 66178  316131    4       1    6      101  2017-11-09 13:16:42              0\n",
       " 67586  107619    4       1   22      101  2017-11-08 02:51:56              0\n",
       " 68356   88281    4       1   17      101  2017-11-09 15:03:43              0\n",
       " 75288  119289    4       1   13      101  2017-11-09 12:42:06              0\n",
       " 75841  217758    4       1    1      101  2017-11-08 13:01:56              0\n",
       " 76232   48240    4       1   15      101  2017-11-09 12:31:48              0\n",
       " 77517   88281    4       2   22      101  2017-11-09 12:49:25              0\n",
       " 78081    5314    4       1    6      101  2017-11-08 02:27:00              0\n",
       " 79652   71071    4       1   19      101  2017-11-09 15:41:40              0\n",
       " 79748    7838    4       1    2      101  2017-11-09 11:56:40              0\n",
       " 80314   59441    4       1   13      101  2017-11-09 10:00:16              0\n",
       " 81694  345754    4       1    9      101  2017-11-09 09:38:59              0\n",
       " 83249  117152    4       2   13      101  2017-11-09 13:37:38              0\n",
       " 87107  221143    4       1   15      101  2017-11-08 07:53:11              0\n",
       " 88903   77589    4       1   19      101  2017-11-08 03:00:06              0\n",
       " 90281   76740    4       2    2      101  2017-11-09 14:07:57              0\n",
       " 90757  110538    4       1   13      101  2017-11-09 08:32:04              0\n",
       " 91525   79881    4       1   20      101  2017-11-09 09:17:39              0\n",
       " 93478  119349    4       1    1      101  2017-11-09 11:52:10              0\n",
       " 94459  102607    4       1   13      101  2017-11-09 11:28:33              0\n",
       " 97203   49455    4       1   19      101  2017-11-09 07:01:47              0,\n",
       "            ip  app  device  os  channel           click_time  is_attributed\n",
       " 1045   114719   47       1  17      484  2017-11-09 12:39:25              0\n",
       " 3046    48653   47       1  23      484  2017-11-09 13:38:02              0\n",
       " 8130    99816   47       1  19      484  2017-11-09 13:26:19              0\n",
       " 12937   32487   47       1  26      484  2017-11-09 11:16:19              0\n",
       " 12966  102280   47       1  13      484  2017-11-09 11:17:38              0\n",
       " 13034    4693   47       1  17      484  2017-11-09 11:39:12              0\n",
       " 15060   99912   47       1  19      484  2017-11-09 12:17:00              0\n",
       " 16153  362597   47       1  13      484  2017-11-09 13:06:08              0\n",
       " 17272   94245   47       1   8      484  2017-11-09 12:34:51              0\n",
       " 18168  111025   47       1  13      484  2017-11-09 15:27:32              0\n",
       " 18294  300825   47       1   9      484  2017-11-09 07:00:21              0\n",
       " 18477  181014   47       1  35      484  2017-11-09 11:35:35              0\n",
       " 18750  202014   47       1   1      484  2017-11-09 11:36:30              0\n",
       " 25627   81261   47       1  19      484  2017-11-09 13:29:12              0\n",
       " 26652  118284   47       2   9      484  2017-11-09 13:29:03              0\n",
       " 28507   62803   47       1  14      484  2017-11-09 13:38:46              0\n",
       " 30524   57435   47       1  19      484  2017-11-09 12:09:05              0\n",
       " 32144  104309   47       2  19      484  2017-11-09 12:08:26              0\n",
       " 34379   49754   47       1  13      484  2017-11-09 11:04:58              0\n",
       " 35150   96937   47       1  19      484  2017-11-09 07:43:31              0\n",
       " 35289    8505   47       1  13      484  2017-11-09 11:11:51              0\n",
       " 36410  141722   47       1   6      484  2017-11-09 11:59:28              0\n",
       " 40733  109266   47       1  47      484  2017-11-09 11:09:57              0\n",
       " 40864  157827   47       1  36      484  2017-11-09 12:00:28              0\n",
       " 42824   53454   47       1  17      484  2017-11-09 10:51:06              0\n",
       " 48017   94092   47       2   9      484  2017-11-08 02:24:22              0\n",
       " 53510  257129   47       1  35      484  2017-11-08 06:48:15              0\n",
       " 55082   35724   47       1  13      484  2017-11-09 13:06:15              0\n",
       " 55667  100042   47       1  13      484  2017-11-09 11:48:19              0\n",
       " 62006   14925   47       1  13      484  2017-11-09 13:33:47              0\n",
       " 64714   88301   47       1  13      484  2017-11-08 02:48:41              0\n",
       " 65073  110296   47       1  19      484  2017-11-09 12:47:00              0\n",
       " 65085   32238   47       1   9      484  2017-11-09 15:09:50              0\n",
       " 66481  123607   47       1  30      484  2017-11-08 02:45:28              0\n",
       " 67132  111025   47       1   5      484  2017-11-08 02:12:21              0\n",
       " 68699  100929   47       1  37      484  2017-11-09 13:00:55              0\n",
       " 71121   18648   47       1  19      484  2017-11-08 02:59:45              0\n",
       " 76408   45745   47       2  17      484  2017-11-09 13:09:51              0\n",
       " 79052   73516   47       1  25      484  2017-11-09 12:32:36              0\n",
       " 79483    7462   47       1  13      484  2017-11-09 11:32:25              0\n",
       " 79885   71071   47       2  70      484  2017-11-09 13:06:34              0\n",
       " 81129  235753   47       1  18      484  2017-11-08 15:44:57              0\n",
       " 84258  295437   47       2  25      484  2017-11-09 13:57:26              0\n",
       " 86102   53964   47       1  34      484  2017-11-09 11:57:57              0\n",
       " 88004   79103   47       1  15      484  2017-11-09 12:21:32              0\n",
       " 91537   76355   47       1  19      484  2017-11-09 10:54:20              0\n",
       " 91543  155833   47       1  19      484  2017-11-09 11:21:15              0\n",
       " 92299   79909   47       2  32      484  2017-11-09 14:23:26              0\n",
       " 95561   44744   47       2   2      484  2017-11-09 15:00:20              0\n",
       " 95719   73144   47       1   1      484  2017-11-09 12:59:27              0\n",
       " 96153   60235   47       1  17      484  2017-11-09 12:40:40              0\n",
       " 96297  341305   47       1  19      484  2017-11-09 11:05:15              0\n",
       " 97511   64367   47       1  19      484  2017-11-09 12:32:02              0,\n",
       "            ip  app  device  os  channel           click_time  is_attributed\n",
       " 75      81356   56       1   9      406  2017-11-09 11:57:10              0\n",
       " 8743     5314   56       2  19      406  2017-11-08 02:42:27              0\n",
       " 12384  318762   56       1  18      406  2017-11-09 10:43:14              0\n",
       " 12501   48117   56       1  30      406  2017-11-08 02:09:54              0\n",
       " 12753    7462   56       1  13      406  2017-11-08 02:50:47              0\n",
       " 26659   44601   56       1  13      406  2017-11-08 02:36:40              0\n",
       " 27007  114314   56       1  17      406  2017-11-08 02:29:09              0\n",
       " 29769  201582   56       1  19      406  2017-11-08 02:13:52              0\n",
       " 31676  297977   56       1  13      406  2017-11-09 09:23:17              0\n",
       " 32579  277115   56       1  19      406  2017-11-08 02:34:36              0\n",
       " 34233  123623   56       1  22      406  2017-11-08 02:36:20              0\n",
       " 37793  119349   56       1  12      406  2017-11-09 12:06:52              0\n",
       " 38072   44744   56       1  49      406  2017-11-09 09:38:27              0\n",
       " 40772  137052   56       1  13      406  2017-11-08 02:18:49              0\n",
       " 44410   86767   56       1  19      406  2017-11-09 14:33:08              0\n",
       " 46393  110209   56       1  13      406  2017-11-09 12:20:53              0\n",
       " 47677   97814   56       1  13      406  2017-11-08 02:13:32              0\n",
       " 48716   72261   56       1  16      406  2017-11-08 02:20:35              0\n",
       " 49689  289677   56       1  19      406  2017-11-09 15:35:48              0\n",
       " 51183  182973   56       1  22      406  2017-11-09 08:55:15              0\n",
       " 51395   77468   56       1  13      406  2017-11-08 02:42:33              0\n",
       " 53197   48337   56       1   1      406  2017-11-08 02:50:37              0\n",
       " 56833  105475   56       1  13      406  2017-11-09 10:03:51              0\n",
       " 64530  308691   56       1   2      406  2017-11-09 14:14:30              0\n",
       " 64702   11742   56       1   9      406  2017-11-09 12:58:01              0\n",
       " 67384    6375   56       1  14      406  2017-11-08 02:19:24              0\n",
       " 67758   60972   56       1  19      406  2017-11-08 02:56:20              0\n",
       " 67890   44595   56       1  19      406  2017-11-09 13:41:23              0\n",
       " 70296  112302   56       1  19      406  2017-11-09 09:45:04              0\n",
       " 70907  125124   56       1  19      406  2017-11-09 13:38:38              0\n",
       " 71505   48240   56       1  15      406  2017-11-09 14:08:53              0\n",
       " 72544  262567   56       1  18      406  2017-11-08 02:34:59              0\n",
       " 74188  264472   56       1  25      406  2017-11-08 02:29:55              0\n",
       " 77255  104309   56       1  17      406  2017-11-09 12:32:17              0\n",
       " 78659   78856   56       1  19      406  2017-11-09 15:24:07              0\n",
       " 78835   26481   56       1  12      406  2017-11-08 02:27:00              0\n",
       " 83184   99628   56       1  10      406  2017-11-08 17:53:31              0\n",
       " 83564     885   56       1  13      406  2017-11-08 03:01:32              0\n",
       " 89149   53978   56       1  15      406  2017-11-08 03:04:01              0\n",
       " 89297   97670   56       1  13      406  2017-11-09 11:45:43              0\n",
       " 91670   26402   56       1  19      406  2017-11-08 02:36:08              0\n",
       " 92204   78856   56       1  13      406  2017-11-09 14:10:42              0\n",
       " 92257  105475   56       1  13      406  2017-11-09 12:39:20              0\n",
       " 94112  262704   56       1  18      406  2017-11-08 14:19:17              0\n",
       " 95481  356258   56       1  17      406  2017-11-09 13:24:10              0\n",
       " 97257  251171   56       1  20      406  2017-11-08 02:23:30              0\n",
       " 97563   17149   56       1  13      406  2017-11-09 12:12:13              0\n",
       " 98128  124384   56       1  31      406  2017-11-08 03:01:43              0\n",
       " 98821  114923   56       1  19      406  2017-11-08 03:02:17              0\n",
       " 99542  331692   56       1  19      406  2017-11-09 14:43:20              0,\n",
       "            ip  app  device  os  channel           click_time  is_attributed\n",
       " 1666    48733   35       1  18      274  2017-11-07 12:25:50              1\n",
       " 1771   330861   35       1  22       21  2017-11-08 18:54:44              1\n",
       " 2131    96768   35       1  10       21  2017-11-08 11:03:43              0\n",
       " 3992   240051   35       1  19       21  2017-11-08 08:07:13              1\n",
       " 4607   184467   35       1  30      274  2017-11-07 22:29:06              1\n",
       " 7874    58560   35       1  19       21  2017-11-07 03:19:07              1\n",
       " 10582  325093   35       1  19       21  2017-11-09 00:02:24              1\n",
       " 12784  113283   35       1  10      274  2017-11-08 14:18:48              0\n",
       " 12962   87169   35       1  20      274  2017-11-07 10:07:09              0\n",
       " 15954    1415   35       1  10       21  2017-11-07 02:24:25              0\n",
       " 17882  125169   35       1  10       21  2017-11-09 15:08:31              0\n",
       " 17976    7350   35       1  19       21  2017-11-08 00:59:09              1\n",
       " 18529   53389   35       1  19       21  2017-11-07 03:03:16              1\n",
       " 20777  161986   35       1  25      274  2017-11-07 11:29:22              1\n",
       " 21895   98261   35       1  15       21  2017-11-08 07:30:24              0\n",
       " 25742  157074   35       1  13      274  2017-11-07 03:00:36              1\n",
       " 29298    6192   35       1  19       21  2017-11-08 02:58:10              1\n",
       " 33269   14888   35       1  17      274  2017-11-07 10:35:40              1\n",
       " 33882  146333   35       1  19       21  2017-11-07 13:06:25              0\n",
       " 34168  182506   35       1  13      274  2017-11-09 06:49:49              1\n",
       " 34408   41025   35       1   6       21  2017-11-07 06:21:47              0\n",
       " 34843   92603   35       1   6      274  2017-11-07 06:36:55              0\n",
       " 36323   86860   35       1  15       21  2017-11-07 01:41:48              0\n",
       " 37689   20754   35       1  13       21  2017-11-09 00:40:49              0\n",
       " 38701   63776   35       1  19      274  2017-11-08 03:07:41              1\n",
       " 39295  190924   35       1   3       21  2017-11-08 03:02:06              0\n",
       " 40249  137509   35       1  13       21  2017-11-09 07:09:29              1\n",
       " 43918   55920   35       1  40       21  2017-11-09 13:53:52              0\n",
       " 49751   90590   35       1  27       21  2017-11-07 14:54:13              0\n",
       " 50744   24458   35       1  13       21  2017-11-08 01:49:07              1\n",
       " 51638  196491   35       1  22      274  2017-11-09 09:01:35              1\n",
       " 56537  170366   35       1   8       21  2017-11-07 01:32:45              0\n",
       " 56838  193539   35       1  19       21  2017-11-07 06:51:59              1\n",
       " 57998   43756   35       1  13       21  2017-11-09 00:03:00              0\n",
       " 61088    6552   35       1   1       21  2017-11-07 05:32:04              0\n",
       " 61356   92615   35       1  37       21  2017-11-07 14:12:06              0\n",
       " 64030   43421   35       1   9       21  2017-11-07 12:15:25              0\n",
       " 69193   85364   35       1  13       21  2017-11-07 00:38:43              1\n",
       " 72453   71579   35       1  19       21  2017-11-08 01:14:10              1\n",
       " 73408  115265   35       1  17       21  2017-11-08 05:48:13              1\n",
       " 74306  186843   35       1  17      274  2017-11-07 02:46:03              1\n",
       " 79341   55142   35       1  19       21  2017-11-08 03:38:31              1\n",
       " 81056   83309   35       1  19      274  2017-11-07 05:57:50              1\n",
       " 81588   95347   35       1  15      274  2017-11-08 03:04:29              1\n",
       " 83715   73043   35       1  14       21  2017-11-07 13:53:42              0\n",
       " 83829  211364   35       1  19      274  2017-11-06 23:59:00              1\n",
       " 87005  170597   35       1  35       21  2017-11-08 06:26:30              0\n",
       " 95056    5281   35       1  13       21  2017-11-09 00:19:02              1\n",
       " 98741  124445   35       1  10       21  2017-11-08 02:39:27              0,\n",
       "            ip  app  device  os  channel           click_time  is_attributed\n",
       " 1392    53715   55       1  41      406  2017-11-09 14:59:47              0\n",
       " 1481    49602   55       1  17      453  2017-11-08 00:25:45              0\n",
       " 2123    53464   55       1  35      406  2017-11-09 14:51:56              0\n",
       " 5262    17422   55       1  19      406  2017-11-07 00:35:51              0\n",
       " 5396     9024   55       1  22      453  2017-11-08 04:06:26              0\n",
       " 9493   256336   55       1  19      453  2017-11-08 03:57:02              0\n",
       " 10341   49520   55       1  13      453  2017-11-08 03:23:47              0\n",
       " 13221  186833   55       1  12      406  2017-11-09 06:53:06              0\n",
       " 14478  210218   55       1  19      453  2017-11-08 03:41:47              0\n",
       " 15306  119848   55       1  18      453  2017-11-08 03:44:38              0\n",
       " 16139  305074   55       1  19      406  2017-11-09 07:44:52              0\n",
       " 18247  112525   55       1  13      406  2017-11-07 00:28:21              0\n",
       " 19019   75200   55       1  10      453  2017-11-08 04:37:48              0\n",
       " 19235  176799   55       1  53      453  2017-11-07 03:07:30              0\n",
       " 19299   93715   55       1  20      453  2017-11-08 03:42:37              0\n",
       " 20560  136327   55       1  19      453  2017-11-07 00:56:08              0\n",
       " 22735  125485   55       1   2      406  2017-11-09 12:22:37              0\n",
       " 23381  105475   55       1  28      406  2017-11-09 09:55:22              0\n",
       " 25581   78275   55       1  13      406  2017-11-09 14:13:29              0\n",
       " 25698   74061   55       1  19      453  2017-11-08 04:06:46              0\n",
       " 30235   26908   55       1  13      453  2017-11-08 04:12:13              0\n",
       " 33846  240021   55       1  13      453  2017-11-08 03:39:43              0\n",
       " 35123   79827   55       1  13      406  2017-11-09 06:55:53              0\n",
       " 35738   87568   55       1  18      453  2017-11-08 03:30:33              0\n",
       " 36954   88710   55       1  19      453  2017-11-08 04:02:17              0\n",
       " 42503    8580   55       1  13      406  2017-11-07 03:36:09              0\n",
       " 43374  217948   55       1  19      406  2017-11-09 12:05:29              0\n",
       " 53230  100084   55       1  22      453  2017-11-08 04:15:55              0\n",
       " 53629  346499   55       1  19      406  2017-11-09 15:25:01              0\n",
       " 54917   92088   55       1   6      453  2017-11-07 02:55:30              0\n",
       " 63277   44595   55       1  41      406  2017-11-09 07:50:51              0\n",
       " 66239  271362   55       1  13      453  2017-11-08 04:39:47              0\n",
       " 66429     927   55       1  19      453  2017-11-08 05:21:53              0\n",
       " 67276   48212   55       1  15      406  2017-11-09 09:05:42              0\n",
       " 67694   48240   55       1  17      406  2017-11-09 14:19:57              0\n",
       " 72002  134508   55       1  13      453  2017-11-08 03:28:55              0\n",
       " 72791  300325   55       1  13      406  2017-11-09 05:34:44              0\n",
       " 76306   73734   55       1  20      406  2017-11-09 12:28:14              0\n",
       " 81380   68323   55       1  16      453  2017-11-08 02:41:22              0\n",
       " 81942   15819   55       1  22      406  2017-11-08 01:15:34              0\n",
       " 84297  112302   55       2   9      406  2017-11-09 09:50:46              0\n",
       " 86615  200732   55       1  14      453  2017-11-07 03:06:24              0\n",
       " 88839   96847   55       1  10      453  2017-11-08 01:26:23              0\n",
       " 90362   92160   55       1   3      453  2017-11-08 03:47:37              0\n",
       " 94832   39209   55       1  19      453  2017-11-08 03:50:39              0\n",
       " 96159  108527   55       1  13      406  2017-11-08 02:45:07              0\n",
       " 99497   57301   55       1  10      453  2017-11-08 04:05:03              0\n",
       " 99817   83461   55       1  19      406  2017-11-07 02:28:45              0,\n",
       "            ip  app  device   os  channel           click_time  is_attributed\n",
       " 224      5348   58    3866  866      347  2017-11-09 14:12:06              0\n",
       " 1931    31817   58       1   13      120  2017-11-08 02:25:17              0\n",
       " 4421    51360   58       1   37      120  2017-11-08 02:56:29              0\n",
       " 6026    75670   58    3543  748      347  2017-11-08 15:30:41              0\n",
       " 6185   105560   58    3543  748      347  2017-11-08 11:16:30              0\n",
       " 6464   117867   58    3032  607      347  2017-11-06 18:53:37              0\n",
       " 7536    53964   58       1   26      120  2017-11-09 11:03:06              0\n",
       " 8989    48140   58    3543  748      347  2017-11-08 15:07:07              0\n",
       " 9977   168869   58       1   37      110  2017-11-07 10:54:32              0\n",
       " 12411   37796   58    3543  748      347  2017-11-08 07:06:13              0\n",
       " 15543  207595   58       1   19      120  2017-11-08 02:35:21              0\n",
       " 17435   25009   58       1   13      120  2017-11-09 13:57:53              0\n",
       " 21653  110354   58    3866  866      347  2017-11-08 22:36:28              0\n",
       " 25164  119369   58       1   19      120  2017-11-09 08:50:19              0\n",
       " 27162   80416   58    3866  866      347  2017-11-09 07:16:34              0\n",
       " 28982   17029   58       1   17      120  2017-11-08 02:22:44              0\n",
       " 31471    7313   58       1   13      120  2017-11-08 03:03:26              0\n",
       " 32451   44725   58       1   18      120  2017-11-09 13:45:02              0\n",
       " 33228  124883   58       1   18      120  2017-11-09 07:50:28              0\n",
       " 36156   66000   58       1   39      120  2017-11-09 14:49:27              0\n",
       " 38925  225194   58       1    8      120  2017-11-08 02:31:53              0\n",
       " 39361   73011   58       1    1      120  2017-11-09 13:06:43              0\n",
       " 39471     707   58    3543  748      347  2017-11-07 23:11:31              0\n",
       " 39959   34419   58       1   17      120  2017-11-09 14:15:29              0\n",
       " 40716  164312   58    3032  607      347  2017-11-06 19:08:46              0\n",
       " 48781   38407   58       1   15      120  2017-11-08 02:37:17              0\n",
       " 50095   11926   58    3032  607      347  2017-11-07 08:32:18              0\n",
       " 50302   67900   58    3032  607      347  2017-11-07 02:50:52              0\n",
       " 54345  294791   58       1   23      120  2017-11-09 08:00:06              0\n",
       " 60943  118475   58    3543  748      347  2017-11-08 10:54:09              0\n",
       " 61133   86812   58       1   14      120  2017-11-08 02:44:08              1\n",
       " 64385   59762   58    3032  607      347  2017-11-07 04:14:01              0\n",
       " 74203    5314   58    3543  748      347  2017-11-08 13:00:43              0\n",
       " 76313   75539   58    3866  866      347  2017-11-09 07:18:07              0\n",
       " 81032  162759   58       1   23      120  2017-11-08 02:40:39              0\n",
       " 86435    8718   58       1   22      120  2017-11-09 08:17:09              0\n",
       " 86687  257393   58       1   13      120  2017-11-08 02:14:57              0\n",
       " 90721   19142   58    3032  607      347  2017-11-07 12:35:52              0\n",
       " 91116   48240   58    3032  607      347  2017-11-07 13:19:11              0\n",
       " 91924  358822   58       2   13      120  2017-11-09 12:18:15              0\n",
       " 96998   52052   58    3032  607      347  2017-11-07 08:46:49              0\n",
       " 97773  109743   58    3032  607      347  2017-11-06 19:04:56              0\n",
       " 99120   53715   58    3866  866      347  2017-11-08 23:13:29              0\n",
       " 99673   44744   58       1   13      120  2017-11-09 14:20:53              0,\n",
       "            ip  app  device  os  channel           click_time  is_attributed\n",
       " 3726   262042   94       1  18      361  2017-11-08 02:35:09              0\n",
       " 4439   352583   94       1   3      361  2017-11-09 08:46:27              0\n",
       " 5701   100602   94       1   9      361  2017-11-09 09:32:20              0\n",
       " 8975   301674   94       1  19      361  2017-11-09 01:27:19              0\n",
       " 13944   71149   94       1   6      361  2017-11-08 02:10:10              0\n",
       " 20605   50979   94       1  19      361  2017-11-09 12:50:27              0\n",
       " 23071   95171   94       1  47      361  2017-11-08 02:33:25              0\n",
       " 23376    8718   94       1  13      361  2017-11-07 14:16:35              0\n",
       " 24415  100182   94       1   6      361  2017-11-09 13:42:11              0\n",
       " 24962  108834   94       1  19      361  2017-11-08 02:24:34              0\n",
       " 24977  114571   94       1  19      361  2017-11-09 14:10:42              0\n",
       " 25630  116930   94       1  19      361  2017-11-08 03:03:07              0\n",
       " 25927   40595   94       1  13      361  2017-11-08 02:38:52              0\n",
       " 27376  210920   94       1  10      361  2017-11-08 02:59:48              0\n",
       " 32095   69185   94       1  22      361  2017-11-08 02:23:51              0\n",
       " 32686  100809   94       1  19      361  2017-11-09 11:35:15              0\n",
       " 33420   34561   94       1  19      361  2017-11-09 13:08:24              0\n",
       " 33867   37533   94       1  13      361  2017-11-08 02:46:58              0\n",
       " 38431  119369   94       2  30      361  2017-11-09 07:03:27              0\n",
       " 41543   99745   94       1  10      361  2017-11-08 02:59:19              0\n",
       " 46654   71393   94       1   8      361  2017-11-09 11:43:09              0\n",
       " 46784  325602   94       1  19      361  2017-11-09 07:07:10              0\n",
       " 47514  126200   94       1  37      361  2017-11-09 07:53:21              0\n",
       " 48769   81329   94       1   3      361  2017-11-08 02:49:11              0\n",
       " 50920   37641   94       1  34      361  2017-11-08 02:12:51              0\n",
       " 54637  147392   94       1  13      361  2017-11-08 02:10:52              0\n",
       " 55171   53715   94       1  19      361  2017-11-09 08:09:03              0\n",
       " 58047   14888   94       1  48      361  2017-11-08 02:14:17              0\n",
       " 62085  246006   94       1  22      361  2017-11-08 02:46:58              0\n",
       " 66224  308779   94       1  13      361  2017-11-09 12:38:07              0\n",
       " 67675   80993   94       1  18      361  2017-11-08 02:38:01              0\n",
       " 71908   22211   94       1  19      361  2017-11-08 02:17:09              0\n",
       " 72284  105181   94       1  13      361  2017-11-09 14:07:44              0\n",
       " 75560  111025   94       1  52      361  2017-11-09 15:17:39              0\n",
       " 80272  278490   94       1  28      361  2017-11-08 02:51:58              0\n",
       " 80410   97500   94       1  32      361  2017-11-09 14:35:14              0\n",
       " 87925   29151   94       1  10      361  2017-11-09 09:30:21              0\n",
       " 88741  141269   94       1  25      361  2017-11-06 17:07:23              0\n",
       " 94918   13414   94       1  19      361  2017-11-08 02:46:52              0\n",
       " 95665   63269   94       1  19      361  2017-11-08 02:24:27              0,\n",
       "            ip  app  device   os  channel           click_time  is_attributed\n",
       " 4535    11594   37       1    7       21  2017-11-08 03:23:19              0\n",
       " 17194   38845   37       1   13       21  2017-11-08 08:59:18              0\n",
       " 21714  197626   37       1   13      213  2017-11-09 00:15:51              0\n",
       " 25575   83252   37       1   16       21  2017-11-08 09:07:24              0\n",
       " 30128   68651   37       1   17       21  2017-11-08 07:21:50              0\n",
       " 36112  214580   37       1    6       21  2017-11-08 04:29:10              0\n",
       " 37704     835   37       1   98       21  2017-11-08 05:38:25              0\n",
       " 41242   74144   37       1   17       21  2017-11-07 06:16:50              0\n",
       " 43386    2372   37       1   20       21  2017-11-08 09:33:48              0\n",
       " 48315  111021   37       1   19       21  2017-11-08 07:31:46              0\n",
       " 51736    6757   37       1   13       21  2017-11-08 13:38:17              0\n",
       " 57351  138236   37       1   19       21  2017-11-07 12:27:32              0\n",
       " 60459   37186   37       1   20       21  2017-11-07 17:30:19              0\n",
       " 61344   18722   37       1   19       21  2017-11-09 13:00:16              0\n",
       " 61549  111248   37       1   13       21  2017-11-09 11:01:53              0\n",
       " 63843   90325   37       1    6       21  2017-11-08 04:48:59              0\n",
       " 64620  100393   37       1   10       21  2017-11-09 09:54:23              0\n",
       " 67067   85867   37       1   19       21  2017-11-07 06:15:49              0\n",
       " 71508   48290   37       1   19       21  2017-11-09 09:44:53              0\n",
       " 72458  125621   37       1   22       21  2017-11-08 06:53:16              0\n",
       " 73575   41475   37       1   41       21  2017-11-07 17:12:48              0\n",
       " 75047   30310   37       1   18       21  2017-11-08 06:39:07              0\n",
       " 76872   51020   37       2   13       21  2017-11-07 02:39:15              0\n",
       " 79684   81946   37       1   37       21  2017-11-07 07:33:56              0\n",
       " 80916   61088   37       1   13       21  2017-11-09 03:09:03              0\n",
       " 82934  358851   37       1   19       21  2017-11-09 08:09:52              0\n",
       " 83212  119593   37    3543  748       21  2017-11-08 15:55:19              0\n",
       " 83560  100393   37       1   25       21  2017-11-09 13:59:24              0\n",
       " 83908   84445   37       1   19       21  2017-11-07 12:09:45              0\n",
       " 84152   10043   37       1   13       21  2017-11-08 12:20:34              0\n",
       " 86592   93836   37       1   13       21  2017-11-07 09:57:21              0\n",
       " 88944   62760   37       1    1       21  2017-11-09 14:57:30              0\n",
       " 95210   15983   37       1    3       21  2017-11-09 10:52:13              0\n",
       " 95298   94164   37       1   13       21  2017-11-08 06:48:25              0\n",
       " 96501  262628   37       1    6       21  2017-11-08 05:25:35              0\n",
       " 96672  103162   37       1   19       21  2017-11-07 11:55:33              0\n",
       " 96746   61604   37       1   19       21  2017-11-08 16:01:57              0,\n",
       "            ip  app  device   os  channel           click_time  is_attributed\n",
       " 7442    94729   45       1   19      411  2017-11-07 14:19:56              0\n",
       " 8838    54841   45       1   37      411  2017-11-08 03:58:25              0\n",
       " 9052   327239   45       1   19      411  2017-11-09 02:19:57              0\n",
       " 10793   25097   45       1   17        5  2017-11-08 12:20:17              0\n",
       " 11059   27639   45       1   19      411  2017-11-07 12:52:54              0\n",
       " 13770  177975   45       1    4      419  2017-11-07 10:14:19              1\n",
       " 14537   79981   45       1   25      411  2017-11-08 04:13:52              0\n",
       " 19908  251223   45       1   13      213  2017-11-08 07:59:37              1\n",
       " 22887   99895   45       1    9      411  2017-11-07 04:03:56              0\n",
       " 23158  100275   45       1   19      419  2017-11-07 02:11:35              0\n",
       " 27588  253761   45       1   47      419  2017-11-08 05:10:55              1\n",
       " 33900   92376   45       1   30      411  2017-11-09 07:47:17              0\n",
       " 35796  105292   45       1   19      411  2017-11-08 23:43:31              0\n",
       " 45007  254738   45       1   43      419  2017-11-08 14:02:36              1\n",
       " 49806    3163   45       1   13      411  2017-11-07 15:31:33              0\n",
       " 49949  156925   45       1   13      411  2017-11-07 12:05:50              0\n",
       " 50519   40372   45       1   19      411  2017-11-07 02:17:26              0\n",
       " 54028  246249   45       2   13      411  2017-11-08 05:11:01              0\n",
       " 56395    2948   45       1    2      419  2017-11-09 14:30:44              1\n",
       " 57031  102264   45       1   13      411  2017-11-09 10:02:52              0\n",
       " 57073  123663   45       1   17      411  2017-11-08 19:41:58              0\n",
       " 59565  125288   45       1   53      213  2017-11-09 11:44:40              0\n",
       " 61222  218061   45       1   26        5  2017-11-08 06:19:39              1\n",
       " 66734  104207   45       1   13      411  2017-11-07 14:42:33              0\n",
       " 68131  218849   45       1   17      411  2017-11-08 01:37:24              0\n",
       " 70100  176243   45       1   10        5  2017-11-07 08:21:55              1\n",
       " 71033   84612   45       1    8        5  2017-11-09 14:18:49              0\n",
       " 75367  209480   45       1    7      465  2017-11-07 03:18:30              1\n",
       " 76442   11594   45    3866  866      333  2017-11-09 09:32:34              0\n",
       " 80492   47091   45       1   19      411  2017-11-08 08:27:25              0\n",
       " 81700   26812   45       1   19      411  2017-11-07 12:18:14              0\n",
       " 84198   59847   45       1   17      411  2017-11-08 09:21:47              0\n",
       " 89699  175237   45       1   10      411  2017-11-08 21:51:40              0\n",
       " 93539  268081   45       1   17        5  2017-11-08 11:23:36              1\n",
       " 95330  260575   45       1   18        5  2017-11-08 06:21:05              1\n",
       " 97099  242468   45       1   19        5  2017-11-09 10:19:18              1,\n",
       "            ip  app  device  os  channel           click_time  is_attributed\n",
       " 3668    76853   93       1  13      371  2017-11-08 02:47:57              0\n",
       " 4134    57528   93       1  19      371  2017-11-09 12:07:03              0\n",
       " 5573   198427   93       1  19      371  2017-11-08 02:43:19              0\n",
       " 6979   118109   93       1  17      371  2017-11-08 03:01:41              0\n",
       " 10124  283956   93       1  19      371  2017-11-08 02:35:12              0\n",
       " 14517  154828   93       1  19      371  2017-11-08 02:14:11              0\n",
       " 14722   69469   93       1  13      371  2017-11-08 02:36:37              0\n",
       " 16799   18259   93       1  19      371  2017-11-08 02:39:25              0\n",
       " 20963  119289   93       1  15      371  2017-11-09 12:34:02              0\n",
       " 21388  112302   93       1  27      371  2017-11-09 12:40:42              0\n",
       " 23876  119289   93       1  13      371  2017-11-09 13:12:58              0\n",
       " 27634  109566   93       1   9      371  2017-11-08 02:55:23              0\n",
       " 28821  115487   93       1  18      371  2017-11-08 02:57:45              0\n",
       " 30261   48282   93       1  18      371  2017-11-09 14:34:57              0\n",
       " 33937   66000   93       1  13      371  2017-11-09 13:50:12              0\n",
       " 34584  117357   93       1  10      371  2017-11-09 12:10:52              0\n",
       " 36768  107809   93       1   3      371  2017-11-09 10:26:56              0\n",
       " 37059   14672   93       1   7      371  2017-11-09 13:32:07              0\n",
       " 39521   45243   93       1  13      371  2017-11-08 02:51:42              0\n",
       " 40826   78959   93       1  13      371  2017-11-06 22:46:36              0\n",
       " 43868   74550   93       1   9      371  2017-11-09 10:18:44              0\n",
       " 46077  282886   93       1  20      371  2017-11-08 02:50:47              0\n",
       " 46653   99917   93       1  13      371  2017-11-08 02:21:01              0\n",
       " 52694  112302   93       1  19      371  2017-11-09 13:58:45              0\n",
       " 57687  119369   93       1  19      371  2017-11-09 12:55:31              0\n",
       " 57825   81577   93       1  13      371  2017-11-09 06:48:18              0\n",
       " 60537   79909   93       1  25      371  2017-11-09 13:20:58              0\n",
       " 76350   15187   93       1  11      371  2017-11-09 13:59:19              0\n",
       " 82312   44725   93       1  19      371  2017-11-09 14:31:41              0\n",
       " 83219   64049   93       1   6      371  2017-11-09 13:03:19              0\n",
       " 85984   44595   93       1  28      371  2017-11-09 14:17:24              0\n",
       " 86998   97500   93       1  12      371  2017-11-09 13:52:14              0\n",
       " 88318  119349   93       1  26      371  2017-11-09 13:48:19              0\n",
       " 90899   44595   93       1  19      371  2017-11-09 11:22:28              0\n",
       " 93070   82841   93       1  19      371  2017-11-09 13:56:43              0,\n",
       "            ip  app  device  os  channel           click_time  is_attributed\n",
       " 2544    29569   62       1  19       21  2017-11-07 02:48:59              0\n",
       " 4603    12506   62       1  19       21  2017-11-08 05:56:57              1\n",
       " 10458   81030   62       1  13       21  2017-11-07 06:14:23              0\n",
       " 17121  266969   62       1   9       21  2017-11-08 12:50:58              0\n",
       " 27117   38648   62       1  13       21  2017-11-08 09:21:57              0\n",
       " 30109   80234   62       1  10       21  2017-11-07 11:32:36              0\n",
       " 34249  142839   62       1  17       21  2017-11-08 02:39:24              0\n",
       " 36110    7275   62       1  19       21  2017-11-08 07:31:43              0\n",
       " 45159  165072   62       1  19       21  2017-11-07 05:13:03              0\n",
       " 47468   37650   62       1  10       21  2017-11-07 06:23:48              0\n",
       " 48110   71135   62       1  19       21  2017-11-07 10:29:05              0\n",
       " 50155   54536   62       1  16       21  2017-11-08 09:52:42              0\n",
       " 50953   91014   62       1  19       21  2017-11-09 01:46:04              0\n",
       " 52940  136414   62       1   6       21  2017-11-08 13:56:36              0\n",
       " 53015   50764   62       1  13       21  2017-11-08 08:04:16              0\n",
       " 55041   70279   62       1  13       21  2017-11-08 07:51:36              0\n",
       " 58221   67188   62       1   1       21  2017-11-09 09:49:34              0\n",
       " 67622  102543   62       1  19       21  2017-11-07 07:00:35              0\n",
       " 73982   27518   62       1  17       21  2017-11-09 05:51:00              0\n",
       " 78626   86865   62       1  13       21  2017-11-07 08:14:43              0\n",
       " 79243  179442   62       1  18       21  2017-11-07 10:15:35              0\n",
       " 81342   97935   62       1  19       21  2017-11-08 07:05:24              1\n",
       " 87099   15927   62       1  19       21  2017-11-07 10:55:27              0\n",
       " 90482  202161   62       1  19       21  2017-11-08 02:18:17              0\n",
       " 93452   69399   62       1  10       21  2017-11-09 08:55:21              0\n",
       " 93617   34075   62       1   6       21  2017-11-09 13:18:47              0\n",
       " 95017   13069   62       1  19       21  2017-11-08 06:48:15              0\n",
       " 96859   83576   62       1  19       21  2017-11-07 04:40:56              0\n",
       " 96980  175748   62       1  13       21  2017-11-08 06:08:36              0\n",
       " 99176  154107   62       1  19       21  2017-11-08 10:09:33              0,\n",
       "            ip  app  device   os  channel           click_time  is_attributed\n",
       " 6373     1025  183    3866  866      347  2017-11-08 17:01:54              0\n",
       " 8253     2407  183    3032  607      347  2017-11-07 05:16:58              0\n",
       " 8285    41200  183    3543  748      347  2017-11-07 16:28:55              0\n",
       " 12072  163425  183    3866  866      347  2017-11-09 02:42:25              0\n",
       " 12103   17149  183    3032  607      347  2017-11-07 14:43:35              0\n",
       " 12696  269695  183    3543  748      347  2017-11-08 02:52:42              0\n",
       " 12932   25679  183    3543  748      347  2017-11-07 16:41:01              0\n",
       " 14551  143256  183    3032  607      347  2017-11-07 09:44:20              0\n",
       " 18645  100971  183    3543  748      347  2017-11-08 08:50:04              0\n",
       " 21295   41200  183    3032  607      347  2017-11-07 12:53:31              0\n",
       " 25874   49639  183    3866  866      347  2017-11-09 09:46:13              0\n",
       " 32344    5348  183    3032  607      347  2017-11-07 07:26:43              0\n",
       " 46016  193434  183    3032  607      347  2017-11-06 16:57:18              0\n",
       " 48686    5147  183    3032  607      347  2017-11-07 07:24:03              0\n",
       " 54378   86767  183    3032  607      347  2017-11-07 01:49:40              0\n",
       " 55134   11607  183    3866  866      347  2017-11-08 21:31:34              0\n",
       " 61450   77048  183    3032  607      347  2017-11-07 13:03:05              0\n",
       " 64505  209627  183    3032  607      347  2017-11-07 14:22:56              0\n",
       " 64810  114235  183    3543  748      347  2017-11-07 22:36:19              0\n",
       " 77067  127559  183    3543  748      347  2017-11-08 08:17:48              0\n",
       " 77559   70462  183    3032  607      347  2017-11-06 19:24:00              0\n",
       " 81414   77048  183    3866  866      347  2017-11-09 05:49:39              0\n",
       " 84910  219965  183    3866  866      347  2017-11-08 17:49:36              0\n",
       " 91336    5314  183    3543  748      347  2017-11-08 09:38:57              0\n",
       " 98190    5314  183    3543  748      347  2017-11-07 18:26:33              0\n",
       " 99232    5314  183    3866  866      347  2017-11-09 07:42:07              0,\n",
       "            ip  app  device   os  channel           click_time  is_attributed\n",
       " 8353    53040   82       1    8       21  2017-11-07 00:01:21              0\n",
       " 16606   69070   82       1   19       21  2017-11-07 14:55:52              0\n",
       " 19185   39515   82       1   13       21  2017-11-07 04:40:35              0\n",
       " 19237  206421   82       1   41       21  2017-11-07 06:36:05              0\n",
       " 28402   64459   82       1   13       21  2017-11-08 13:07:59              0\n",
       " 29033  159687   82       1   57      224  2017-11-07 07:15:13              0\n",
       " 29604  140815   82       1   13       21  2017-11-07 15:50:36              0\n",
       " 35873    3520   82       1   13       21  2017-11-08 03:51:08              0\n",
       " 39586  184853   82       1   57      224  2017-11-08 13:19:40              0\n",
       " 41455   58960   82       1   57      224  2017-11-08 10:43:40              0\n",
       " 47354   35466   82       1   13       21  2017-11-09 11:14:03              0\n",
       " 50518   26998   82       1   10       21  2017-11-08 16:03:11              0\n",
       " 52770   26908   82       1   18       21  2017-11-09 02:31:26              0\n",
       " 57755   71687   82       1   18       21  2017-11-08 07:57:51              0\n",
       " 67269  124047   82       1   57      224  2017-11-09 01:52:18              0\n",
       " 73800  146669   82       1  196      261  2017-11-07 15:49:47              0\n",
       " 88653   18927   82       1   19       21  2017-11-09 01:14:52              0\n",
       " 90684  105429   82       1    2       21  2017-11-09 10:02:41              0\n",
       " 92323  105414   82       1   17       21  2017-11-07 14:19:29              0\n",
       " 95658   22085   82       1   13       21  2017-11-07 05:29:08              0\n",
       " 98845   37776   82       1   19       21  2017-11-09 12:08:32              0,\n",
       "            ip  app  device  os  channel           click_time  is_attributed\n",
       " 1857    21558   83     385  21      320  2017-11-08 02:09:33              0\n",
       " 3986    94023   83     103  24      320  2017-11-08 12:10:10              0\n",
       " 9080    59735   83     607   0      320  2017-11-08 09:09:01              0\n",
       " 17383  263103   83      18   0      320  2017-11-07 16:29:13              0\n",
       " 19889  245031   83      74  24      320  2017-11-08 02:12:44              0\n",
       " 30368  323371   83       0   0      171  2017-11-09 10:59:56              0\n",
       " 39044  259812   83     196  29      320  2017-11-08 02:29:44              0\n",
       " 39279   95468   83      53  21      320  2017-11-07 08:45:57              0\n",
       " 42305  202934   83       0   0      171  2017-11-07 00:50:26              1\n",
       " 43142  114276   83       0  38      171  2017-11-08 11:04:58              0\n",
       " 51841  149586   83       0  24      171  2017-11-07 12:01:09              1\n",
       " 57244   70446   83     362   0      320  2017-11-08 02:05:18              0\n",
       " 58132   22337   83       4  38      320  2017-11-09 11:17:33              0\n",
       " 69311  230531   83      17  24      320  2017-11-08 13:26:57              0\n",
       " 72350  109062   83    1839   0      320  2017-11-06 22:44:20              0\n",
       " 80183   40710   83     552  21      320  2017-11-08 13:27:21              0\n",
       " 80700   45143   83    1080  24      320  2017-11-08 09:21:39              0\n",
       " 84174  173196   83    3331  38      320  2017-11-06 17:00:19              0\n",
       " 86316   46513   83       0  24      171  2017-11-08 12:30:54              0\n",
       " 88104    5314   83       0  21      171  2017-11-06 23:07:45              1\n",
       " 96091  124195   83     928  21      320  2017-11-07 03:07:08              0,\n",
       "            ip  app  device   os  channel           click_time  is_attributed\n",
       " 223     73456   60       1   46       21  2017-11-08 05:32:54              0\n",
       " 238      3966   60       1    3       21  2017-11-08 22:39:41              0\n",
       " 3395   109310   60       1   19       21  2017-11-07 05:04:37              0\n",
       " 7085   152879   60       1   20       21  2017-11-09 12:12:21              0\n",
       " 8471    80522   60       1   20       21  2017-11-07 12:58:15              0\n",
       " 16284   90540   60       1   22       21  2017-11-08 23:41:17              0\n",
       " 18571     973   60       1   19       21  2017-11-07 08:04:53              0\n",
       " 24837   53023   60       1  192       21  2017-11-07 04:52:52              0\n",
       " 32928   22552   60       1   68       21  2017-11-07 06:17:37              0\n",
       " 33369    7595   60       1   37       21  2017-11-08 06:25:05              0\n",
       " 33856  244085   60       1   20       21  2017-11-08 04:00:55              0\n",
       " 36031  123980   60       1   19       21  2017-11-08 05:31:02              0\n",
       " 48514   40289   60       1   22       21  2017-11-09 13:29:35              0\n",
       " 55225  139917   60       1   10       21  2017-11-09 14:07:04              0\n",
       " 65752   40654   60       1   13       21  2017-11-09 09:08:54              1\n",
       " 70710  100020   60       1   22       21  2017-11-07 00:39:31              0\n",
       " 72700  124946   60       1   13       21  2017-11-08 05:03:45              0\n",
       " 81615  108852   60       1   10       21  2017-11-09 10:24:44              0\n",
       " 83533   14442   60       1   37       21  2017-11-09 01:26:50              0\n",
       " 84617  120740   60       1   10       21  2017-11-09 01:28:08              0\n",
       " 98446  113524   60       1   34       21  2017-11-09 11:22:50              0]"
      ]
     },
     "execution_count": 8,
     "metadata": {},
     "output_type": "execute_result"
    }
   ],
   "source": [
    "clean_data"
   ]
  },
  {
   "cell_type": "code",
   "execution_count": 9,
   "metadata": {},
   "outputs": [
    {
     "name": "stdout",
     "output_type": "stream",
     "text": [
      "<class 'pandas.core.frame.DataFrame'>\n",
      "Int64Index: 99546 entries, 5 to 98446\n",
      "Data columns (total 7 columns):\n",
      " #   Column         Non-Null Count  Dtype \n",
      "---  ------         --------------  ----- \n",
      " 0   ip             99546 non-null  int64 \n",
      " 1   app            99546 non-null  int64 \n",
      " 2   device         99546 non-null  int64 \n",
      " 3   os             99546 non-null  int64 \n",
      " 4   channel        99546 non-null  int64 \n",
      " 5   click_time     99546 non-null  object\n",
      " 6   is_attributed  99546 non-null  int64 \n",
      "dtypes: int64(6), object(1)\n",
      "memory usage: 6.1+ MB\n",
      "None\n"
     ]
    }
   ],
   "source": [
    "#  create a final_data to have my clean_data. (data which has >20% of click app)\n",
    "\n",
    "\n",
    "final_data=pd.concat(clean_data,axis=0)\n",
    "print (final_data.info())"
   ]
  },
  {
   "cell_type": "code",
   "execution_count": 10,
   "metadata": {},
   "outputs": [],
   "source": [
    "# plot the apps which have more then 20% clicks\n"
   ]
  },
  {
   "cell_type": "markdown",
   "metadata": {},
   "source": [
    "# 4. By using Pandas derive new features such as - 'day_of_week' , 'day_of_year' , 'month' , and 'hour' as float/int datatypes using the 'click_time' column . Add the newly derived columns in original dataset"
   ]
  },
  {
   "cell_type": "code",
   "execution_count": 11,
   "metadata": {},
   "outputs": [
    {
     "data": {
      "text/plain": [
       "0        2017-11-07 09:30:38\n",
       "1        2017-11-07 13:40:27\n",
       "2        2017-11-07 18:05:24\n",
       "3        2017-11-07 04:58:08\n",
       "4        2017-11-09 09:00:09\n",
       "                ...         \n",
       "99995    2017-11-09 13:25:41\n",
       "99996    2017-11-07 11:25:43\n",
       "99997    2017-11-08 11:38:42\n",
       "99998    2017-11-08 17:55:21\n",
       "99999    2017-11-07 14:32:27\n",
       "Name: click_time, Length: 100000, dtype: object"
      ]
     },
     "execution_count": 11,
     "metadata": {},
     "output_type": "execute_result"
    }
   ],
   "source": [
    "data['click_time'] # see what we have in the column click_time. and as we can see the dtpy is a object."
   ]
  },
  {
   "cell_type": "code",
   "execution_count": 12,
   "metadata": {},
   "outputs": [
    {
     "data": {
      "text/plain": [
       "5       2017-11-09 01:22:13\n",
       "9       2017-11-08 12:35:26\n",
       "10      2017-11-08 08:14:37\n",
       "11      2017-11-07 05:03:14\n",
       "12      2017-11-09 10:24:23\n",
       "                ...        \n",
       "72700   2017-11-08 05:03:45\n",
       "81615   2017-11-09 10:24:44\n",
       "83533   2017-11-09 01:26:50\n",
       "84617   2017-11-09 01:28:08\n",
       "98446   2017-11-09 11:22:50\n",
       "Name: click_time, Length: 99546, dtype: datetime64[ns]"
      ]
     },
     "execution_count": 12,
     "metadata": {},
     "output_type": "execute_result"
    }
   ],
   "source": [
    "pd.to_datetime(final_data['click_time']) # using the datetime from pandas labrary, convert the object type into datetime "
   ]
  },
  {
   "cell_type": "code",
   "execution_count": 13,
   "metadata": {},
   "outputs": [
    {
     "name": "stdout",
     "output_type": "stream",
     "text": [
      "<class 'pandas.core.frame.DataFrame'>\n",
      "Int64Index: 99546 entries, 5 to 98446\n",
      "Data columns (total 8 columns):\n",
      " #   Column              Non-Null Count  Dtype         \n",
      "---  ------              --------------  -----         \n",
      " 0   ip                  99546 non-null  int64         \n",
      " 1   app                 99546 non-null  int64         \n",
      " 2   device              99546 non-null  int64         \n",
      " 3   os                  99546 non-null  int64         \n",
      " 4   channel             99546 non-null  int64         \n",
      " 5   click_time          99546 non-null  object        \n",
      " 6   is_attributed       99546 non-null  int64         \n",
      " 7   convert_final_data  99546 non-null  datetime64[ns]\n",
      "dtypes: datetime64[ns](1), int64(6), object(1)\n",
      "memory usage: 6.8+ MB\n",
      "None\n"
     ]
    }
   ],
   "source": [
    "# create a variable call convert_final_data as datetime and add it into my final_data\n",
    "final_data['convert_final_data'] = pd.to_datetime(final_data['click_time'])\n",
    "print (final_data.info())"
   ]
  },
  {
   "cell_type": "code",
   "execution_count": 14,
   "metadata": {},
   "outputs": [
    {
     "name": "stdout",
     "output_type": "stream",
     "text": [
      "           ip  app  device  os  channel           click_time  is_attributed  \\\n",
      "5       93663    3       1  17      115  2017-11-09 01:22:13              0   \n",
      "9      143636    3       1  19      135  2017-11-08 12:35:26              0   \n",
      "10      73839    3       1  22      489  2017-11-08 08:14:37              0   \n",
      "11      34812    3       1  13      489  2017-11-07 05:03:14              0   \n",
      "12     114809    3       1  22      205  2017-11-09 10:24:23              0   \n",
      "...       ...  ...     ...  ..      ...                  ...            ...   \n",
      "72700  124946   60       1  13       21  2017-11-08 05:03:45              0   \n",
      "81615  108852   60       1  10       21  2017-11-09 10:24:44              0   \n",
      "83533   14442   60       1  37       21  2017-11-09 01:26:50              0   \n",
      "84617  120740   60       1  10       21  2017-11-09 01:28:08              0   \n",
      "98446  113524   60       1  34       21  2017-11-09 11:22:50              0   \n",
      "\n",
      "       convert_final_data  final_data_month  final_data_day  final_data_year  \n",
      "5     2017-11-09 01:22:13                11               9             2017  \n",
      "9     2017-11-08 12:35:26                11               8             2017  \n",
      "10    2017-11-08 08:14:37                11               8             2017  \n",
      "11    2017-11-07 05:03:14                11               7             2017  \n",
      "12    2017-11-09 10:24:23                11               9             2017  \n",
      "...                   ...               ...             ...              ...  \n",
      "72700 2017-11-08 05:03:45                11               8             2017  \n",
      "81615 2017-11-09 10:24:44                11               9             2017  \n",
      "83533 2017-11-09 01:26:50                11               9             2017  \n",
      "84617 2017-11-09 01:28:08                11               9             2017  \n",
      "98446 2017-11-09 11:22:50                11               9             2017  \n",
      "\n",
      "[99546 rows x 11 columns]\n",
      "<class 'pandas.core.frame.DataFrame'>\n",
      "Int64Index: 99546 entries, 5 to 98446\n",
      "Data columns (total 11 columns):\n",
      " #   Column              Non-Null Count  Dtype         \n",
      "---  ------              --------------  -----         \n",
      " 0   ip                  99546 non-null  int64         \n",
      " 1   app                 99546 non-null  int64         \n",
      " 2   device              99546 non-null  int64         \n",
      " 3   os                  99546 non-null  int64         \n",
      " 4   channel             99546 non-null  int64         \n",
      " 5   click_time          99546 non-null  object        \n",
      " 6   is_attributed       99546 non-null  int64         \n",
      " 7   convert_final_data  99546 non-null  datetime64[ns]\n",
      " 8   final_data_month    99546 non-null  int64         \n",
      " 9   final_data_day      99546 non-null  int64         \n",
      " 10  final_data_year     99546 non-null  int64         \n",
      "dtypes: datetime64[ns](1), int64(9), object(1)\n",
      "memory usage: 9.1+ MB\n"
     ]
    }
   ],
   "source": [
    "# now we have the final_data_year let's use the lambda and apply function from pandas labrary to extrate the day, month and\n",
    "# year in the numeical dtype.\n",
    "\n",
    "final_data['final_data_month'] = final_data['convert_final_data'].apply(lambda x: x.month)\n",
    "final_data['final_data_day'] = final_data['convert_final_data'].apply(lambda x: x.day)\n",
    "final_data['final_data_year'] = final_data['convert_final_data'].apply(lambda x: x.year)\n",
    "print(final_data)\n",
    "final_data.info()"
   ]
  },
  {
   "cell_type": "code",
   "execution_count": 15,
   "metadata": {},
   "outputs": [],
   "source": [
    "# As we can see, we have all data that we will use to do prediction the numerical type, so let's remove others columns\n",
    "# that is not usifull in our analyses.\n",
    "\n",
    "final_data = final_data.drop(['click_time','convert_final_data'],axis=1)"
   ]
  },
  {
   "cell_type": "code",
   "execution_count": 16,
   "metadata": {},
   "outputs": [
    {
     "name": "stdout",
     "output_type": "stream",
     "text": [
      "<class 'pandas.core.frame.DataFrame'>\n",
      "Int64Index: 99546 entries, 5 to 98446\n",
      "Data columns (total 9 columns):\n",
      " #   Column            Non-Null Count  Dtype\n",
      "---  ------            --------------  -----\n",
      " 0   ip                99546 non-null  int64\n",
      " 1   app               99546 non-null  int64\n",
      " 2   device            99546 non-null  int64\n",
      " 3   os                99546 non-null  int64\n",
      " 4   channel           99546 non-null  int64\n",
      " 5   is_attributed     99546 non-null  int64\n",
      " 6   final_data_month  99546 non-null  int64\n",
      " 7   final_data_day    99546 non-null  int64\n",
      " 8   final_data_year   99546 non-null  int64\n",
      "dtypes: int64(9)\n",
      "memory usage: 7.6 MB\n"
     ]
    }
   ],
   "source": [
    "final_data.info()"
   ]
  },
  {
   "cell_type": "markdown",
   "metadata": {},
   "source": [
    "# 5. Divide the data into training and testing subsets into 80:20 ratio(Train_data = 80% , Testing_data = 20%) and check the average download rates('is_attributed') for train and test data, scores should be comparable.**"
   ]
  },
  {
   "cell_type": "code",
   "execution_count": 17,
   "metadata": {},
   "outputs": [],
   "source": [
    "from sklearn.model_selection import train_test_split\n",
    "from sklearn import metrics\n",
    "from sklearn import preprocessing \n"
   ]
  },
  {
   "cell_type": "code",
   "execution_count": 18,
   "metadata": {},
   "outputs": [],
   "source": [
    "# let's create variable x and y where the y will be the dependent variable and x independent variable\n",
    "x=final_data.drop(['is_attributed'], axis=1)\n",
    "y=final_data['is_attributed']\n",
    "X_train,x_test,y_train,y_test=train_test_split(x,y,train_size=0.8,test_size=0.2,random_state=10)"
   ]
  },
  {
   "cell_type": "code",
   "execution_count": 19,
   "metadata": {},
   "outputs": [],
   "source": [
    "from sklearn.tree import DecisionTreeClassifier\n",
    "\n",
    "tree = DecisionTreeClassifier()\n",
    "tree.fit(X_train, y_train)\n",
    "y_pred_tree = tree.predict(x_test)"
   ]
  },
  {
   "cell_type": "code",
   "execution_count": 20,
   "metadata": {},
   "outputs": [
    {
     "name": "stdout",
     "output_type": "stream",
     "text": [
      "(79636, 8)\n",
      "(79636,)\n",
      "(19910, 8)\n",
      "(19910,)\n"
     ]
    }
   ],
   "source": [
    "print(X_train.shape)\n",
    "print (y_train.shape)\n",
    "print (x_test.shape)\n",
    "print (y_test.shape)"
   ]
  },
  {
   "cell_type": "code",
   "execution_count": 22,
   "metadata": {},
   "outputs": [
    {
     "name": "stdout",
     "output_type": "stream",
     "text": [
      "Decision tree classifier performance:\n",
      "Balanced accuracy: 0.71 - Geometric mean 0.65\n"
     ]
    }
   ],
   "source": [
    "from sklearn.metrics import balanced_accuracy_score\n",
    "from imblearn.metrics import geometric_mean_score\n",
    "\n",
    "print(\"Decision tree classifier performance:\")\n",
    "print(\n",
    "    f\"Balanced accuracy: {balanced_accuracy_score(y_test, y_pred_tree):.2f} - \"\n",
    "    f\"Geometric mean {geometric_mean_score(y_test, y_pred_tree):.2f}\")"
   ]
  },
  {
   "cell_type": "code",
   "execution_count": 23,
   "metadata": {},
   "outputs": [
    {
     "data": {
      "image/png": "[encoded data removed]",
      "text/plain": [
       "<Figure size 432x288 with 1 Axes>"
      ]
     },
     "metadata": {
      "needs_background": "light"
     },
     "output_type": "display_data"
    }
   ],
   "source": [
    "import seaborn as sns\n",
    "from sklearn.metrics import plot_confusion_matrix\n",
    "\n",
    "sns.set_context(\"poster\")\n",
    "\n",
    "disp = plot_confusion_matrix(tree, x_test, y_test, colorbar=False)\n",
    "_ = disp.ax_.set_title(\"Decision tree\")"
   ]
  },
  {
   "cell_type": "markdown",
   "metadata": {},
   "source": [
    "#  Apply XGBoostClassifier with default parameters on training data and make first 10 prediction for Test data. NOTE: Use y_pred = model.predict_proba(X_test) since we need probabilities to compute AUC.**"
   ]
  },
  {
   "cell_type": "code",
   "execution_count": 24,
   "metadata": {},
   "outputs": [],
   "source": [
    "from sklearn.tree import DecisionTreeClassifier\n",
    "import xgboost as xgb\n",
    "from sklearn.metrics import mean_squared_error\n",
    "from sklearn.metrics import classification_report,confusion_matrix\n",
    "\n"
   ]
  },
  {
   "cell_type": "code",
   "execution_count": 25,
   "metadata": {},
   "outputs": [
    {
     "name": "stdout",
     "output_type": "stream",
     "text": [
      "[18:09:55] WARNING: C:/Users/Administrator/workspace/xgboost-win64_release_1.3.0/src/learner.cc:541: \n",
      "Parameters: { criterion, min_samples_leaf } might not be used.\n",
      "\n",
      "  This may not be accurate due to some parameters are only used in language bindings but\n",
      "  passed down to XGBoost core.  Or some parameters are not used but slip through this\n",
      "  verification. Please open an issue if you find above cases.\n",
      "\n",
      "\n",
      "[18:09:55] WARNING: C:/Users/Administrator/workspace/xgboost-win64_release_1.3.0/src/learner.cc:1061: Starting in XGBoost 1.3.0, the default evaluation metric used with the objective 'binary:logistic' was changed from 'error' to 'logloss'. Explicitly set eval_metric if you'd like to restore the old behavior.\n"
     ]
    }
   ],
   "source": [
    "xgcl = xgb.XGBClassifier(n_estimators=10 ,criterion = 'gini', class_weight=None, max_depth = None, min_samples_leaf=1)\n",
    "xgcl.fit(X_train, y_train)\n",
    "y_pred = xgcl.predict(x_test)\n"
   ]
  },
  {
   "cell_type": "code",
   "execution_count": null,
   "metadata": {},
   "outputs": [],
   "source": []
  },
  {
   "cell_type": "code",
   "execution_count": 26,
   "metadata": {},
   "outputs": [
    {
     "name": "stdout",
     "output_type": "stream",
     "text": [
      "XGBClassifier classifier performance:\n",
      "Balanced accuracy: 0.58 - \n",
      "XGBClassifier classifier performance:\n",
      "Balanced accuracy: 0.58 - \n"
     ]
    }
   ],
   "source": [
    "print(\"XGBClassifier classifier performance:\")\n",
    "print(\n",
    "    f\"Balanced accuracy: {balanced_accuracy_score(y_test, y_pred):.2f} - \"\n",
    "    \n",
    ")\n",
    "print(\"XGBClassifier classifier performance:\")\n",
    "print(\n",
    "    f\"Balanced accuracy: {balanced_accuracy_score(y_test, y_pred):.2f} - \"\n",
    ")"
   ]
  },
  {
   "cell_type": "code",
   "execution_count": 27,
   "metadata": {},
   "outputs": [
    {
     "ename": "NameError",
     "evalue": "name 'balanced_bagging' is not defined",
     "output_type": "error",
     "traceback": [
      "\u001b[1;31m---------------------------------------------------------------------------\u001b[0m",
      "\u001b[1;31mNameError\u001b[0m                                 Traceback (most recent call last)",
      "\u001b[1;32m<ipython-input-27-a9969408b747>\u001b[0m in \u001b[0;36m<module>\u001b[1;34m\u001b[0m\n\u001b[0;32m      3\u001b[0m \u001b[0maxs\u001b[0m\u001b[1;33m[\u001b[0m\u001b[1;36m0\u001b[0m\u001b[1;33m]\u001b[0m\u001b[1;33m.\u001b[0m\u001b[0mset_title\u001b[0m\u001b[1;33m(\u001b[0m\u001b[1;34m\"XGBoost\"\u001b[0m\u001b[1;33m)\u001b[0m\u001b[1;33m\u001b[0m\u001b[1;33m\u001b[0m\u001b[0m\n\u001b[0;32m      4\u001b[0m \u001b[1;33m\u001b[0m\u001b[0m\n\u001b[1;32m----> 5\u001b[1;33m \u001b[0mplot_confusion_matrix\u001b[0m\u001b[1;33m(\u001b[0m\u001b[0mbalanced_bagging\u001b[0m\u001b[1;33m,\u001b[0m \u001b[0mx_test\u001b[0m\u001b[1;33m,\u001b[0m \u001b[0my_test\u001b[0m\u001b[1;33m,\u001b[0m \u001b[0max\u001b[0m\u001b[1;33m=\u001b[0m\u001b[0maxs\u001b[0m\u001b[1;33m[\u001b[0m\u001b[1;36m1\u001b[0m\u001b[1;33m]\u001b[0m\u001b[1;33m,\u001b[0m \u001b[0mcolorbar\u001b[0m\u001b[1;33m=\u001b[0m\u001b[1;32mFalse\u001b[0m\u001b[1;33m)\u001b[0m\u001b[1;33m\u001b[0m\u001b[1;33m\u001b[0m\u001b[0m\n\u001b[0m\u001b[0;32m      6\u001b[0m \u001b[0maxs\u001b[0m\u001b[1;33m[\u001b[0m\u001b[1;36m1\u001b[0m\u001b[1;33m]\u001b[0m\u001b[1;33m.\u001b[0m\u001b[0mset_title\u001b[0m\u001b[1;33m(\u001b[0m\u001b[1;34m\"Balanced XGBoost\"\u001b[0m\u001b[1;33m)\u001b[0m\u001b[1;33m\u001b[0m\u001b[1;33m\u001b[0m\u001b[0m\n\u001b[0;32m      7\u001b[0m \u001b[1;33m\u001b[0m\u001b[0m\n",
      "\u001b[1;31mNameError\u001b[0m: name 'balanced_bagging' is not defined"
     ]
    },
    {
     "data": {
      "image/png": "[encoded data removed]",
      "text/plain": [
       "<Figure size 720x360 with 2 Axes>"
      ]
     },
     "metadata": {
      "needs_background": "light"
     },
     "output_type": "display_data"
    }
   ],
   "source": [
    "fig, axs = plt.subplots(ncols=2, figsize=(10, 5))\n",
    "plot_confusion_matrix(xgcl, x_test, y_test, ax=axs[0], colorbar=False)\n",
    "axs[0].set_title(\"XGBoost\")\n",
    "\n",
    "plot_confusion_matrix(balanced_bagging, x_test, y_test, ax=axs[1], colorbar=False)\n",
    "axs[1].set_title(\"Balanced XGBoost\")\n",
    "\n",
    "fig.tight_layout()"
   ]
  },
  {
   "cell_type": "code",
   "execution_count": 28,
   "metadata": {},
   "outputs": [],
   "source": [
    "# Random forest is another popular ensemble method and it is usually\n",
    "# outperforming bagging. Here, we used a vanilla random forest and its balanced\n",
    "# counterpart in which each bootstrap sample is balanced.\n",
    "\n",
    "# %%\n",
    "from sklearn.ensemble import RandomForestClassifier\n",
    "from imblearn.ensemble import BalancedRandomForestClassifier\n",
    "\n",
    "rf = RandomForestClassifier(n_estimators=10, random_state=0)\n",
    "brf = BalancedRandomForestClassifier(n_estimators=10, random_state=0)\n",
    "\n",
    "rf.fit(X_train, y_train)\n",
    "brf.fit(X_train, y_train)\n",
    "\n",
    "y_pred_rf = rf.predict(x_test)\n",
    "y_pred_brf = brf.predict(x_test)"
   ]
  },
  {
   "cell_type": "code",
   "execution_count": 29,
   "metadata": {},
   "outputs": [
    {
     "name": "stdout",
     "output_type": "stream",
     "text": [
      "Random Forest classifier performance:\n",
      "Balanced accuracy: 0.56 - Geometric mean 0.34\n",
      "Balanced Random Forest classifier performance:\n",
      "Balanced accuracy: 0.89 - Geometric mean 0.89\n"
     ]
    }
   ],
   "source": [
    "print(\"Random Forest classifier performance:\")\n",
    "print(\n",
    "    f\"Balanced accuracy: {balanced_accuracy_score(y_test, y_pred_rf):.2f} - \"\n",
    "    f\"Geometric mean {geometric_mean_score(y_test, y_pred_rf):.2f}\"\n",
    ")\n",
    "print(\"Balanced Random Forest classifier performance:\")\n",
    "print(\n",
    "    f\"Balanced accuracy: {balanced_accuracy_score(y_test, y_pred_brf):.2f} - \"\n",
    "    f\"Geometric mean {geometric_mean_score(y_test, y_pred_brf):.2f}\")"
   ]
  },
  {
   "cell_type": "markdown",
   "metadata": {},
   "source": [
    "\n"
   ]
  },
  {
   "cell_type": "code",
   "execution_count": 30,
   "metadata": {},
   "outputs": [
    {
     "name": "stdout",
     "output_type": "stream",
     "text": [
      "[18:10:06] WARNING: C:/Users/Administrator/workspace/xgboost-win64_release_1.3.0/src/learner.cc:541: \n",
      "Parameters: { criterion, min_samples_leaf } might not be used.\n",
      "\n",
      "  This may not be accurate due to some parameters are only used in language bindings but\n",
      "  passed down to XGBoost core.  Or some parameters are not used but slip through this\n",
      "  verification. Please open an issue if you find above cases.\n",
      "\n",
      "\n",
      "[18:10:06] WARNING: C:/Users/Administrator/workspace/xgboost-win64_release_1.3.0/src/learner.cc:1061: Starting in XGBoost 1.3.0, the default evaluation metric used with the objective 'binary:logistic' was changed from 'error' to 'logloss'. Explicitly set eval_metric if you'd like to restore the old behavior.\n"
     ]
    }
   ],
   "source": [
    "xgcl = xgb.XGBClassifier(n_estimators=10 ,criterion = 'gini', class_weight=None, max_depth = None, min_samples_leaf=1)\n",
    "xgcl.fit(X_train, y_train)\n",
    "y_pred = xgcl.predict_proba(x_test)"
   ]
  },
  {
   "cell_type": "code",
   "execution_count": 31,
   "metadata": {},
   "outputs": [
    {
     "name": "stdout",
     "output_type": "stream",
     "text": [
      "[18:10:07] WARNING: C:/Users/Administrator/workspace/xgboost-win64_release_1.3.0/src/learner.cc:541: \n",
      "Parameters: { criterion, min_samples_leaf, scale_pos_weight } might not be used.\n",
      "\n",
      "  This may not be accurate due to some parameters are only used in language bindings but\n",
      "  passed down to XGBoost core.  Or some parameters are not used but slip through this\n",
      "  verification. Please open an issue if you find above cases.\n",
      "\n",
      "\n",
      "[18:10:07] WARNING: C:/Users/Administrator/workspace/xgboost-win64_release_1.3.0/src/learner.cc:1061: Starting in XGBoost 1.3.0, the default evaluation metric used with the objective 'multi:softprob' was changed from 'merror' to 'mlogloss'. Explicitly set eval_metric if you'd like to restore the old behavior.\n",
      "[1.12031365 5.75806083] [0.97740114 0.02259888]\n",
      "[1.7373078  4.42546234] [0.97740114 0.02259888]\n",
      "[2.36833522 0.04356792] [0.97740114 0.02259888]\n",
      "[0.87305123 4.71438583] [0.97740114 0.02259888]\n",
      "[-0.66246781  2.17571724] [0.44066435 0.55933565]\n",
      "[0.74285061 1.46351659] [0.97740114 0.02259888]\n",
      "[-4.07989383  3.57150086] [0.97740114 0.02259888]\n",
      "[3.54934659 0.6925054 ] [0.97740114 0.02259888]\n",
      "[2.49913075 1.23133799] [0.97740114 0.02259888]\n",
      "[1.9263585  4.15243012] [0.97740114 0.02259888]\n"
     ]
    }
   ],
   "source": [
    "from sklearn.datasets import make_blobs\n",
    "X, y = make_blobs(n_samples=10, centers=3, n_features=2,random_state=0)\n",
    "\n",
    "# ===================\n",
    "\n",
    "xgcl.fit(X, y) # traing data\n",
    "\n",
    "#=================\n",
    "\n",
    "for i in range(10):\n",
    "    print(X[i], y_pred[i]) # prediction for the 10 first element \n",
    "  "
   ]
  },
  {
   "cell_type": "markdown",
   "metadata": {},
   "source": [
    "# On evaluating the predictions made by the model what is the AUC/ROC score with default hyperparameters"
   ]
  },
  {
   "cell_type": "code",
   "execution_count": 32,
   "metadata": {},
   "outputs": [
    {
     "name": "stdout",
     "output_type": "stream",
     "text": [
      "Mean cross-validation score: nan\n",
      "Accuracy: nan% (nan%)\n"
     ]
    }
   ],
   "source": [
    "from sklearn.model_selection import cross_val_score, KFold\n",
    "scores = cross_val_score(xgcl, X_train, y_train, cv=5)\n",
    "print(\"Mean cross-validation score: %.2f\" % scores.mean())\n",
    "\n",
    "print(\"Accuracy: %.2f%% (%.2f%%)\" % (scores.mean()*100, scores.std()*100))"
   ]
  },
  {
   "cell_type": "markdown",
   "metadata": {},
   "source": [
    "# 8. Compute feature importance score and name the top 5 features/columns "
   ]
  },
  {
   "cell_type": "code",
   "execution_count": 33,
   "metadata": {},
   "outputs": [
    {
     "data": {
      "image/png": "[encoded data removed]",
      "text/plain": [
       "<Figure size 432x288 with 1 Axes>"
      ]
     },
     "metadata": {
      "needs_background": "light"
     },
     "output_type": "display_data"
    }
   ],
   "source": [
    "import xgboost\n",
    "# Plot the top 7 features\n",
    "xgboost.plot_importance(xgcl, max_num_features=5)\n",
    "# Show the plot\n",
    "plt.show()"
   ]
  },
  {
   "cell_type": "code",
   "execution_count": null,
   "metadata": {},
   "outputs": [],
   "source": []
  },
  {
   "cell_type": "code",
   "execution_count": 34,
   "metadata": {},
   "outputs": [
    {
     "name": "stdout",
     "output_type": "stream",
     "text": [
      "[[1.  0. ]\n",
      " [1.  0. ]\n",
      " [1.  0. ]\n",
      " [1.  0. ]\n",
      " [0.8 0.2]\n",
      " [1.  0. ]\n",
      " [1.  0. ]\n",
      " [1.  0. ]\n",
      " [1.  0. ]\n",
      " [1.  0. ]]\n"
     ]
    }
   ],
   "source": [
    "test_prob = rf.predict_proba(x_test)\n",
    "print(test_prob[:10])"
   ]
  },
  {
   "cell_type": "code",
   "execution_count": 58,
   "metadata": {},
   "outputs": [
    {
     "data": {
      "image/png": "[encoded data removed]",
      "text/plain": [
       "<Figure size 432x288 with 1 Axes>"
      ]
     },
     "metadata": {
      "needs_background": "light"
     },
     "output_type": "display_data"
    }
   ],
   "source": [
    "\n",
    "import scikitplot as skp\n",
    "\n",
    "y_predb=rf.predict_proba(x_test)\n",
    "skp.metrics.plot_roc_curve(y_test,y_predb) #(actual/orginal labels, predicted labels)\n",
    "plt.show()"
   ]
  },
  {
   "cell_type": "code",
   "execution_count": 38,
   "metadata": {},
   "outputs": [
    {
     "name": "stdout",
     "output_type": "stream",
     "text": [
      "Elapsed time to compute the importances: 0.003 seconds\n"
     ]
    }
   ],
   "source": [
    "import time\n",
    "import numpy as np\n",
    "\n",
    "start_time = time.time()\n",
    "importances = rf.feature_importances_\n",
    "std = np.std([\n",
    "    tree.feature_importances_ for tree in rf.estimators_], axis=0)\n",
    "elapsed_time = time.time() - start_time\n",
    "\n",
    "print(f\"Elapsed time to compute the importances: \"\n",
    "      f\"{elapsed_time:.3f} seconds\")"
   ]
  },
  {
   "cell_type": "code",
   "execution_count": 41,
   "metadata": {},
   "outputs": [],
   "source": [
    "#feature_names=final_data.columns\n",
    "feature_names=(['ip', 'app', 'device', 'os', 'channel', 'is_attributed',\n",
    "       'final_data_month', 'final_data_day', 'final_data_year'])"
   ]
  },
  {
   "cell_type": "code",
   "execution_count": 42,
   "metadata": {},
   "outputs": [
    {
     "ename": "ValueError",
     "evalue": "Length of passed values is 8, index implies 9.",
     "output_type": "error",
     "traceback": [
      "\u001b[1;31m---------------------------------------------------------------------------\u001b[0m",
      "\u001b[1;31mValueError\u001b[0m                                Traceback (most recent call last)",
      "\u001b[1;32m<ipython-input-42-5f9f5851011e>\u001b[0m in \u001b[0;36m<module>\u001b[1;34m\u001b[0m\n\u001b[0;32m      1\u001b[0m \u001b[1;32mimport\u001b[0m \u001b[0mpandas\u001b[0m \u001b[1;32mas\u001b[0m \u001b[0mpd\u001b[0m\u001b[1;33m\u001b[0m\u001b[1;33m\u001b[0m\u001b[0m\n\u001b[1;32m----> 2\u001b[1;33m \u001b[0mforest_importances\u001b[0m \u001b[1;33m=\u001b[0m \u001b[0mpd\u001b[0m\u001b[1;33m.\u001b[0m\u001b[0mSeries\u001b[0m\u001b[1;33m(\u001b[0m\u001b[0mimportances\u001b[0m\u001b[1;33m,\u001b[0m \u001b[0mindex\u001b[0m\u001b[1;33m=\u001b[0m\u001b[0mfeature_names\u001b[0m\u001b[1;33m)\u001b[0m\u001b[1;33m\u001b[0m\u001b[1;33m\u001b[0m\u001b[0m\n\u001b[0m\u001b[0;32m      3\u001b[0m \u001b[1;33m\u001b[0m\u001b[0m\n\u001b[0;32m      4\u001b[0m \u001b[0mfig\u001b[0m\u001b[1;33m,\u001b[0m \u001b[0max\u001b[0m \u001b[1;33m=\u001b[0m \u001b[0mplt\u001b[0m\u001b[1;33m.\u001b[0m\u001b[0msubplots\u001b[0m\u001b[1;33m(\u001b[0m\u001b[1;33m)\u001b[0m\u001b[1;33m\u001b[0m\u001b[1;33m\u001b[0m\u001b[0m\n\u001b[0;32m      5\u001b[0m \u001b[0mforest_importances\u001b[0m\u001b[1;33m.\u001b[0m\u001b[0mplot\u001b[0m\u001b[1;33m.\u001b[0m\u001b[0mbar\u001b[0m\u001b[1;33m(\u001b[0m\u001b[0myerr\u001b[0m\u001b[1;33m=\u001b[0m\u001b[0mstd\u001b[0m\u001b[1;33m,\u001b[0m \u001b[0max\u001b[0m\u001b[1;33m=\u001b[0m\u001b[0max\u001b[0m\u001b[1;33m)\u001b[0m\u001b[1;33m\u001b[0m\u001b[1;33m\u001b[0m\u001b[0m\n",
      "\u001b[1;32m~\\anaconda3\\lib\\site-packages\\pandas\\core\\series.py\u001b[0m in \u001b[0;36m__init__\u001b[1;34m(self, data, index, dtype, name, copy, fastpath)\u001b[0m\n\u001b[0;32m    311\u001b[0m                 \u001b[1;32mtry\u001b[0m\u001b[1;33m:\u001b[0m\u001b[1;33m\u001b[0m\u001b[1;33m\u001b[0m\u001b[0m\n\u001b[0;32m    312\u001b[0m                     \u001b[1;32mif\u001b[0m \u001b[0mlen\u001b[0m\u001b[1;33m(\u001b[0m\u001b[0mindex\u001b[0m\u001b[1;33m)\u001b[0m \u001b[1;33m!=\u001b[0m \u001b[0mlen\u001b[0m\u001b[1;33m(\u001b[0m\u001b[0mdata\u001b[0m\u001b[1;33m)\u001b[0m\u001b[1;33m:\u001b[0m\u001b[1;33m\u001b[0m\u001b[1;33m\u001b[0m\u001b[0m\n\u001b[1;32m--> 313\u001b[1;33m                         raise ValueError(\n\u001b[0m\u001b[0;32m    314\u001b[0m                             \u001b[1;34mf\"Length of passed values is {len(data)}, \"\u001b[0m\u001b[1;33m\u001b[0m\u001b[1;33m\u001b[0m\u001b[0m\n\u001b[0;32m    315\u001b[0m                             \u001b[1;34mf\"index implies {len(index)}.\"\u001b[0m\u001b[1;33m\u001b[0m\u001b[1;33m\u001b[0m\u001b[0m\n",
      "\u001b[1;31mValueError\u001b[0m: Length of passed values is 8, index implies 9."
     ]
    }
   ],
   "source": [
    "import pandas as pd\n",
    "forest_importances = pd.Series(importances, index=feature_names)\n",
    "\n",
    "fig, ax = plt.subplots()\n",
    "forest_importances.plot.bar(yerr=std, ax=ax)\n",
    "ax.set_title(\"Feature importances using MDI\")\n",
    "ax.set_ylabel(\"Mean decrease in impurity\")\n",
    "fig.tight_layout()"
   ]
  },
  {
   "cell_type": "code",
   "execution_count": null,
   "metadata": {},
   "outputs": [],
   "source": []
  },
  {
   "cell_type": "markdown",
   "metadata": {},
   "source": [
    "The XGBoost  model tells us that the ip is the most important feature of the others"
   ]
  },
  {
   "cell_type": "code",
   "execution_count": 44,
   "metadata": {},
   "outputs": [
    {
     "name": "stdout",
     "output_type": "stream",
     "text": [
      "Elapsed time to compute the importances: 2.368 seconds\n"
     ]
    },
    {
     "ename": "ValueError",
     "evalue": "Length of passed values is 8, index implies 9.",
     "output_type": "error",
     "traceback": [
      "\u001b[1;31m---------------------------------------------------------------------------\u001b[0m",
      "\u001b[1;31mValueError\u001b[0m                                Traceback (most recent call last)",
      "\u001b[1;32m<ipython-input-44-50c185738f1a>\u001b[0m in \u001b[0;36m<module>\u001b[1;34m\u001b[0m\n\u001b[0;32m      8\u001b[0m       f\"{elapsed_time:.3f} seconds\")\n\u001b[0;32m      9\u001b[0m \u001b[1;33m\u001b[0m\u001b[0m\n\u001b[1;32m---> 10\u001b[1;33m \u001b[0mforest_importances\u001b[0m \u001b[1;33m=\u001b[0m \u001b[0mpd\u001b[0m\u001b[1;33m.\u001b[0m\u001b[0mSeries\u001b[0m\u001b[1;33m(\u001b[0m\u001b[0mresult\u001b[0m\u001b[1;33m.\u001b[0m\u001b[0mimportances_mean\u001b[0m\u001b[1;33m,\u001b[0m \u001b[0mindex\u001b[0m\u001b[1;33m=\u001b[0m\u001b[0mfeature_names\u001b[0m\u001b[1;33m)\u001b[0m\u001b[1;33m\u001b[0m\u001b[1;33m\u001b[0m\u001b[0m\n\u001b[0m",
      "\u001b[1;32m~\\anaconda3\\lib\\site-packages\\pandas\\core\\series.py\u001b[0m in \u001b[0;36m__init__\u001b[1;34m(self, data, index, dtype, name, copy, fastpath)\u001b[0m\n\u001b[0;32m    311\u001b[0m                 \u001b[1;32mtry\u001b[0m\u001b[1;33m:\u001b[0m\u001b[1;33m\u001b[0m\u001b[1;33m\u001b[0m\u001b[0m\n\u001b[0;32m    312\u001b[0m                     \u001b[1;32mif\u001b[0m \u001b[0mlen\u001b[0m\u001b[1;33m(\u001b[0m\u001b[0mindex\u001b[0m\u001b[1;33m)\u001b[0m \u001b[1;33m!=\u001b[0m \u001b[0mlen\u001b[0m\u001b[1;33m(\u001b[0m\u001b[0mdata\u001b[0m\u001b[1;33m)\u001b[0m\u001b[1;33m:\u001b[0m\u001b[1;33m\u001b[0m\u001b[1;33m\u001b[0m\u001b[0m\n\u001b[1;32m--> 313\u001b[1;33m                         raise ValueError(\n\u001b[0m\u001b[0;32m    314\u001b[0m                             \u001b[1;34mf\"Length of passed values is {len(data)}, \"\u001b[0m\u001b[1;33m\u001b[0m\u001b[1;33m\u001b[0m\u001b[0m\n\u001b[0;32m    315\u001b[0m                             \u001b[1;34mf\"index implies {len(index)}.\"\u001b[0m\u001b[1;33m\u001b[0m\u001b[1;33m\u001b[0m\u001b[0m\n",
      "\u001b[1;31mValueError\u001b[0m: Length of passed values is 8, index implies 9."
     ]
    }
   ],
   "source": [
    "\n",
    "from sklearn.inspection import permutation_importance\n",
    "\n",
    "start_time = time.time()\n",
    "result = permutation_importance(\n",
    "    rf, x_test, y_test, n_repeats=10, random_state=42, n_jobs=2)\n",
    "elapsed_time = time.time() - start_time\n",
    "print(f\"Elapsed time to compute the importances: \"\n",
    "      f\"{elapsed_time:.3f} seconds\")\n",
    "\n",
    "forest_importances = pd.Series(result.importances_mean, index=feature_names)"
   ]
  },
  {
   "cell_type": "code",
   "execution_count": 45,
   "metadata": {},
   "outputs": [
    {
     "ename": "NameError",
     "evalue": "name 'forest_importances' is not defined",
     "output_type": "error",
     "traceback": [
      "\u001b[1;31m---------------------------------------------------------------------------\u001b[0m",
      "\u001b[1;31mNameError\u001b[0m                                 Traceback (most recent call last)",
      "\u001b[1;32m<ipython-input-45-2e3807852b03>\u001b[0m in \u001b[0;36m<module>\u001b[1;34m\u001b[0m\n\u001b[0;32m      1\u001b[0m \u001b[0mfig\u001b[0m\u001b[1;33m,\u001b[0m \u001b[0max\u001b[0m \u001b[1;33m=\u001b[0m \u001b[0mplt\u001b[0m\u001b[1;33m.\u001b[0m\u001b[0msubplots\u001b[0m\u001b[1;33m(\u001b[0m\u001b[1;33m)\u001b[0m\u001b[1;33m\u001b[0m\u001b[1;33m\u001b[0m\u001b[0m\n\u001b[1;32m----> 2\u001b[1;33m \u001b[0mforest_importances\u001b[0m\u001b[1;33m.\u001b[0m\u001b[0mplot\u001b[0m\u001b[1;33m.\u001b[0m\u001b[0mbar\u001b[0m\u001b[1;33m(\u001b[0m\u001b[0myerr\u001b[0m\u001b[1;33m=\u001b[0m\u001b[0mresult\u001b[0m\u001b[1;33m.\u001b[0m\u001b[0mimportances_std\u001b[0m\u001b[1;33m,\u001b[0m \u001b[0max\u001b[0m\u001b[1;33m=\u001b[0m\u001b[0max\u001b[0m\u001b[1;33m)\u001b[0m\u001b[1;33m\u001b[0m\u001b[1;33m\u001b[0m\u001b[0m\n\u001b[0m\u001b[0;32m      3\u001b[0m \u001b[0max\u001b[0m\u001b[1;33m.\u001b[0m\u001b[0mset_title\u001b[0m\u001b[1;33m(\u001b[0m\u001b[1;34m\"Feature importances using permutation on full model\"\u001b[0m\u001b[1;33m)\u001b[0m\u001b[1;33m\u001b[0m\u001b[1;33m\u001b[0m\u001b[0m\n\u001b[0;32m      4\u001b[0m \u001b[0max\u001b[0m\u001b[1;33m.\u001b[0m\u001b[0mset_ylabel\u001b[0m\u001b[1;33m(\u001b[0m\u001b[1;34m\"Mean accuracy decrease\"\u001b[0m\u001b[1;33m)\u001b[0m\u001b[1;33m\u001b[0m\u001b[1;33m\u001b[0m\u001b[0m\n\u001b[0;32m      5\u001b[0m \u001b[0mfig\u001b[0m\u001b[1;33m.\u001b[0m\u001b[0mtight_layout\u001b[0m\u001b[1;33m(\u001b[0m\u001b[1;33m)\u001b[0m\u001b[1;33m\u001b[0m\u001b[1;33m\u001b[0m\u001b[0m\n",
      "\u001b[1;31mNameError\u001b[0m: name 'forest_importances' is not defined"
     ]
    },
    {
     "data": {
      "image/png": "[encoded data removed]",
      "text/plain": [
       "<Figure size 432x288 with 1 Axes>"
      ]
     },
     "metadata": {
      "needs_background": "light"
     },
     "output_type": "display_data"
    }
   ],
   "source": [
    "fig, ax = plt.subplots()\n",
    "forest_importances.plot.bar(yerr=result.importances_std, ax=ax)\n",
    "ax.set_title(\"Feature importances using permutation on full model\")\n",
    "ax.set_ylabel(\"Mean accuracy decrease\")\n",
    "fig.tight_layout()\n",
    "plt.show()"
   ]
  },
  {
   "cell_type": "code",
   "execution_count": 57,
   "metadata": {},
   "outputs": [
    {
     "name": "stdout",
     "output_type": "stream",
     "text": [
      "Feature: 0, Score: 0.42202\n",
      "Feature: 1, Score: 0.16064\n",
      "Feature: 2, Score: 0.15167\n",
      "Feature: 3, Score: 0.13058\n",
      "Feature: 4, Score: 0.08115\n"
     ]
    },
    {
     "data": {
      "image/png": "[encoded data removed]",
      "text/plain": [
       "<Figure size 432x288 with 1 Axes>"
      ]
     },
     "metadata": {
      "needs_background": "light"
     },
     "output_type": "display_data"
    }
   ],
   "source": [
    "# Random Forest classifier feature importance\n",
    "from sklearn.datasets import make_classification\n",
    "from sklearn.ensemble import RandomForestClassifier\n",
    "from matplotlib import pyplot\n",
    "\n",
    "importance = rf.feature_importances_\n",
    "importance.sort()\n",
    "importance = importance[::-1]\n",
    "importance = importance[:5]\n",
    "# summarize feature importance\n",
    "for i,v in enumerate(importance):\n",
    "\tprint('Feature: %0d, Score: %.5f' % (i,v))\n",
    "# plot feature importance\n",
    "pyplot.bar([x for x in range(len(importance))], importance)\n",
    "pyplot.show()"
   ]
  },
  {
   "cell_type": "code",
   "execution_count": null,
   "metadata": {},
   "outputs": [],
   "source": [
    "importance[:5]"
   ]
  },
  {
   "cell_type": "code",
   "execution_count": null,
   "metadata": {},
   "outputs": [],
   "source": [
    "# XGBoost classifier feature importance\n",
    "from sklearn.datasets import make_classification\n",
    "from xgboost import XGBClassifier\n",
    "from matplotlib import pyplot\n",
    "\n",
    "importance = xgcl.feature_importances_\n",
    "# summarize feature importance\n",
    "for i,v in enumerate(importance):\n",
    "\tprint('Feature: %0d, Score: %.5f' % (i,v))\n",
    "# plot feature importance\n",
    "pyplot.bar([x for x in range(len(importance))], importance)\n",
    "pyplot.show()"
   ]
  },
  {
   "cell_type": "markdown",
   "metadata": {},
   "source": [
    "# Apply BaggingClassifier with base_estimator LogisticRegression and compute AUC/ROC score."
   ]
  },
  {
   "cell_type": "code",
   "execution_count": null,
   "metadata": {},
   "outputs": [],
   "source": [
    "from sklearn.ensemble import BaggingClassifier\n",
    "from imblearn.ensemble import BalancedBaggingClassifier\n",
    "from sklearn.pipeline import make_pipeline\n",
    "from sklearn.preprocessing import StandardScaler\n",
    "from sklearn.linear_model import LogisticRegression\n",
    "#====================================\n",
    "\n",
    "pipeline = make_pipeline(StandardScaler(), \n",
    "                        LogisticRegression(random_state=1))\n",
    "#=========================================\n",
    "\n",
    "bagging = BaggingClassifier(base_estimator=pipeline, random_state=0)\n",
    "balanced_bagging = BalancedBaggingClassifier(base_estimator=pipeline, random_state=0)\n",
    "\n",
    "bagging.fit(X_train, y_train)\n",
    "balanced_bagging.fit(X_train, y_train)\n",
    "\n",
    "y_pred_bc = bagging.predict(x_test)\n",
    "y_pred_bbc = balanced_bagging.predict(x_test)"
   ]
  },
  {
   "cell_type": "code",
   "execution_count": null,
   "metadata": {},
   "outputs": [],
   "source": [
    "print(\"Bagging classifier performance:\")\n",
    "print(\n",
    "    f\"Balanced accuracy: {balanced_accuracy_score(y_test, y_pred_bc):.2f} - \"\n",
    "    f\"Geometric mean {geometric_mean_score(y_test, y_pred_bc):.2f}\"\n",
    ")\n",
    "print(\"Balanced Bagging classifier performance:\")\n",
    "print(\n",
    "    f\"Balanced accuracy: {balanced_accuracy_score(y_test, y_pred_bbc):.2f} - \"\n",
    "    f\"Geometric mean {geometric_mean_score(y_test, y_pred_bbc):.2f}\"\n",
    ")\n"
   ]
  },
  {
   "cell_type": "markdown",
   "metadata": {},
   "source": [
    "# On the basis of AUC/ROC score which one will you choose from BaggingClassifier and XGBoostClassifier and why?What does AUC/ROC score signifies?"
   ]
  },
  {
   "cell_type": "code",
   "execution_count": null,
   "metadata": {},
   "outputs": [],
   "source": [
    "from sklearn.model_selection import cross_val_score, KFold"
   ]
  },
  {
   "cell_type": "code",
   "execution_count": null,
   "metadata": {},
   "outputs": [],
   "source": [
    "scores = cross_val_score(xgcl, X_train, y_train, cv=5)\n",
    "print(\"Mean cross-validation score: %.2f\" % scores.mean())\n",
    "\n",
    "print(\"Accuracy for XGBoostClassifier: %.2f%% (%.2f%%)\" % (scores.mean()*100, scores.std()*100))\n",
    "\n",
    "\n",
    "#==========================================\n",
    "scores1 = cross_val_score(bagging, X_train, y_train, cv=5)\n",
    "print(\"Mean cross-validation score: %.2f\" % scores1.mean())\n",
    "\n",
    "print(\"Accuracy for BaggingClassifier : %.2f%% (%.2f%%)\" % (scores1.mean()*100, scores1.std()*100))\n"
   ]
  },
  {
   "cell_type": "markdown",
   "metadata": {},
   "source": [
    "# On the basis of AUC/ROC score which one will you choose from BaggingClassifier and XGBoostClassifier and why?What does AUC/ROC score signifies?"
   ]
  },
  {
   "cell_type": "markdown",
   "metadata": {},
   "source": [
    "If I look at the result for my AUC/ROC in BaggingClassifier and XGBossClassifier, the result that I got is approximately the same, and I can not take a good conclusion about with one I should consider better because my data was unbalanced and for this reason, my score is approximately one. As we can see, the accuracy is 99.80% for XgBoost and 99.81 for Bagging. This is a really good prediction, but we should not consider it before doing more research on data processing like, for example, using method enough to improve data unbalance or training data with less sample"
   ]
  },
  {
   "cell_type": "markdown",
   "metadata": {},
   "source": [
    "# What is the accuracy for BaggingClassifier and XGBoostClassifier?()"
   ]
  },
  {
   "cell_type": "markdown",
   "metadata": {},
   "source": [
    "The accuracy for XgBoost is 99.80% and for Bagging is 99.81 "
   ]
  },
  {
   "cell_type": "code",
   "execution_count": null,
   "metadata": {},
   "outputs": [],
   "source": []
  }
 ],
 "metadata": {
  "kernelspec": {
   "display_name": "Python 3",
   "language": "python",
   "name": "python3"
  },
  "language_info": {
   "codemirror_mode": {
    "name": "ipython",
    "version": 3
   },
   "file_extension": ".py",
   "mimetype": "text/x-python",
   "name": "python",
   "nbconvert_exporter": "python",
   "pygments_lexer": "ipython3",
   "version": "3.8.5"
  }
 },
 "nbformat": 4,
 "nbformat_minor": 4
}
